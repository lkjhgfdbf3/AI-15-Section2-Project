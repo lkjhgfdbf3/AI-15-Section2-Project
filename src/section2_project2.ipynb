{
  "nbformat": 4,
  "nbformat_minor": 0,
  "metadata": {
    "colab": {
      "provenance": [],
      "collapsed_sections": [],
      "authorship_tag": "ABX9TyM3Ag9MuenVCK0S8utFLalx",
      "include_colab_link": true
    },
    "kernelspec": {
      "name": "python3",
      "display_name": "Python 3"
    },
    "language_info": {
      "name": "python"
    }
  },
  "cells": [
    {
      "cell_type": "markdown",
      "metadata": {
        "id": "view-in-github",
        "colab_type": "text"
      },
      "source": [
        "<a href=\"https://colab.research.google.com/github/lkjhgfdbf3/AI-15-Section2-Project/blob/main/src/section2_project2.ipynb\" target=\"_parent\"><img src=\"https://colab.research.google.com/assets/colab-badge.svg\" alt=\"Open In Colab\"/></a>"
      ]
    },
    {
      "cell_type": "code",
      "execution_count": null,
      "metadata": {
        "id": "5x3H03BYm0uM"
      },
      "outputs": [],
      "source": [
        "\n",
        "\n",
        "import pandas as pd\n",
        "import numpy as np\n",
        "import matplotlib.pyplot as plt"
      ]
    },
    {
      "cell_type": "code",
      "source": [
        "df_inst = pd.read_csv(\"/content/Installation_Status.csv\",encoding='utf-8')\n",
        "df_iss = pd.read_csv(\"/content/Issuance_information.csv\",encoding='utf-8')"
      ],
      "metadata": {
        "id": "y45PpFlknAar"
      },
      "execution_count": null,
      "outputs": []
    },
    {
      "cell_type": "code",
      "source": [
        "df_inst"
      ],
      "metadata": {
        "colab": {
          "base_uri": "https://localhost:8080/",
          "height": 814
        },
        "id": "cG6Ybjf_nTod",
        "outputId": "0bfea390-fa2f-48c9-f5de-de321c334796"
      },
      "execution_count": null,
      "outputs": [
        {
          "output_type": "execute_result",
          "data": {
            "text/plain": [
              "      Unnamed: 0  관리번호         관리기관명          발급기명  \\\n",
              "0              0   101     서울특별시 종로구  종로구청 부동산정보과1   \n",
              "1              1   102     서울특별시 종로구  종로구청 부동산정보과2   \n",
              "2              2   103     서울특별시 종로구      종로구청 상황실   \n",
              "3              3   403     서울특별시 종로구  종로5-6가동 주민센터   \n",
              "4              4   502     서울특별시 종로구     종로구청 민원실1   \n",
              "...          ...   ...           ...           ...   \n",
              "5087        5087   419  제주특별자치도 서귀포시   서홍동 무인민원발급기   \n",
              "5088        5088   420  제주특별자치도 서귀포시    중문동주민센터 입구   \n",
              "5089        5089   421  제주특별자치도 서귀포시      영천동 주민센터   \n",
              "5090        5090   422  제주특별자치도 서귀포시    남원읍 위미문화의집   \n",
              "5091        5091   423  제주특별자치도 서귀포시          안덕농협   \n",
              "\n",
              "                                                 설치장소주소     설치장소상세위치  \\\n",
              "0                         서울특별시 종로구 종로1길 36, 대림빌딩 (수송동)    2층 부동산정보과   \n",
              "1                         서울특별시 종로구 종로1길 36, 대림빌딩 (수송동)    2층 부동산정보과   \n",
              "2                         서울특별시 종로구 종로1길 36, 대림빌딩 (수송동)     종로구청 상황실   \n",
              "3                              서울특별시 종로구 종로35가길 19(효제동)    2층 민원실 입구   \n",
              "4                         서울특별시 종로구 종로1길 36, 대림빌딩 (수송동)       민원실 외부   \n",
              "...                                                 ...          ...   \n",
              "5087  제주특별자치도 서귀포시 중앙로 125(서홍동)[제주특별자치도 서귀포시 서홍동 397...  주민센터 입구 좌측    \n",
              "5088  제주특별자치도 서귀포시 1100로 30(중문동)[제주특별자치도 서귀포시 중문동 18...   중문동주민센터 입구   \n",
              "5089                 제주특별자치도 서귀포시 토평로 15, 영천동주민센터 (토평동)   현관 우측 옥외부스   \n",
              "5090                   제주특별자치도 서귀포시 남원읍 태위로 105, 위미문화의집    위미문화의 집 내   \n",
              "5091                     제주특별자치도 서귀포시 안덕면 화순로 104, 안덕농협       안덕농협 내   \n",
              "\n",
              "      평일운영시작시각  평일운영종료시각          장애인편의발급기형태 시각장애인용키패드  ... 점자라벨부착 이어폰소켓  \\\n",
              "0          900      1800  일반(장애인 편의기능 일부 포함)        제공  ...     부착    제공   \n",
              "1          900      1800  일반(장애인 편의기능 일부 포함)        제공  ...     부착    제공   \n",
              "2            0      2400               장애인겸용        제공  ...     부착    제공   \n",
              "3          900      1800               장애인겸용        제공  ...     부착    제공   \n",
              "4          900      1800               장애인겸용        제공  ...     부착    제공   \n",
              "...        ...       ...                 ...       ...  ...    ...   ...   \n",
              "5087         0      2400  일반(장애인 편의기능 일부 포함)        제공  ...     부착    제공   \n",
              "5088         0      2400               장애인겸용        제공  ...     부착    제공   \n",
              "5089         0      2400               장애인겸용        제공  ...     부착    제공   \n",
              "5090         0      2400               장애인겸용        제공  ...     부착    제공   \n",
              "5091       600      2400               장애인겸용        제공  ...     부착    제공   \n",
              "\n",
              "     촉각(전자)모니터 화면확대기능 휠체어사용자조작 설치장소위치 문서발급횟수 갱신 연도  갱신 월  갱신 일  \n",
              "0          미제공     제공       가능    시군구   76.0  2021     3    24  \n",
              "1          미제공     제공       가능    시군구   76.0  2021     3    24  \n",
              "2           제공     제공       가능    시군구   75.0  2022     8     3  \n",
              "3          미제공     제공       가능    읍면동   75.0  2021     4    28  \n",
              "4          미제공     제공       가능    시군구   76.0  2022     8     3  \n",
              "...        ...    ...      ...    ...    ...   ...   ...   ...  \n",
              "5087       미제공     제공       가능    읍면동   75.0  2022     7    21  \n",
              "5088        제공     제공       가능    읍면동   76.0  2022     7    21  \n",
              "5089        제공     제공       가능    읍면동   75.0  2022     7    21  \n",
              "5090        제공     제공       가능    읍면동   75.0  2022     3    26  \n",
              "5091        제공     제공       가능     은행   65.0  2022     3    23  \n",
              "\n",
              "[5092 rows x 22 columns]"
            ],
            "text/html": [
              "\n",
              "  <div id=\"df-e2e02a6c-aaa7-4d89-9dc8-ce3f907830a5\">\n",
              "    <div class=\"colab-df-container\">\n",
              "      <div>\n",
              "<style scoped>\n",
              "    .dataframe tbody tr th:only-of-type {\n",
              "        vertical-align: middle;\n",
              "    }\n",
              "\n",
              "    .dataframe tbody tr th {\n",
              "        vertical-align: top;\n",
              "    }\n",
              "\n",
              "    .dataframe thead th {\n",
              "        text-align: right;\n",
              "    }\n",
              "</style>\n",
              "<table border=\"1\" class=\"dataframe\">\n",
              "  <thead>\n",
              "    <tr style=\"text-align: right;\">\n",
              "      <th></th>\n",
              "      <th>Unnamed: 0</th>\n",
              "      <th>관리번호</th>\n",
              "      <th>관리기관명</th>\n",
              "      <th>발급기명</th>\n",
              "      <th>설치장소주소</th>\n",
              "      <th>설치장소상세위치</th>\n",
              "      <th>평일운영시작시각</th>\n",
              "      <th>평일운영종료시각</th>\n",
              "      <th>장애인편의발급기형태</th>\n",
              "      <th>시각장애인용키패드</th>\n",
              "      <th>...</th>\n",
              "      <th>점자라벨부착</th>\n",
              "      <th>이어폰소켓</th>\n",
              "      <th>촉각(전자)모니터</th>\n",
              "      <th>화면확대기능</th>\n",
              "      <th>휠체어사용자조작</th>\n",
              "      <th>설치장소위치</th>\n",
              "      <th>문서발급횟수</th>\n",
              "      <th>갱신 연도</th>\n",
              "      <th>갱신 월</th>\n",
              "      <th>갱신 일</th>\n",
              "    </tr>\n",
              "  </thead>\n",
              "  <tbody>\n",
              "    <tr>\n",
              "      <th>0</th>\n",
              "      <td>0</td>\n",
              "      <td>101</td>\n",
              "      <td>서울특별시 종로구</td>\n",
              "      <td>종로구청 부동산정보과1</td>\n",
              "      <td>서울특별시 종로구 종로1길 36, 대림빌딩 (수송동)</td>\n",
              "      <td>2층 부동산정보과</td>\n",
              "      <td>900</td>\n",
              "      <td>1800</td>\n",
              "      <td>일반(장애인 편의기능 일부 포함)</td>\n",
              "      <td>제공</td>\n",
              "      <td>...</td>\n",
              "      <td>부착</td>\n",
              "      <td>제공</td>\n",
              "      <td>미제공</td>\n",
              "      <td>제공</td>\n",
              "      <td>가능</td>\n",
              "      <td>시군구</td>\n",
              "      <td>76.0</td>\n",
              "      <td>2021</td>\n",
              "      <td>3</td>\n",
              "      <td>24</td>\n",
              "    </tr>\n",
              "    <tr>\n",
              "      <th>1</th>\n",
              "      <td>1</td>\n",
              "      <td>102</td>\n",
              "      <td>서울특별시 종로구</td>\n",
              "      <td>종로구청 부동산정보과2</td>\n",
              "      <td>서울특별시 종로구 종로1길 36, 대림빌딩 (수송동)</td>\n",
              "      <td>2층 부동산정보과</td>\n",
              "      <td>900</td>\n",
              "      <td>1800</td>\n",
              "      <td>일반(장애인 편의기능 일부 포함)</td>\n",
              "      <td>제공</td>\n",
              "      <td>...</td>\n",
              "      <td>부착</td>\n",
              "      <td>제공</td>\n",
              "      <td>미제공</td>\n",
              "      <td>제공</td>\n",
              "      <td>가능</td>\n",
              "      <td>시군구</td>\n",
              "      <td>76.0</td>\n",
              "      <td>2021</td>\n",
              "      <td>3</td>\n",
              "      <td>24</td>\n",
              "    </tr>\n",
              "    <tr>\n",
              "      <th>2</th>\n",
              "      <td>2</td>\n",
              "      <td>103</td>\n",
              "      <td>서울특별시 종로구</td>\n",
              "      <td>종로구청 상황실</td>\n",
              "      <td>서울특별시 종로구 종로1길 36, 대림빌딩 (수송동)</td>\n",
              "      <td>종로구청 상황실</td>\n",
              "      <td>0</td>\n",
              "      <td>2400</td>\n",
              "      <td>장애인겸용</td>\n",
              "      <td>제공</td>\n",
              "      <td>...</td>\n",
              "      <td>부착</td>\n",
              "      <td>제공</td>\n",
              "      <td>제공</td>\n",
              "      <td>제공</td>\n",
              "      <td>가능</td>\n",
              "      <td>시군구</td>\n",
              "      <td>75.0</td>\n",
              "      <td>2022</td>\n",
              "      <td>8</td>\n",
              "      <td>3</td>\n",
              "    </tr>\n",
              "    <tr>\n",
              "      <th>3</th>\n",
              "      <td>3</td>\n",
              "      <td>403</td>\n",
              "      <td>서울특별시 종로구</td>\n",
              "      <td>종로5-6가동 주민센터</td>\n",
              "      <td>서울특별시 종로구 종로35가길 19(효제동)</td>\n",
              "      <td>2층 민원실 입구</td>\n",
              "      <td>900</td>\n",
              "      <td>1800</td>\n",
              "      <td>장애인겸용</td>\n",
              "      <td>제공</td>\n",
              "      <td>...</td>\n",
              "      <td>부착</td>\n",
              "      <td>제공</td>\n",
              "      <td>미제공</td>\n",
              "      <td>제공</td>\n",
              "      <td>가능</td>\n",
              "      <td>읍면동</td>\n",
              "      <td>75.0</td>\n",
              "      <td>2021</td>\n",
              "      <td>4</td>\n",
              "      <td>28</td>\n",
              "    </tr>\n",
              "    <tr>\n",
              "      <th>4</th>\n",
              "      <td>4</td>\n",
              "      <td>502</td>\n",
              "      <td>서울특별시 종로구</td>\n",
              "      <td>종로구청 민원실1</td>\n",
              "      <td>서울특별시 종로구 종로1길 36, 대림빌딩 (수송동)</td>\n",
              "      <td>민원실 외부</td>\n",
              "      <td>900</td>\n",
              "      <td>1800</td>\n",
              "      <td>장애인겸용</td>\n",
              "      <td>제공</td>\n",
              "      <td>...</td>\n",
              "      <td>부착</td>\n",
              "      <td>제공</td>\n",
              "      <td>미제공</td>\n",
              "      <td>제공</td>\n",
              "      <td>가능</td>\n",
              "      <td>시군구</td>\n",
              "      <td>76.0</td>\n",
              "      <td>2022</td>\n",
              "      <td>8</td>\n",
              "      <td>3</td>\n",
              "    </tr>\n",
              "    <tr>\n",
              "      <th>...</th>\n",
              "      <td>...</td>\n",
              "      <td>...</td>\n",
              "      <td>...</td>\n",
              "      <td>...</td>\n",
              "      <td>...</td>\n",
              "      <td>...</td>\n",
              "      <td>...</td>\n",
              "      <td>...</td>\n",
              "      <td>...</td>\n",
              "      <td>...</td>\n",
              "      <td>...</td>\n",
              "      <td>...</td>\n",
              "      <td>...</td>\n",
              "      <td>...</td>\n",
              "      <td>...</td>\n",
              "      <td>...</td>\n",
              "      <td>...</td>\n",
              "      <td>...</td>\n",
              "      <td>...</td>\n",
              "      <td>...</td>\n",
              "      <td>...</td>\n",
              "    </tr>\n",
              "    <tr>\n",
              "      <th>5087</th>\n",
              "      <td>5087</td>\n",
              "      <td>419</td>\n",
              "      <td>제주특별자치도 서귀포시</td>\n",
              "      <td>서홍동 무인민원발급기</td>\n",
              "      <td>제주특별자치도 서귀포시 중앙로 125(서홍동)[제주특별자치도 서귀포시 서홍동 397...</td>\n",
              "      <td>주민센터 입구 좌측</td>\n",
              "      <td>0</td>\n",
              "      <td>2400</td>\n",
              "      <td>일반(장애인 편의기능 일부 포함)</td>\n",
              "      <td>제공</td>\n",
              "      <td>...</td>\n",
              "      <td>부착</td>\n",
              "      <td>제공</td>\n",
              "      <td>미제공</td>\n",
              "      <td>제공</td>\n",
              "      <td>가능</td>\n",
              "      <td>읍면동</td>\n",
              "      <td>75.0</td>\n",
              "      <td>2022</td>\n",
              "      <td>7</td>\n",
              "      <td>21</td>\n",
              "    </tr>\n",
              "    <tr>\n",
              "      <th>5088</th>\n",
              "      <td>5088</td>\n",
              "      <td>420</td>\n",
              "      <td>제주특별자치도 서귀포시</td>\n",
              "      <td>중문동주민센터 입구</td>\n",
              "      <td>제주특별자치도 서귀포시 1100로 30(중문동)[제주특별자치도 서귀포시 중문동 18...</td>\n",
              "      <td>중문동주민센터 입구</td>\n",
              "      <td>0</td>\n",
              "      <td>2400</td>\n",
              "      <td>장애인겸용</td>\n",
              "      <td>제공</td>\n",
              "      <td>...</td>\n",
              "      <td>부착</td>\n",
              "      <td>제공</td>\n",
              "      <td>제공</td>\n",
              "      <td>제공</td>\n",
              "      <td>가능</td>\n",
              "      <td>읍면동</td>\n",
              "      <td>76.0</td>\n",
              "      <td>2022</td>\n",
              "      <td>7</td>\n",
              "      <td>21</td>\n",
              "    </tr>\n",
              "    <tr>\n",
              "      <th>5089</th>\n",
              "      <td>5089</td>\n",
              "      <td>421</td>\n",
              "      <td>제주특별자치도 서귀포시</td>\n",
              "      <td>영천동 주민센터</td>\n",
              "      <td>제주특별자치도 서귀포시 토평로 15, 영천동주민센터 (토평동)</td>\n",
              "      <td>현관 우측 옥외부스</td>\n",
              "      <td>0</td>\n",
              "      <td>2400</td>\n",
              "      <td>장애인겸용</td>\n",
              "      <td>제공</td>\n",
              "      <td>...</td>\n",
              "      <td>부착</td>\n",
              "      <td>제공</td>\n",
              "      <td>제공</td>\n",
              "      <td>제공</td>\n",
              "      <td>가능</td>\n",
              "      <td>읍면동</td>\n",
              "      <td>75.0</td>\n",
              "      <td>2022</td>\n",
              "      <td>7</td>\n",
              "      <td>21</td>\n",
              "    </tr>\n",
              "    <tr>\n",
              "      <th>5090</th>\n",
              "      <td>5090</td>\n",
              "      <td>422</td>\n",
              "      <td>제주특별자치도 서귀포시</td>\n",
              "      <td>남원읍 위미문화의집</td>\n",
              "      <td>제주특별자치도 서귀포시 남원읍 태위로 105, 위미문화의집</td>\n",
              "      <td>위미문화의 집 내</td>\n",
              "      <td>0</td>\n",
              "      <td>2400</td>\n",
              "      <td>장애인겸용</td>\n",
              "      <td>제공</td>\n",
              "      <td>...</td>\n",
              "      <td>부착</td>\n",
              "      <td>제공</td>\n",
              "      <td>제공</td>\n",
              "      <td>제공</td>\n",
              "      <td>가능</td>\n",
              "      <td>읍면동</td>\n",
              "      <td>75.0</td>\n",
              "      <td>2022</td>\n",
              "      <td>3</td>\n",
              "      <td>26</td>\n",
              "    </tr>\n",
              "    <tr>\n",
              "      <th>5091</th>\n",
              "      <td>5091</td>\n",
              "      <td>423</td>\n",
              "      <td>제주특별자치도 서귀포시</td>\n",
              "      <td>안덕농협</td>\n",
              "      <td>제주특별자치도 서귀포시 안덕면 화순로 104, 안덕농협</td>\n",
              "      <td>안덕농협 내</td>\n",
              "      <td>600</td>\n",
              "      <td>2400</td>\n",
              "      <td>장애인겸용</td>\n",
              "      <td>제공</td>\n",
              "      <td>...</td>\n",
              "      <td>부착</td>\n",
              "      <td>제공</td>\n",
              "      <td>제공</td>\n",
              "      <td>제공</td>\n",
              "      <td>가능</td>\n",
              "      <td>은행</td>\n",
              "      <td>65.0</td>\n",
              "      <td>2022</td>\n",
              "      <td>3</td>\n",
              "      <td>23</td>\n",
              "    </tr>\n",
              "  </tbody>\n",
              "</table>\n",
              "<p>5092 rows × 22 columns</p>\n",
              "</div>\n",
              "      <button class=\"colab-df-convert\" onclick=\"convertToInteractive('df-e2e02a6c-aaa7-4d89-9dc8-ce3f907830a5')\"\n",
              "              title=\"Convert this dataframe to an interactive table.\"\n",
              "              style=\"display:none;\">\n",
              "        \n",
              "  <svg xmlns=\"http://www.w3.org/2000/svg\" height=\"24px\"viewBox=\"0 0 24 24\"\n",
              "       width=\"24px\">\n",
              "    <path d=\"M0 0h24v24H0V0z\" fill=\"none\"/>\n",
              "    <path d=\"M18.56 5.44l.94 2.06.94-2.06 2.06-.94-2.06-.94-.94-2.06-.94 2.06-2.06.94zm-11 1L8.5 8.5l.94-2.06 2.06-.94-2.06-.94L8.5 2.5l-.94 2.06-2.06.94zm10 10l.94 2.06.94-2.06 2.06-.94-2.06-.94-.94-2.06-.94 2.06-2.06.94z\"/><path d=\"M17.41 7.96l-1.37-1.37c-.4-.4-.92-.59-1.43-.59-.52 0-1.04.2-1.43.59L10.3 9.45l-7.72 7.72c-.78.78-.78 2.05 0 2.83L4 21.41c.39.39.9.59 1.41.59.51 0 1.02-.2 1.41-.59l7.78-7.78 2.81-2.81c.8-.78.8-2.07 0-2.86zM5.41 20L4 18.59l7.72-7.72 1.47 1.35L5.41 20z\"/>\n",
              "  </svg>\n",
              "      </button>\n",
              "      \n",
              "  <style>\n",
              "    .colab-df-container {\n",
              "      display:flex;\n",
              "      flex-wrap:wrap;\n",
              "      gap: 12px;\n",
              "    }\n",
              "\n",
              "    .colab-df-convert {\n",
              "      background-color: #E8F0FE;\n",
              "      border: none;\n",
              "      border-radius: 50%;\n",
              "      cursor: pointer;\n",
              "      display: none;\n",
              "      fill: #1967D2;\n",
              "      height: 32px;\n",
              "      padding: 0 0 0 0;\n",
              "      width: 32px;\n",
              "    }\n",
              "\n",
              "    .colab-df-convert:hover {\n",
              "      background-color: #E2EBFA;\n",
              "      box-shadow: 0px 1px 2px rgba(60, 64, 67, 0.3), 0px 1px 3px 1px rgba(60, 64, 67, 0.15);\n",
              "      fill: #174EA6;\n",
              "    }\n",
              "\n",
              "    [theme=dark] .colab-df-convert {\n",
              "      background-color: #3B4455;\n",
              "      fill: #D2E3FC;\n",
              "    }\n",
              "\n",
              "    [theme=dark] .colab-df-convert:hover {\n",
              "      background-color: #434B5C;\n",
              "      box-shadow: 0px 1px 3px 1px rgba(0, 0, 0, 0.15);\n",
              "      filter: drop-shadow(0px 1px 2px rgba(0, 0, 0, 0.3));\n",
              "      fill: #FFFFFF;\n",
              "    }\n",
              "  </style>\n",
              "\n",
              "      <script>\n",
              "        const buttonEl =\n",
              "          document.querySelector('#df-e2e02a6c-aaa7-4d89-9dc8-ce3f907830a5 button.colab-df-convert');\n",
              "        buttonEl.style.display =\n",
              "          google.colab.kernel.accessAllowed ? 'block' : 'none';\n",
              "\n",
              "        async function convertToInteractive(key) {\n",
              "          const element = document.querySelector('#df-e2e02a6c-aaa7-4d89-9dc8-ce3f907830a5');\n",
              "          const dataTable =\n",
              "            await google.colab.kernel.invokeFunction('convertToInteractive',\n",
              "                                                     [key], {});\n",
              "          if (!dataTable) return;\n",
              "\n",
              "          const docLinkHtml = 'Like what you see? Visit the ' +\n",
              "            '<a target=\"_blank\" href=https://colab.research.google.com/notebooks/data_table.ipynb>data table notebook</a>'\n",
              "            + ' to learn more about interactive tables.';\n",
              "          element.innerHTML = '';\n",
              "          dataTable['output_type'] = 'display_data';\n",
              "          await google.colab.output.renderOutput(dataTable, element);\n",
              "          const docLink = document.createElement('div');\n",
              "          docLink.innerHTML = docLinkHtml;\n",
              "          element.appendChild(docLink);\n",
              "        }\n",
              "      </script>\n",
              "    </div>\n",
              "  </div>\n",
              "  "
            ]
          },
          "metadata": {},
          "execution_count": 3
        }
      ]
    },
    {
      "cell_type": "code",
      "source": [
        "df_inst['평일운영시작_hour']=df_inst.평일운영시작시각 / 100\n",
        "df_inst['평일운영시작_min']=df_inst.평일운영시작시각 % 100\n",
        "df_inst['평일운영종료_hour']=df_inst.평일운영종료시각 / 100\n",
        "df_inst['평일운영종료_min']=df_inst.평일운영종료시각 % 100"
      ],
      "metadata": {
        "id": "ROjL7w5LrsaM"
      },
      "execution_count": null,
      "outputs": []
    },
    {
      "cell_type": "code",
      "source": [
        "df_inst=df_inst.drop(['평일운영시작시각','평일운영종료시각'],axis=1)"
      ],
      "metadata": {
        "id": "RU9p92detG9F"
      },
      "execution_count": null,
      "outputs": []
    },
    {
      "cell_type": "code",
      "source": [
        "cols = ['문서발급횟수','평일운영시작_hour','평일운영종료_hour']\n",
        "for col in cols:\n",
        "   df_inst[col] = df_inst[col].apply(lambda x: int(x) if x == x else \"\")"
      ],
      "metadata": {
        "id": "Tz1Q1pTFuYK9"
      },
      "execution_count": null,
      "outputs": []
    },
    {
      "cell_type": "code",
      "source": [
        "df_iss.info()"
      ],
      "metadata": {
        "colab": {
          "base_uri": "https://localhost:8080/"
        },
        "id": "OHEnPjV7ufhG",
        "outputId": "1d066baa-5b38-4c41-eb4a-faea969772ba"
      },
      "execution_count": null,
      "outputs": [
        {
          "output_type": "stream",
          "name": "stdout",
          "text": [
            "<class 'pandas.core.frame.DataFrame'>\n",
            "RangeIndex: 369954 entries, 0 to 369953\n",
            "Data columns (total 9 columns):\n",
            " #   Column      Non-Null Count   Dtype \n",
            "---  ------      --------------   ----- \n",
            " 0   Unnamed: 0  369954 non-null  int64 \n",
            " 1   시군구명        369954 non-null  object\n",
            " 2   발급기번호       369954 non-null  int64 \n",
            " 3   초기메뉴명       369954 non-null  object\n",
            " 4   민원사무분류명     369954 non-null  object\n",
            " 5   데이터갱신구분     369954 non-null  object\n",
            " 6   갱신 연도       369954 non-null  int64 \n",
            " 7   갱신 월        369954 non-null  int64 \n",
            " 8   갱신 일        369954 non-null  int64 \n",
            "dtypes: int64(5), object(4)\n",
            "memory usage: 25.4+ MB\n"
          ]
        }
      ]
    },
    {
      "cell_type": "code",
      "source": [
        "df_iss.drop(['Unnamed: 0'],axis=1,inplace=True)"
      ],
      "metadata": {
        "id": "HphvrvLvRnOd"
      },
      "execution_count": null,
      "outputs": []
    },
    {
      "cell_type": "code",
      "source": [
        "df_iss.head(5)"
      ],
      "metadata": {
        "colab": {
          "base_uri": "https://localhost:8080/",
          "height": 206
        },
        "id": "usGEep-IMUJX",
        "outputId": "9055410a-6973-4207-de30-542dd4af0626"
      },
      "execution_count": null,
      "outputs": [
        {
          "output_type": "execute_result",
          "data": {
            "text/plain": [
              "        시군구명  발급기번호 초기메뉴명        민원사무분류명 데이터갱신구분  갱신 연도  갱신 월  갱신 일\n",
              "0  서울특별시 종로구    101  보건복지       한부모가족증명서       U   2020    10    13\n",
              "1  서울특별시 종로구    101  국세증명  납세증명서(국세완납증명)       U   2020    10    13\n",
              "2  서울특별시 종로구    101  국세증명        사업자등록증명       U   2020    10    13\n",
              "3  서울특별시 종로구    101  국세증명         휴업사실증명       U   2020    10    13\n",
              "4  서울특별시 종로구    101  국세증명         납부내역증명       U   2020    10    13"
            ],
            "text/html": [
              "\n",
              "  <div id=\"df-e7466ff9-7b69-4c3b-96e9-46666f479212\">\n",
              "    <div class=\"colab-df-container\">\n",
              "      <div>\n",
              "<style scoped>\n",
              "    .dataframe tbody tr th:only-of-type {\n",
              "        vertical-align: middle;\n",
              "    }\n",
              "\n",
              "    .dataframe tbody tr th {\n",
              "        vertical-align: top;\n",
              "    }\n",
              "\n",
              "    .dataframe thead th {\n",
              "        text-align: right;\n",
              "    }\n",
              "</style>\n",
              "<table border=\"1\" class=\"dataframe\">\n",
              "  <thead>\n",
              "    <tr style=\"text-align: right;\">\n",
              "      <th></th>\n",
              "      <th>시군구명</th>\n",
              "      <th>발급기번호</th>\n",
              "      <th>초기메뉴명</th>\n",
              "      <th>민원사무분류명</th>\n",
              "      <th>데이터갱신구분</th>\n",
              "      <th>갱신 연도</th>\n",
              "      <th>갱신 월</th>\n",
              "      <th>갱신 일</th>\n",
              "    </tr>\n",
              "  </thead>\n",
              "  <tbody>\n",
              "    <tr>\n",
              "      <th>0</th>\n",
              "      <td>서울특별시 종로구</td>\n",
              "      <td>101</td>\n",
              "      <td>보건복지</td>\n",
              "      <td>한부모가족증명서</td>\n",
              "      <td>U</td>\n",
              "      <td>2020</td>\n",
              "      <td>10</td>\n",
              "      <td>13</td>\n",
              "    </tr>\n",
              "    <tr>\n",
              "      <th>1</th>\n",
              "      <td>서울특별시 종로구</td>\n",
              "      <td>101</td>\n",
              "      <td>국세증명</td>\n",
              "      <td>납세증명서(국세완납증명)</td>\n",
              "      <td>U</td>\n",
              "      <td>2020</td>\n",
              "      <td>10</td>\n",
              "      <td>13</td>\n",
              "    </tr>\n",
              "    <tr>\n",
              "      <th>2</th>\n",
              "      <td>서울특별시 종로구</td>\n",
              "      <td>101</td>\n",
              "      <td>국세증명</td>\n",
              "      <td>사업자등록증명</td>\n",
              "      <td>U</td>\n",
              "      <td>2020</td>\n",
              "      <td>10</td>\n",
              "      <td>13</td>\n",
              "    </tr>\n",
              "    <tr>\n",
              "      <th>3</th>\n",
              "      <td>서울특별시 종로구</td>\n",
              "      <td>101</td>\n",
              "      <td>국세증명</td>\n",
              "      <td>휴업사실증명</td>\n",
              "      <td>U</td>\n",
              "      <td>2020</td>\n",
              "      <td>10</td>\n",
              "      <td>13</td>\n",
              "    </tr>\n",
              "    <tr>\n",
              "      <th>4</th>\n",
              "      <td>서울특별시 종로구</td>\n",
              "      <td>101</td>\n",
              "      <td>국세증명</td>\n",
              "      <td>납부내역증명</td>\n",
              "      <td>U</td>\n",
              "      <td>2020</td>\n",
              "      <td>10</td>\n",
              "      <td>13</td>\n",
              "    </tr>\n",
              "  </tbody>\n",
              "</table>\n",
              "</div>\n",
              "      <button class=\"colab-df-convert\" onclick=\"convertToInteractive('df-e7466ff9-7b69-4c3b-96e9-46666f479212')\"\n",
              "              title=\"Convert this dataframe to an interactive table.\"\n",
              "              style=\"display:none;\">\n",
              "        \n",
              "  <svg xmlns=\"http://www.w3.org/2000/svg\" height=\"24px\"viewBox=\"0 0 24 24\"\n",
              "       width=\"24px\">\n",
              "    <path d=\"M0 0h24v24H0V0z\" fill=\"none\"/>\n",
              "    <path d=\"M18.56 5.44l.94 2.06.94-2.06 2.06-.94-2.06-.94-.94-2.06-.94 2.06-2.06.94zm-11 1L8.5 8.5l.94-2.06 2.06-.94-2.06-.94L8.5 2.5l-.94 2.06-2.06.94zm10 10l.94 2.06.94-2.06 2.06-.94-2.06-.94-.94-2.06-.94 2.06-2.06.94z\"/><path d=\"M17.41 7.96l-1.37-1.37c-.4-.4-.92-.59-1.43-.59-.52 0-1.04.2-1.43.59L10.3 9.45l-7.72 7.72c-.78.78-.78 2.05 0 2.83L4 21.41c.39.39.9.59 1.41.59.51 0 1.02-.2 1.41-.59l7.78-7.78 2.81-2.81c.8-.78.8-2.07 0-2.86zM5.41 20L4 18.59l7.72-7.72 1.47 1.35L5.41 20z\"/>\n",
              "  </svg>\n",
              "      </button>\n",
              "      \n",
              "  <style>\n",
              "    .colab-df-container {\n",
              "      display:flex;\n",
              "      flex-wrap:wrap;\n",
              "      gap: 12px;\n",
              "    }\n",
              "\n",
              "    .colab-df-convert {\n",
              "      background-color: #E8F0FE;\n",
              "      border: none;\n",
              "      border-radius: 50%;\n",
              "      cursor: pointer;\n",
              "      display: none;\n",
              "      fill: #1967D2;\n",
              "      height: 32px;\n",
              "      padding: 0 0 0 0;\n",
              "      width: 32px;\n",
              "    }\n",
              "\n",
              "    .colab-df-convert:hover {\n",
              "      background-color: #E2EBFA;\n",
              "      box-shadow: 0px 1px 2px rgba(60, 64, 67, 0.3), 0px 1px 3px 1px rgba(60, 64, 67, 0.15);\n",
              "      fill: #174EA6;\n",
              "    }\n",
              "\n",
              "    [theme=dark] .colab-df-convert {\n",
              "      background-color: #3B4455;\n",
              "      fill: #D2E3FC;\n",
              "    }\n",
              "\n",
              "    [theme=dark] .colab-df-convert:hover {\n",
              "      background-color: #434B5C;\n",
              "      box-shadow: 0px 1px 3px 1px rgba(0, 0, 0, 0.15);\n",
              "      filter: drop-shadow(0px 1px 2px rgba(0, 0, 0, 0.3));\n",
              "      fill: #FFFFFF;\n",
              "    }\n",
              "  </style>\n",
              "\n",
              "      <script>\n",
              "        const buttonEl =\n",
              "          document.querySelector('#df-e7466ff9-7b69-4c3b-96e9-46666f479212 button.colab-df-convert');\n",
              "        buttonEl.style.display =\n",
              "          google.colab.kernel.accessAllowed ? 'block' : 'none';\n",
              "\n",
              "        async function convertToInteractive(key) {\n",
              "          const element = document.querySelector('#df-e7466ff9-7b69-4c3b-96e9-46666f479212');\n",
              "          const dataTable =\n",
              "            await google.colab.kernel.invokeFunction('convertToInteractive',\n",
              "                                                     [key], {});\n",
              "          if (!dataTable) return;\n",
              "\n",
              "          const docLinkHtml = 'Like what you see? Visit the ' +\n",
              "            '<a target=\"_blank\" href=https://colab.research.google.com/notebooks/data_table.ipynb>data table notebook</a>'\n",
              "            + ' to learn more about interactive tables.';\n",
              "          element.innerHTML = '';\n",
              "          dataTable['output_type'] = 'display_data';\n",
              "          await google.colab.output.renderOutput(dataTable, element);\n",
              "          const docLink = document.createElement('div');\n",
              "          docLink.innerHTML = docLinkHtml;\n",
              "          element.appendChild(docLink);\n",
              "        }\n",
              "      </script>\n",
              "    </div>\n",
              "  </div>\n",
              "  "
            ]
          },
          "metadata": {},
          "execution_count": 9
        }
      ]
    },
    {
      "cell_type": "code",
      "source": [
        "df_iss.iloc[0:2,9:22]"
      ],
      "metadata": {
        "colab": {
          "base_uri": "https://localhost:8080/",
          "height": 95
        },
        "id": "pCdYVmuHM2aY",
        "outputId": "33a77ca1-f842-475f-9051-103bb9ab89d2"
      },
      "execution_count": null,
      "outputs": [
        {
          "output_type": "execute_result",
          "data": {
            "text/plain": [
              "Empty DataFrame\n",
              "Columns: []\n",
              "Index: [0, 1]"
            ],
            "text/html": [
              "\n",
              "  <div id=\"df-a5a5686a-569b-4a08-9e71-02c5df6299cd\">\n",
              "    <div class=\"colab-df-container\">\n",
              "      <div>\n",
              "<style scoped>\n",
              "    .dataframe tbody tr th:only-of-type {\n",
              "        vertical-align: middle;\n",
              "    }\n",
              "\n",
              "    .dataframe tbody tr th {\n",
              "        vertical-align: top;\n",
              "    }\n",
              "\n",
              "    .dataframe thead th {\n",
              "        text-align: right;\n",
              "    }\n",
              "</style>\n",
              "<table border=\"1\" class=\"dataframe\">\n",
              "  <thead>\n",
              "    <tr style=\"text-align: right;\">\n",
              "      <th></th>\n",
              "    </tr>\n",
              "  </thead>\n",
              "  <tbody>\n",
              "    <tr>\n",
              "      <th>0</th>\n",
              "    </tr>\n",
              "    <tr>\n",
              "      <th>1</th>\n",
              "    </tr>\n",
              "  </tbody>\n",
              "</table>\n",
              "</div>\n",
              "      <button class=\"colab-df-convert\" onclick=\"convertToInteractive('df-a5a5686a-569b-4a08-9e71-02c5df6299cd')\"\n",
              "              title=\"Convert this dataframe to an interactive table.\"\n",
              "              style=\"display:none;\">\n",
              "        \n",
              "  <svg xmlns=\"http://www.w3.org/2000/svg\" height=\"24px\"viewBox=\"0 0 24 24\"\n",
              "       width=\"24px\">\n",
              "    <path d=\"M0 0h24v24H0V0z\" fill=\"none\"/>\n",
              "    <path d=\"M18.56 5.44l.94 2.06.94-2.06 2.06-.94-2.06-.94-.94-2.06-.94 2.06-2.06.94zm-11 1L8.5 8.5l.94-2.06 2.06-.94-2.06-.94L8.5 2.5l-.94 2.06-2.06.94zm10 10l.94 2.06.94-2.06 2.06-.94-2.06-.94-.94-2.06-.94 2.06-2.06.94z\"/><path d=\"M17.41 7.96l-1.37-1.37c-.4-.4-.92-.59-1.43-.59-.52 0-1.04.2-1.43.59L10.3 9.45l-7.72 7.72c-.78.78-.78 2.05 0 2.83L4 21.41c.39.39.9.59 1.41.59.51 0 1.02-.2 1.41-.59l7.78-7.78 2.81-2.81c.8-.78.8-2.07 0-2.86zM5.41 20L4 18.59l7.72-7.72 1.47 1.35L5.41 20z\"/>\n",
              "  </svg>\n",
              "      </button>\n",
              "      \n",
              "  <style>\n",
              "    .colab-df-container {\n",
              "      display:flex;\n",
              "      flex-wrap:wrap;\n",
              "      gap: 12px;\n",
              "    }\n",
              "\n",
              "    .colab-df-convert {\n",
              "      background-color: #E8F0FE;\n",
              "      border: none;\n",
              "      border-radius: 50%;\n",
              "      cursor: pointer;\n",
              "      display: none;\n",
              "      fill: #1967D2;\n",
              "      height: 32px;\n",
              "      padding: 0 0 0 0;\n",
              "      width: 32px;\n",
              "    }\n",
              "\n",
              "    .colab-df-convert:hover {\n",
              "      background-color: #E2EBFA;\n",
              "      box-shadow: 0px 1px 2px rgba(60, 64, 67, 0.3), 0px 1px 3px 1px rgba(60, 64, 67, 0.15);\n",
              "      fill: #174EA6;\n",
              "    }\n",
              "\n",
              "    [theme=dark] .colab-df-convert {\n",
              "      background-color: #3B4455;\n",
              "      fill: #D2E3FC;\n",
              "    }\n",
              "\n",
              "    [theme=dark] .colab-df-convert:hover {\n",
              "      background-color: #434B5C;\n",
              "      box-shadow: 0px 1px 3px 1px rgba(0, 0, 0, 0.15);\n",
              "      filter: drop-shadow(0px 1px 2px rgba(0, 0, 0, 0.3));\n",
              "      fill: #FFFFFF;\n",
              "    }\n",
              "  </style>\n",
              "\n",
              "      <script>\n",
              "        const buttonEl =\n",
              "          document.querySelector('#df-a5a5686a-569b-4a08-9e71-02c5df6299cd button.colab-df-convert');\n",
              "        buttonEl.style.display =\n",
              "          google.colab.kernel.accessAllowed ? 'block' : 'none';\n",
              "\n",
              "        async function convertToInteractive(key) {\n",
              "          const element = document.querySelector('#df-a5a5686a-569b-4a08-9e71-02c5df6299cd');\n",
              "          const dataTable =\n",
              "            await google.colab.kernel.invokeFunction('convertToInteractive',\n",
              "                                                     [key], {});\n",
              "          if (!dataTable) return;\n",
              "\n",
              "          const docLinkHtml = 'Like what you see? Visit the ' +\n",
              "            '<a target=\"_blank\" href=https://colab.research.google.com/notebooks/data_table.ipynb>data table notebook</a>'\n",
              "            + ' to learn more about interactive tables.';\n",
              "          element.innerHTML = '';\n",
              "          dataTable['output_type'] = 'display_data';\n",
              "          await google.colab.output.renderOutput(dataTable, element);\n",
              "          const docLink = document.createElement('div');\n",
              "          docLink.innerHTML = docLinkHtml;\n",
              "          element.appendChild(docLink);\n",
              "        }\n",
              "      </script>\n",
              "    </div>\n",
              "  </div>\n",
              "  "
            ]
          },
          "metadata": {},
          "execution_count": 10
        }
      ]
    },
    {
      "cell_type": "markdown",
      "source": [
        "## 시각장애인 관련 컬럼\n",
        "시각장애인용키패드 \\\\\n",
        "시각장애인용음성안내 \\\\\n",
        "점자라벨부착 \\\\\n",
        "촉각(전자)모니터 \\\\\n",
        "화면확대기능 \\\\\n",
        "\n",
        "## 청각장애인 관련 컬럼\n",
        "청각장애인용화면안내 \\\\\n",
        "이어폰소켓 \\\\\n",
        "\n",
        "## 휠체어 이용자 관련 컬럼\n",
        "휠체어사용자조작 \\\\\n",
        "\n"
      ],
      "metadata": {
        "id": "6sgGJxct57KR"
      }
    },
    {
      "cell_type": "markdown",
      "source": [
        "## 목표\n",
        "- 행정안전부에서 무인민원발급기 추가설치 및 운영 예산 마련을 위해\n",
        "사용량이 적은 무인민원발급기 제거하려한다."
      ],
      "metadata": {
        "id": "GpVcNjZId1p2"
      }
    },
    {
      "cell_type": "markdown",
      "source": [
        "## 가설설정\n",
        "- 장애인도 쉽게 무인민원발급기를 사용할 수 있는 기능을 갖췄는가? (기능활성화가 되지않은 기계확인)\n",
        "- 무인민원발급기의 설치 위치가 접근성이나 인구 유동성을 고려하여 설치되어있는가?"
      ],
      "metadata": {
        "id": "pZwfxZkodi1_"
      }
    },
    {
      "cell_type": "code",
      "source": [
        "!sudo apt-get install -y fonts-nanum\n",
        "!sudo fc-cache -fv\n",
        "!rm ~/.cache/matplotlib -rf"
      ],
      "metadata": {
        "colab": {
          "base_uri": "https://localhost:8080/"
        },
        "id": "xa2VzrOwDakL",
        "outputId": "92738d6e-673d-46b7-f6b7-de8ffe45d88b"
      },
      "execution_count": null,
      "outputs": [
        {
          "output_type": "stream",
          "name": "stdout",
          "text": [
            "Reading package lists... Done\n",
            "Building dependency tree       \n",
            "Reading state information... Done\n",
            "fonts-nanum is already the newest version (20170925-1).\n",
            "The following package was automatically installed and is no longer required:\n",
            "  libnvidia-common-460\n",
            "Use 'sudo apt autoremove' to remove it.\n",
            "0 upgraded, 0 newly installed, 0 to remove and 20 not upgraded.\n",
            "/usr/share/fonts: caching, new cache contents: 0 fonts, 1 dirs\n",
            "/usr/share/fonts/truetype: caching, new cache contents: 0 fonts, 3 dirs\n",
            "/usr/share/fonts/truetype/humor-sans: caching, new cache contents: 1 fonts, 0 dirs\n",
            "/usr/share/fonts/truetype/liberation: caching, new cache contents: 16 fonts, 0 dirs\n",
            "/usr/share/fonts/truetype/nanum: caching, new cache contents: 10 fonts, 0 dirs\n",
            "/usr/local/share/fonts: caching, new cache contents: 0 fonts, 0 dirs\n",
            "/root/.local/share/fonts: skipping, no such directory\n",
            "/root/.fonts: skipping, no such directory\n",
            "/var/cache/fontconfig: cleaning cache directory\n",
            "/root/.cache/fontconfig: not cleaning non-existent cache directory\n",
            "/root/.fontconfig: not cleaning non-existent cache directory\n",
            "fc-cache: succeeded\n"
          ]
        }
      ]
    },
    {
      "cell_type": "code",
      "source": [
        "import matplotlib.pyplot as plt\n",
        "\n",
        "plt.rc('font', family='NanumBarunGothic') "
      ],
      "metadata": {
        "id": "M_MGpDlYDnUD"
      },
      "execution_count": null,
      "outputs": []
    },
    {
      "cell_type": "code",
      "source": [
        "import matplotlib\n",
        "import platform\n",
        "\n",
        "print(platform.system()) # 플랫폼 확인\n",
        "\n",
        "# Window\n",
        "if platform.system() == 'Windows':\n",
        "    matplotlib.rc('font', family='Malgun Gothic')\n",
        "elif platform.system() == 'Darwin': # Mac\n",
        "    matplotlib.rc('font', family='AppleGothic')\n",
        "else: #linux\n",
        "    matplotlib.rc('font', family='NanumGothic')\n",
        "\n",
        "# 그래프에 마이너스 표시가 되도록 변경\n",
        "matplotlib.rcParams['axes.unicode_minus'] = False"
      ],
      "metadata": {
        "colab": {
          "base_uri": "https://localhost:8080/"
        },
        "id": "NC1WYr9--OTg",
        "outputId": "be0daef3-b426-4fbe-d43c-ba1151c6a6b1"
      },
      "execution_count": null,
      "outputs": [
        {
          "output_type": "stream",
          "name": "stdout",
          "text": [
            "Linux\n"
          ]
        }
      ]
    },
    {
      "cell_type": "code",
      "source": [
        "df_iss['갱신 연도'].value_counts()"
      ],
      "metadata": {
        "colab": {
          "base_uri": "https://localhost:8080/"
        },
        "id": "YNC4t115mNO0",
        "outputId": "168d20f5-505c-4be6-cc0d-afc74a6d2fbb"
      },
      "execution_count": null,
      "outputs": [
        {
          "output_type": "execute_result",
          "data": {
            "text/plain": [
              "2020    300974\n",
              "2021     35373\n",
              "2022     33084\n",
              "2019       523\n",
              "Name: 갱신 연도, dtype: int64"
            ]
          },
          "metadata": {},
          "execution_count": 14
        }
      ]
    },
    {
      "cell_type": "code",
      "source": [
        "year_list = []\n",
        "val_list = []\n",
        "\n",
        "for year, val in  df_iss['갱신 연도'].value_counts().items():\n",
        "  year_list.append(year)\n",
        "  val_list.append(val)"
      ],
      "metadata": {
        "id": "jkH-NQE6muip"
      },
      "execution_count": null,
      "outputs": []
    },
    {
      "cell_type": "code",
      "source": [
        "plt.figure(figsize=(9,7))\n",
        "exp=[0.1,0.1,0.1,0.1]\n",
        "plt.pie(val_list, labels=year_list,explode=exp,autopct='%.1f%%')\n",
        "plt.legend(year_list,bbox_to_anchor=(1.5,0.5))\n",
        "plt.show()"
      ],
      "metadata": {
        "colab": {
          "base_uri": "https://localhost:8080/",
          "height": 411
        },
        "id": "TBc2a72VnJkV",
        "outputId": "30b9e702-13f9-427e-f844-af3c0439bf29"
      },
      "execution_count": null,
      "outputs": [
        {
          "output_type": "display_data",
          "data": {
            "text/plain": [
              "<Figure size 648x504 with 1 Axes>"
            ],
            "image/png": "[encoded data removed]"
          },
          "metadata": {}
        }
      ]
    },
    {
      "cell_type": "code",
      "source": [
        "df_inst"
      ],
      "metadata": {
        "colab": {
          "base_uri": "https://localhost:8080/",
          "height": 814
        },
        "id": "lqTFV_TvoFic",
        "outputId": "8cd7f996-4bbd-40b3-c003-3758d3adb5ce"
      },
      "execution_count": null,
      "outputs": [
        {
          "output_type": "execute_result",
          "data": {
            "text/plain": [
              "      Unnamed: 0  관리번호         관리기관명          발급기명  \\\n",
              "0              0   101     서울특별시 종로구  종로구청 부동산정보과1   \n",
              "1              1   102     서울특별시 종로구  종로구청 부동산정보과2   \n",
              "2              2   103     서울특별시 종로구      종로구청 상황실   \n",
              "3              3   403     서울특별시 종로구  종로5-6가동 주민센터   \n",
              "4              4   502     서울특별시 종로구     종로구청 민원실1   \n",
              "...          ...   ...           ...           ...   \n",
              "5087        5087   419  제주특별자치도 서귀포시   서홍동 무인민원발급기   \n",
              "5088        5088   420  제주특별자치도 서귀포시    중문동주민센터 입구   \n",
              "5089        5089   421  제주특별자치도 서귀포시      영천동 주민센터   \n",
              "5090        5090   422  제주특별자치도 서귀포시    남원읍 위미문화의집   \n",
              "5091        5091   423  제주특별자치도 서귀포시          안덕농협   \n",
              "\n",
              "                                                 설치장소주소     설치장소상세위치  \\\n",
              "0                         서울특별시 종로구 종로1길 36, 대림빌딩 (수송동)    2층 부동산정보과   \n",
              "1                         서울특별시 종로구 종로1길 36, 대림빌딩 (수송동)    2층 부동산정보과   \n",
              "2                         서울특별시 종로구 종로1길 36, 대림빌딩 (수송동)     종로구청 상황실   \n",
              "3                              서울특별시 종로구 종로35가길 19(효제동)    2층 민원실 입구   \n",
              "4                         서울특별시 종로구 종로1길 36, 대림빌딩 (수송동)       민원실 외부   \n",
              "...                                                 ...          ...   \n",
              "5087  제주특별자치도 서귀포시 중앙로 125(서홍동)[제주특별자치도 서귀포시 서홍동 397...  주민센터 입구 좌측    \n",
              "5088  제주특별자치도 서귀포시 1100로 30(중문동)[제주특별자치도 서귀포시 중문동 18...   중문동주민센터 입구   \n",
              "5089                 제주특별자치도 서귀포시 토평로 15, 영천동주민센터 (토평동)   현관 우측 옥외부스   \n",
              "5090                   제주특별자치도 서귀포시 남원읍 태위로 105, 위미문화의집    위미문화의 집 내   \n",
              "5091                     제주특별자치도 서귀포시 안덕면 화순로 104, 안덕농협       안덕농협 내   \n",
              "\n",
              "              장애인편의발급기형태 시각장애인용키패드 시각장애인용음성안내 청각장애인용화면안내  ... 휠체어사용자조작 설치장소위치  \\\n",
              "0     일반(장애인 편의기능 일부 포함)        제공         제공         제공  ...       가능    시군구   \n",
              "1     일반(장애인 편의기능 일부 포함)        제공         제공         제공  ...       가능    시군구   \n",
              "2                  장애인겸용        제공         제공         제공  ...       가능    시군구   \n",
              "3                  장애인겸용        제공         제공         제공  ...       가능    읍면동   \n",
              "4                  장애인겸용        제공         제공         제공  ...       가능    시군구   \n",
              "...                  ...       ...        ...        ...  ...      ...    ...   \n",
              "5087  일반(장애인 편의기능 일부 포함)        제공         제공         제공  ...       가능    읍면동   \n",
              "5088               장애인겸용        제공         제공         제공  ...       가능    읍면동   \n",
              "5089               장애인겸용        제공         제공         제공  ...       가능    읍면동   \n",
              "5090               장애인겸용        제공         제공         제공  ...       가능    읍면동   \n",
              "5091               장애인겸용        제공         제공         제공  ...       가능     은행   \n",
              "\n",
              "     문서발급횟수 갱신 연도 갱신 월 갱신 일  평일운영시작_hour  평일운영시작_min  평일운영종료_hour  평일운영종료_min  \n",
              "0        76  2021    3   24            9           0           18           0  \n",
              "1        76  2021    3   24            9           0           18           0  \n",
              "2        75  2022    8    3            0           0           24           0  \n",
              "3        75  2021    4   28            9           0           18           0  \n",
              "4        76  2022    8    3            9           0           18           0  \n",
              "...     ...   ...  ...  ...          ...         ...          ...         ...  \n",
              "5087     75  2022    7   21            0           0           24           0  \n",
              "5088     76  2022    7   21            0           0           24           0  \n",
              "5089     75  2022    7   21            0           0           24           0  \n",
              "5090     75  2022    3   26            0           0           24           0  \n",
              "5091     65  2022    3   23            6           0           24           0  \n",
              "\n",
              "[5092 rows x 24 columns]"
            ],
            "text/html": [
              "\n",
              "  <div id=\"df-5241d8a0-5b07-42dc-93fb-923dcf6453f7\">\n",
              "    <div class=\"colab-df-container\">\n",
              "      <div>\n",
              "<style scoped>\n",
              "    .dataframe tbody tr th:only-of-type {\n",
              "        vertical-align: middle;\n",
              "    }\n",
              "\n",
              "    .dataframe tbody tr th {\n",
              "        vertical-align: top;\n",
              "    }\n",
              "\n",
              "    .dataframe thead th {\n",
              "        text-align: right;\n",
              "    }\n",
              "</style>\n",
              "<table border=\"1\" class=\"dataframe\">\n",
              "  <thead>\n",
              "    <tr style=\"text-align: right;\">\n",
              "      <th></th>\n",
              "      <th>Unnamed: 0</th>\n",
              "      <th>관리번호</th>\n",
              "      <th>관리기관명</th>\n",
              "      <th>발급기명</th>\n",
              "      <th>설치장소주소</th>\n",
              "      <th>설치장소상세위치</th>\n",
              "      <th>장애인편의발급기형태</th>\n",
              "      <th>시각장애인용키패드</th>\n",
              "      <th>시각장애인용음성안내</th>\n",
              "      <th>청각장애인용화면안내</th>\n",
              "      <th>...</th>\n",
              "      <th>휠체어사용자조작</th>\n",
              "      <th>설치장소위치</th>\n",
              "      <th>문서발급횟수</th>\n",
              "      <th>갱신 연도</th>\n",
              "      <th>갱신 월</th>\n",
              "      <th>갱신 일</th>\n",
              "      <th>평일운영시작_hour</th>\n",
              "      <th>평일운영시작_min</th>\n",
              "      <th>평일운영종료_hour</th>\n",
              "      <th>평일운영종료_min</th>\n",
              "    </tr>\n",
              "  </thead>\n",
              "  <tbody>\n",
              "    <tr>\n",
              "      <th>0</th>\n",
              "      <td>0</td>\n",
              "      <td>101</td>\n",
              "      <td>서울특별시 종로구</td>\n",
              "      <td>종로구청 부동산정보과1</td>\n",
              "      <td>서울특별시 종로구 종로1길 36, 대림빌딩 (수송동)</td>\n",
              "      <td>2층 부동산정보과</td>\n",
              "      <td>일반(장애인 편의기능 일부 포함)</td>\n",
              "      <td>제공</td>\n",
              "      <td>제공</td>\n",
              "      <td>제공</td>\n",
              "      <td>...</td>\n",
              "      <td>가능</td>\n",
              "      <td>시군구</td>\n",
              "      <td>76</td>\n",
              "      <td>2021</td>\n",
              "      <td>3</td>\n",
              "      <td>24</td>\n",
              "      <td>9</td>\n",
              "      <td>0</td>\n",
              "      <td>18</td>\n",
              "      <td>0</td>\n",
              "    </tr>\n",
              "    <tr>\n",
              "      <th>1</th>\n",
              "      <td>1</td>\n",
              "      <td>102</td>\n",
              "      <td>서울특별시 종로구</td>\n",
              "      <td>종로구청 부동산정보과2</td>\n",
              "      <td>서울특별시 종로구 종로1길 36, 대림빌딩 (수송동)</td>\n",
              "      <td>2층 부동산정보과</td>\n",
              "      <td>일반(장애인 편의기능 일부 포함)</td>\n",
              "      <td>제공</td>\n",
              "      <td>제공</td>\n",
              "      <td>제공</td>\n",
              "      <td>...</td>\n",
              "      <td>가능</td>\n",
              "      <td>시군구</td>\n",
              "      <td>76</td>\n",
              "      <td>2021</td>\n",
              "      <td>3</td>\n",
              "      <td>24</td>\n",
              "      <td>9</td>\n",
              "      <td>0</td>\n",
              "      <td>18</td>\n",
              "      <td>0</td>\n",
              "    </tr>\n",
              "    <tr>\n",
              "      <th>2</th>\n",
              "      <td>2</td>\n",
              "      <td>103</td>\n",
              "      <td>서울특별시 종로구</td>\n",
              "      <td>종로구청 상황실</td>\n",
              "      <td>서울특별시 종로구 종로1길 36, 대림빌딩 (수송동)</td>\n",
              "      <td>종로구청 상황실</td>\n",
              "      <td>장애인겸용</td>\n",
              "      <td>제공</td>\n",
              "      <td>제공</td>\n",
              "      <td>제공</td>\n",
              "      <td>...</td>\n",
              "      <td>가능</td>\n",
              "      <td>시군구</td>\n",
              "      <td>75</td>\n",
              "      <td>2022</td>\n",
              "      <td>8</td>\n",
              "      <td>3</td>\n",
              "      <td>0</td>\n",
              "      <td>0</td>\n",
              "      <td>24</td>\n",
              "      <td>0</td>\n",
              "    </tr>\n",
              "    <tr>\n",
              "      <th>3</th>\n",
              "      <td>3</td>\n",
              "      <td>403</td>\n",
              "      <td>서울특별시 종로구</td>\n",
              "      <td>종로5-6가동 주민센터</td>\n",
              "      <td>서울특별시 종로구 종로35가길 19(효제동)</td>\n",
              "      <td>2층 민원실 입구</td>\n",
              "      <td>장애인겸용</td>\n",
              "      <td>제공</td>\n",
              "      <td>제공</td>\n",
              "      <td>제공</td>\n",
              "      <td>...</td>\n",
              "      <td>가능</td>\n",
              "      <td>읍면동</td>\n",
              "      <td>75</td>\n",
              "      <td>2021</td>\n",
              "      <td>4</td>\n",
              "      <td>28</td>\n",
              "      <td>9</td>\n",
              "      <td>0</td>\n",
              "      <td>18</td>\n",
              "      <td>0</td>\n",
              "    </tr>\n",
              "    <tr>\n",
              "      <th>4</th>\n",
              "      <td>4</td>\n",
              "      <td>502</td>\n",
              "      <td>서울특별시 종로구</td>\n",
              "      <td>종로구청 민원실1</td>\n",
              "      <td>서울특별시 종로구 종로1길 36, 대림빌딩 (수송동)</td>\n",
              "      <td>민원실 외부</td>\n",
              "      <td>장애인겸용</td>\n",
              "      <td>제공</td>\n",
              "      <td>제공</td>\n",
              "      <td>제공</td>\n",
              "      <td>...</td>\n",
              "      <td>가능</td>\n",
              "      <td>시군구</td>\n",
              "      <td>76</td>\n",
              "      <td>2022</td>\n",
              "      <td>8</td>\n",
              "      <td>3</td>\n",
              "      <td>9</td>\n",
              "      <td>0</td>\n",
              "      <td>18</td>\n",
              "      <td>0</td>\n",
              "    </tr>\n",
              "    <tr>\n",
              "      <th>...</th>\n",
              "      <td>...</td>\n",
              "      <td>...</td>\n",
              "      <td>...</td>\n",
              "      <td>...</td>\n",
              "      <td>...</td>\n",
              "      <td>...</td>\n",
              "      <td>...</td>\n",
              "      <td>...</td>\n",
              "      <td>...</td>\n",
              "      <td>...</td>\n",
              "      <td>...</td>\n",
              "      <td>...</td>\n",
              "      <td>...</td>\n",
              "      <td>...</td>\n",
              "      <td>...</td>\n",
              "      <td>...</td>\n",
              "      <td>...</td>\n",
              "      <td>...</td>\n",
              "      <td>...</td>\n",
              "      <td>...</td>\n",
              "      <td>...</td>\n",
              "    </tr>\n",
              "    <tr>\n",
              "      <th>5087</th>\n",
              "      <td>5087</td>\n",
              "      <td>419</td>\n",
              "      <td>제주특별자치도 서귀포시</td>\n",
              "      <td>서홍동 무인민원발급기</td>\n",
              "      <td>제주특별자치도 서귀포시 중앙로 125(서홍동)[제주특별자치도 서귀포시 서홍동 397...</td>\n",
              "      <td>주민센터 입구 좌측</td>\n",
              "      <td>일반(장애인 편의기능 일부 포함)</td>\n",
              "      <td>제공</td>\n",
              "      <td>제공</td>\n",
              "      <td>제공</td>\n",
              "      <td>...</td>\n",
              "      <td>가능</td>\n",
              "      <td>읍면동</td>\n",
              "      <td>75</td>\n",
              "      <td>2022</td>\n",
              "      <td>7</td>\n",
              "      <td>21</td>\n",
              "      <td>0</td>\n",
              "      <td>0</td>\n",
              "      <td>24</td>\n",
              "      <td>0</td>\n",
              "    </tr>\n",
              "    <tr>\n",
              "      <th>5088</th>\n",
              "      <td>5088</td>\n",
              "      <td>420</td>\n",
              "      <td>제주특별자치도 서귀포시</td>\n",
              "      <td>중문동주민센터 입구</td>\n",
              "      <td>제주특별자치도 서귀포시 1100로 30(중문동)[제주특별자치도 서귀포시 중문동 18...</td>\n",
              "      <td>중문동주민센터 입구</td>\n",
              "      <td>장애인겸용</td>\n",
              "      <td>제공</td>\n",
              "      <td>제공</td>\n",
              "      <td>제공</td>\n",
              "      <td>...</td>\n",
              "      <td>가능</td>\n",
              "      <td>읍면동</td>\n",
              "      <td>76</td>\n",
              "      <td>2022</td>\n",
              "      <td>7</td>\n",
              "      <td>21</td>\n",
              "      <td>0</td>\n",
              "      <td>0</td>\n",
              "      <td>24</td>\n",
              "      <td>0</td>\n",
              "    </tr>\n",
              "    <tr>\n",
              "      <th>5089</th>\n",
              "      <td>5089</td>\n",
              "      <td>421</td>\n",
              "      <td>제주특별자치도 서귀포시</td>\n",
              "      <td>영천동 주민센터</td>\n",
              "      <td>제주특별자치도 서귀포시 토평로 15, 영천동주민센터 (토평동)</td>\n",
              "      <td>현관 우측 옥외부스</td>\n",
              "      <td>장애인겸용</td>\n",
              "      <td>제공</td>\n",
              "      <td>제공</td>\n",
              "      <td>제공</td>\n",
              "      <td>...</td>\n",
              "      <td>가능</td>\n",
              "      <td>읍면동</td>\n",
              "      <td>75</td>\n",
              "      <td>2022</td>\n",
              "      <td>7</td>\n",
              "      <td>21</td>\n",
              "      <td>0</td>\n",
              "      <td>0</td>\n",
              "      <td>24</td>\n",
              "      <td>0</td>\n",
              "    </tr>\n",
              "    <tr>\n",
              "      <th>5090</th>\n",
              "      <td>5090</td>\n",
              "      <td>422</td>\n",
              "      <td>제주특별자치도 서귀포시</td>\n",
              "      <td>남원읍 위미문화의집</td>\n",
              "      <td>제주특별자치도 서귀포시 남원읍 태위로 105, 위미문화의집</td>\n",
              "      <td>위미문화의 집 내</td>\n",
              "      <td>장애인겸용</td>\n",
              "      <td>제공</td>\n",
              "      <td>제공</td>\n",
              "      <td>제공</td>\n",
              "      <td>...</td>\n",
              "      <td>가능</td>\n",
              "      <td>읍면동</td>\n",
              "      <td>75</td>\n",
              "      <td>2022</td>\n",
              "      <td>3</td>\n",
              "      <td>26</td>\n",
              "      <td>0</td>\n",
              "      <td>0</td>\n",
              "      <td>24</td>\n",
              "      <td>0</td>\n",
              "    </tr>\n",
              "    <tr>\n",
              "      <th>5091</th>\n",
              "      <td>5091</td>\n",
              "      <td>423</td>\n",
              "      <td>제주특별자치도 서귀포시</td>\n",
              "      <td>안덕농협</td>\n",
              "      <td>제주특별자치도 서귀포시 안덕면 화순로 104, 안덕농협</td>\n",
              "      <td>안덕농협 내</td>\n",
              "      <td>장애인겸용</td>\n",
              "      <td>제공</td>\n",
              "      <td>제공</td>\n",
              "      <td>제공</td>\n",
              "      <td>...</td>\n",
              "      <td>가능</td>\n",
              "      <td>은행</td>\n",
              "      <td>65</td>\n",
              "      <td>2022</td>\n",
              "      <td>3</td>\n",
              "      <td>23</td>\n",
              "      <td>6</td>\n",
              "      <td>0</td>\n",
              "      <td>24</td>\n",
              "      <td>0</td>\n",
              "    </tr>\n",
              "  </tbody>\n",
              "</table>\n",
              "<p>5092 rows × 24 columns</p>\n",
              "</div>\n",
              "      <button class=\"colab-df-convert\" onclick=\"convertToInteractive('df-5241d8a0-5b07-42dc-93fb-923dcf6453f7')\"\n",
              "              title=\"Convert this dataframe to an interactive table.\"\n",
              "              style=\"display:none;\">\n",
              "        \n",
              "  <svg xmlns=\"http://www.w3.org/2000/svg\" height=\"24px\"viewBox=\"0 0 24 24\"\n",
              "       width=\"24px\">\n",
              "    <path d=\"M0 0h24v24H0V0z\" fill=\"none\"/>\n",
              "    <path d=\"M18.56 5.44l.94 2.06.94-2.06 2.06-.94-2.06-.94-.94-2.06-.94 2.06-2.06.94zm-11 1L8.5 8.5l.94-2.06 2.06-.94-2.06-.94L8.5 2.5l-.94 2.06-2.06.94zm10 10l.94 2.06.94-2.06 2.06-.94-2.06-.94-.94-2.06-.94 2.06-2.06.94z\"/><path d=\"M17.41 7.96l-1.37-1.37c-.4-.4-.92-.59-1.43-.59-.52 0-1.04.2-1.43.59L10.3 9.45l-7.72 7.72c-.78.78-.78 2.05 0 2.83L4 21.41c.39.39.9.59 1.41.59.51 0 1.02-.2 1.41-.59l7.78-7.78 2.81-2.81c.8-.78.8-2.07 0-2.86zM5.41 20L4 18.59l7.72-7.72 1.47 1.35L5.41 20z\"/>\n",
              "  </svg>\n",
              "      </button>\n",
              "      \n",
              "  <style>\n",
              "    .colab-df-container {\n",
              "      display:flex;\n",
              "      flex-wrap:wrap;\n",
              "      gap: 12px;\n",
              "    }\n",
              "\n",
              "    .colab-df-convert {\n",
              "      background-color: #E8F0FE;\n",
              "      border: none;\n",
              "      border-radius: 50%;\n",
              "      cursor: pointer;\n",
              "      display: none;\n",
              "      fill: #1967D2;\n",
              "      height: 32px;\n",
              "      padding: 0 0 0 0;\n",
              "      width: 32px;\n",
              "    }\n",
              "\n",
              "    .colab-df-convert:hover {\n",
              "      background-color: #E2EBFA;\n",
              "      box-shadow: 0px 1px 2px rgba(60, 64, 67, 0.3), 0px 1px 3px 1px rgba(60, 64, 67, 0.15);\n",
              "      fill: #174EA6;\n",
              "    }\n",
              "\n",
              "    [theme=dark] .colab-df-convert {\n",
              "      background-color: #3B4455;\n",
              "      fill: #D2E3FC;\n",
              "    }\n",
              "\n",
              "    [theme=dark] .colab-df-convert:hover {\n",
              "      background-color: #434B5C;\n",
              "      box-shadow: 0px 1px 3px 1px rgba(0, 0, 0, 0.15);\n",
              "      filter: drop-shadow(0px 1px 2px rgba(0, 0, 0, 0.3));\n",
              "      fill: #FFFFFF;\n",
              "    }\n",
              "  </style>\n",
              "\n",
              "      <script>\n",
              "        const buttonEl =\n",
              "          document.querySelector('#df-5241d8a0-5b07-42dc-93fb-923dcf6453f7 button.colab-df-convert');\n",
              "        buttonEl.style.display =\n",
              "          google.colab.kernel.accessAllowed ? 'block' : 'none';\n",
              "\n",
              "        async function convertToInteractive(key) {\n",
              "          const element = document.querySelector('#df-5241d8a0-5b07-42dc-93fb-923dcf6453f7');\n",
              "          const dataTable =\n",
              "            await google.colab.kernel.invokeFunction('convertToInteractive',\n",
              "                                                     [key], {});\n",
              "          if (!dataTable) return;\n",
              "\n",
              "          const docLinkHtml = 'Like what you see? Visit the ' +\n",
              "            '<a target=\"_blank\" href=https://colab.research.google.com/notebooks/data_table.ipynb>data table notebook</a>'\n",
              "            + ' to learn more about interactive tables.';\n",
              "          element.innerHTML = '';\n",
              "          dataTable['output_type'] = 'display_data';\n",
              "          await google.colab.output.renderOutput(dataTable, element);\n",
              "          const docLink = document.createElement('div');\n",
              "          docLink.innerHTML = docLinkHtml;\n",
              "          element.appendChild(docLink);\n",
              "        }\n",
              "      </script>\n",
              "    </div>\n",
              "  </div>\n",
              "  "
            ]
          },
          "metadata": {},
          "execution_count": 17
        }
      ]
    },
    {
      "cell_type": "code",
      "source": [
        "print(df_inst.query('시각장애인용키패드==\"제공\"').shape[0] / df_inst.shape[0])\n",
        "print(df_inst.query('시각장애인용키패드==\"미제공\"').shape[0] / df_inst.shape[0])"
      ],
      "metadata": {
        "colab": {
          "base_uri": "https://localhost:8080/"
        },
        "id": "4CPfIx9Qbine",
        "outputId": "6fd8f25b-5f4e-49e0-e31a-587c02dfa2a0"
      },
      "execution_count": null,
      "outputs": [
        {
          "output_type": "stream",
          "name": "stdout",
          "text": [
            "0.9703456402199528\n",
            "0.029654359780047133\n"
          ]
        }
      ]
    },
    {
      "cell_type": "code",
      "source": [
        "print(df_inst.query('시각장애인용음성안내==\"제공\"').shape[0] / df_inst.shape[0])\n",
        "print(df_inst.query('시각장애인용음성안내==\"미제공\"').shape[0] / df_inst.shape[0])"
      ],
      "metadata": {
        "colab": {
          "base_uri": "https://localhost:8080/"
        },
        "id": "gYQq1quLb98a",
        "outputId": "11e4f928-8e20-4b16-ea92-f51de27743b2"
      },
      "execution_count": null,
      "outputs": [
        {
          "output_type": "stream",
          "name": "stdout",
          "text": [
            "0.9768263943440691\n",
            "0.023173605655930872\n"
          ]
        }
      ]
    },
    {
      "cell_type": "code",
      "source": [
        "print(df_inst.query('점자라벨부착==\"부착\"').shape[0] / df_inst.shape[0])\n",
        "print(df_inst.query('점자라벨부착==\"미부착\"').shape[0] / df_inst.shape[0])"
      ],
      "metadata": {
        "colab": {
          "base_uri": "https://localhost:8080/"
        },
        "id": "iDz-03HjcSmQ",
        "outputId": "b7d26b9e-86ec-49bb-f0d2-d884fbdd00ac"
      },
      "execution_count": null,
      "outputs": [
        {
          "output_type": "stream",
          "name": "stdout",
          "text": [
            "0.9695600942655145\n",
            "0.03043990573448547\n"
          ]
        }
      ]
    },
    {
      "cell_type": "code",
      "source": [
        "print(df_inst.query('화면확대기능==\"제공\"').shape[0] / df_inst.shape[0])\n",
        "print(df_inst.query('화면확대기능==\"미제공\"').shape[0] / df_inst.shape[0])"
      ],
      "metadata": {
        "colab": {
          "base_uri": "https://localhost:8080/"
        },
        "id": "7ZFB0DEZcXF6",
        "outputId": "651befc5-4878-4b1f-d643-cbcd41afe320"
      },
      "execution_count": null,
      "outputs": [
        {
          "output_type": "stream",
          "name": "stdout",
          "text": [
            "0.9738805970149254\n",
            "0.026119402985074626\n"
          ]
        }
      ]
    },
    {
      "cell_type": "code",
      "source": [
        "df_inst.rename(columns={'촉각(전자)모니터':'촉각모니터'}, inplace=True)"
      ],
      "metadata": {
        "id": "j4zfKtQRctRa"
      },
      "execution_count": null,
      "outputs": []
    },
    {
      "cell_type": "code",
      "source": [
        "print(df_inst.query('촉각모니터==\"제공\"').shape[0] / df_inst.shape[0])\n",
        "print(df_inst.query('촉각모니터==\"미제공\"').shape[0] / df_inst.shape[0])"
      ],
      "metadata": {
        "colab": {
          "base_uri": "https://localhost:8080/"
        },
        "id": "NhE_hj1lc6lB",
        "outputId": "f1fca476-8ca2-45bb-cf16-82def445b61b"
      },
      "execution_count": null,
      "outputs": [
        {
          "output_type": "stream",
          "name": "stdout",
          "text": [
            "0.27965435978004716\n",
            "0.7203456402199528\n"
          ]
        }
      ]
    },
    {
      "cell_type": "code",
      "source": [
        "plt.figure(figsize=(10,7))\n",
        "service = ['시각장애인용키패드','시각장애인용음성안내','점자라벨부착','화면확대기능','촉각모니터']\n",
        "index = np.arange(len(service))\n",
        "provided = [0.97,0.97,0.96,0.97,0.27]\n",
        "not_provided = [0.02,0.02,0.03,0.02,0.72]\n",
        "bar_width = 0.2\n",
        "plt.bar(index,provided,bar_width,label='제공')\n",
        "plt.bar(index+bar_width,not_provided,bar_width,label='미제공')\n",
        "plt.title(\"시각장애인 편의제공 서비스\",fontdict={'fontsize':20})\n",
        "plt.xticks(index,service)\n",
        "plt.xticks(fontsize=12)\n",
        "plt.legend(loc='center left',bbox_to_anchor=(0.8,0.8),prop={'size':12})\n",
        "plt.xlabel('서비스명',fontsize=15)\n",
        "plt.ylabel('비율',fontsize=15)"
      ],
      "metadata": {
        "colab": {
          "base_uri": "https://localhost:8080/",
          "height": 488
        },
        "id": "D59LyivV6jti",
        "outputId": "ec8644d9-f47c-49a3-bda2-e7ca4abd305b"
      },
      "execution_count": null,
      "outputs": [
        {
          "output_type": "execute_result",
          "data": {
            "text/plain": [
              "Text(0, 0.5, '비율')"
            ]
          },
          "metadata": {},
          "execution_count": 24
        },
        {
          "output_type": "display_data",
          "data": {
            "text/plain": [
              "<Figure size 720x504 with 1 Axes>"
            ],
            "image/png": "[encoded data removed]"
          },
          "metadata": {
            "needs_background": "light"
          }
        }
      ]
    },
    {
      "cell_type": "code",
      "source": [
        "s=df_inst.loc[df_inst['촉각모니터']=='미제공']"
      ],
      "metadata": {
        "id": "9g1mfpgfcrwn"
      },
      "execution_count": null,
      "outputs": []
    },
    {
      "cell_type": "code",
      "source": [
        "s.shape"
      ],
      "metadata": {
        "colab": {
          "base_uri": "https://localhost:8080/"
        },
        "id": "r9EYHEFbx_Au",
        "outputId": "c72659c1-3e38-436a-bd63-38405729200a"
      },
      "execution_count": null,
      "outputs": [
        {
          "output_type": "execute_result",
          "data": {
            "text/plain": [
              "(3668, 24)"
            ]
          },
          "metadata": {},
          "execution_count": 26
        }
      ]
    },
    {
      "cell_type": "code",
      "source": [
        "k = s.loc[s['갱신 연도']==2019]\n",
        "k.loc[:,['시각장애인용키패드','시각장애인용음성안내','점자라벨부착','화면확대기능','촉각모니터']]"
      ],
      "metadata": {
        "id": "W7EVhfl_j_A6",
        "colab": {
          "base_uri": "https://localhost:8080/",
          "height": 206
        },
        "outputId": "4b675393-bc38-4f86-ee03-98466b634328"
      },
      "execution_count": null,
      "outputs": [
        {
          "output_type": "execute_result",
          "data": {
            "text/plain": [
              "     시각장애인용키패드 시각장애인용음성안내 점자라벨부착 화면확대기능 촉각모니터\n",
              "1064       미제공        미제공    미부착    미제공   미제공\n",
              "1065       미제공        미제공    미부착    미제공   미제공\n",
              "1066       미제공        미제공    미부착    미제공   미제공\n",
              "1067       미제공        미제공    미부착    미제공   미제공\n",
              "1068       미제공        미제공    미부착    미제공   미제공"
            ],
            "text/html": [
              "\n",
              "  <div id=\"df-42623727-083e-4bb5-9964-6a8a65d2722c\">\n",
              "    <div class=\"colab-df-container\">\n",
              "      <div>\n",
              "<style scoped>\n",
              "    .dataframe tbody tr th:only-of-type {\n",
              "        vertical-align: middle;\n",
              "    }\n",
              "\n",
              "    .dataframe tbody tr th {\n",
              "        vertical-align: top;\n",
              "    }\n",
              "\n",
              "    .dataframe thead th {\n",
              "        text-align: right;\n",
              "    }\n",
              "</style>\n",
              "<table border=\"1\" class=\"dataframe\">\n",
              "  <thead>\n",
              "    <tr style=\"text-align: right;\">\n",
              "      <th></th>\n",
              "      <th>시각장애인용키패드</th>\n",
              "      <th>시각장애인용음성안내</th>\n",
              "      <th>점자라벨부착</th>\n",
              "      <th>화면확대기능</th>\n",
              "      <th>촉각모니터</th>\n",
              "    </tr>\n",
              "  </thead>\n",
              "  <tbody>\n",
              "    <tr>\n",
              "      <th>1064</th>\n",
              "      <td>미제공</td>\n",
              "      <td>미제공</td>\n",
              "      <td>미부착</td>\n",
              "      <td>미제공</td>\n",
              "      <td>미제공</td>\n",
              "    </tr>\n",
              "    <tr>\n",
              "      <th>1065</th>\n",
              "      <td>미제공</td>\n",
              "      <td>미제공</td>\n",
              "      <td>미부착</td>\n",
              "      <td>미제공</td>\n",
              "      <td>미제공</td>\n",
              "    </tr>\n",
              "    <tr>\n",
              "      <th>1066</th>\n",
              "      <td>미제공</td>\n",
              "      <td>미제공</td>\n",
              "      <td>미부착</td>\n",
              "      <td>미제공</td>\n",
              "      <td>미제공</td>\n",
              "    </tr>\n",
              "    <tr>\n",
              "      <th>1067</th>\n",
              "      <td>미제공</td>\n",
              "      <td>미제공</td>\n",
              "      <td>미부착</td>\n",
              "      <td>미제공</td>\n",
              "      <td>미제공</td>\n",
              "    </tr>\n",
              "    <tr>\n",
              "      <th>1068</th>\n",
              "      <td>미제공</td>\n",
              "      <td>미제공</td>\n",
              "      <td>미부착</td>\n",
              "      <td>미제공</td>\n",
              "      <td>미제공</td>\n",
              "    </tr>\n",
              "  </tbody>\n",
              "</table>\n",
              "</div>\n",
              "      <button class=\"colab-df-convert\" onclick=\"convertToInteractive('df-42623727-083e-4bb5-9964-6a8a65d2722c')\"\n",
              "              title=\"Convert this dataframe to an interactive table.\"\n",
              "              style=\"display:none;\">\n",
              "        \n",
              "  <svg xmlns=\"http://www.w3.org/2000/svg\" height=\"24px\"viewBox=\"0 0 24 24\"\n",
              "       width=\"24px\">\n",
              "    <path d=\"M0 0h24v24H0V0z\" fill=\"none\"/>\n",
              "    <path d=\"M18.56 5.44l.94 2.06.94-2.06 2.06-.94-2.06-.94-.94-2.06-.94 2.06-2.06.94zm-11 1L8.5 8.5l.94-2.06 2.06-.94-2.06-.94L8.5 2.5l-.94 2.06-2.06.94zm10 10l.94 2.06.94-2.06 2.06-.94-2.06-.94-.94-2.06-.94 2.06-2.06.94z\"/><path d=\"M17.41 7.96l-1.37-1.37c-.4-.4-.92-.59-1.43-.59-.52 0-1.04.2-1.43.59L10.3 9.45l-7.72 7.72c-.78.78-.78 2.05 0 2.83L4 21.41c.39.39.9.59 1.41.59.51 0 1.02-.2 1.41-.59l7.78-7.78 2.81-2.81c.8-.78.8-2.07 0-2.86zM5.41 20L4 18.59l7.72-7.72 1.47 1.35L5.41 20z\"/>\n",
              "  </svg>\n",
              "      </button>\n",
              "      \n",
              "  <style>\n",
              "    .colab-df-container {\n",
              "      display:flex;\n",
              "      flex-wrap:wrap;\n",
              "      gap: 12px;\n",
              "    }\n",
              "\n",
              "    .colab-df-convert {\n",
              "      background-color: #E8F0FE;\n",
              "      border: none;\n",
              "      border-radius: 50%;\n",
              "      cursor: pointer;\n",
              "      display: none;\n",
              "      fill: #1967D2;\n",
              "      height: 32px;\n",
              "      padding: 0 0 0 0;\n",
              "      width: 32px;\n",
              "    }\n",
              "\n",
              "    .colab-df-convert:hover {\n",
              "      background-color: #E2EBFA;\n",
              "      box-shadow: 0px 1px 2px rgba(60, 64, 67, 0.3), 0px 1px 3px 1px rgba(60, 64, 67, 0.15);\n",
              "      fill: #174EA6;\n",
              "    }\n",
              "\n",
              "    [theme=dark] .colab-df-convert {\n",
              "      background-color: #3B4455;\n",
              "      fill: #D2E3FC;\n",
              "    }\n",
              "\n",
              "    [theme=dark] .colab-df-convert:hover {\n",
              "      background-color: #434B5C;\n",
              "      box-shadow: 0px 1px 3px 1px rgba(0, 0, 0, 0.15);\n",
              "      filter: drop-shadow(0px 1px 2px rgba(0, 0, 0, 0.3));\n",
              "      fill: #FFFFFF;\n",
              "    }\n",
              "  </style>\n",
              "\n",
              "      <script>\n",
              "        const buttonEl =\n",
              "          document.querySelector('#df-42623727-083e-4bb5-9964-6a8a65d2722c button.colab-df-convert');\n",
              "        buttonEl.style.display =\n",
              "          google.colab.kernel.accessAllowed ? 'block' : 'none';\n",
              "\n",
              "        async function convertToInteractive(key) {\n",
              "          const element = document.querySelector('#df-42623727-083e-4bb5-9964-6a8a65d2722c');\n",
              "          const dataTable =\n",
              "            await google.colab.kernel.invokeFunction('convertToInteractive',\n",
              "                                                     [key], {});\n",
              "          if (!dataTable) return;\n",
              "\n",
              "          const docLinkHtml = 'Like what you see? Visit the ' +\n",
              "            '<a target=\"_blank\" href=https://colab.research.google.com/notebooks/data_table.ipynb>data table notebook</a>'\n",
              "            + ' to learn more about interactive tables.';\n",
              "          element.innerHTML = '';\n",
              "          dataTable['output_type'] = 'display_data';\n",
              "          await google.colab.output.renderOutput(dataTable, element);\n",
              "          const docLink = document.createElement('div');\n",
              "          docLink.innerHTML = docLinkHtml;\n",
              "          element.appendChild(docLink);\n",
              "        }\n",
              "      </script>\n",
              "    </div>\n",
              "  </div>\n",
              "  "
            ]
          },
          "metadata": {},
          "execution_count": 27
        }
      ]
    },
    {
      "cell_type": "code",
      "source": [
        "k2 = s.loc[s['갱신 연도']==2020]\n",
        "k2.loc[:,['시각장애인용키패드','시각장애인용음성안내','점자라벨부착','화면확대기능','촉각모니터']]"
      ],
      "metadata": {
        "id": "77thOZduym0q",
        "colab": {
          "base_uri": "https://localhost:8080/",
          "height": 676
        },
        "outputId": "40f6d88b-c8f1-4c72-fa40-a45b34b582ff"
      },
      "execution_count": null,
      "outputs": [
        {
          "output_type": "execute_result",
          "data": {
            "text/plain": [
              "     시각장애인용키패드 시각장애인용음성안내 점자라벨부착 화면확대기능 촉각모니터\n",
              "156         제공         제공     부착     제공   미제공\n",
              "519         제공         제공     부착     제공   미제공\n",
              "525         제공         제공     부착     제공   미제공\n",
              "1060        제공         제공     부착     제공   미제공\n",
              "2506        제공         제공     부착     제공   미제공\n",
              "3050        제공         제공     부착     제공   미제공\n",
              "3150        제공         제공     부착     제공   미제공\n",
              "3153        제공         제공     부착     제공   미제공\n",
              "3164        제공         제공     부착     제공   미제공\n",
              "3173        제공         제공     부착     제공   미제공\n",
              "3412        제공         제공     부착     제공   미제공\n",
              "3616        제공         제공     부착     제공   미제공\n",
              "3619        제공         제공     부착     제공   미제공\n",
              "3802       미제공        미제공    미부착     제공   미제공\n",
              "3879        제공         제공     부착     제공   미제공\n",
              "4006        제공         제공     부착     제공   미제공\n",
              "4609        제공         제공     부착     제공   미제공\n",
              "4618        제공         제공     부착     제공   미제공\n",
              "4623        제공         제공     부착     제공   미제공\n",
              "4626        제공         제공     부착     제공   미제공"
            ],
            "text/html": [
              "\n",
              "  <div id=\"df-74869c50-62c7-434d-a7a5-6794007bf3c5\">\n",
              "    <div class=\"colab-df-container\">\n",
              "      <div>\n",
              "<style scoped>\n",
              "    .dataframe tbody tr th:only-of-type {\n",
              "        vertical-align: middle;\n",
              "    }\n",
              "\n",
              "    .dataframe tbody tr th {\n",
              "        vertical-align: top;\n",
              "    }\n",
              "\n",
              "    .dataframe thead th {\n",
              "        text-align: right;\n",
              "    }\n",
              "</style>\n",
              "<table border=\"1\" class=\"dataframe\">\n",
              "  <thead>\n",
              "    <tr style=\"text-align: right;\">\n",
              "      <th></th>\n",
              "      <th>시각장애인용키패드</th>\n",
              "      <th>시각장애인용음성안내</th>\n",
              "      <th>점자라벨부착</th>\n",
              "      <th>화면확대기능</th>\n",
              "      <th>촉각모니터</th>\n",
              "    </tr>\n",
              "  </thead>\n",
              "  <tbody>\n",
              "    <tr>\n",
              "      <th>156</th>\n",
              "      <td>제공</td>\n",
              "      <td>제공</td>\n",
              "      <td>부착</td>\n",
              "      <td>제공</td>\n",
              "      <td>미제공</td>\n",
              "    </tr>\n",
              "    <tr>\n",
              "      <th>519</th>\n",
              "      <td>제공</td>\n",
              "      <td>제공</td>\n",
              "      <td>부착</td>\n",
              "      <td>제공</td>\n",
              "      <td>미제공</td>\n",
              "    </tr>\n",
              "    <tr>\n",
              "      <th>525</th>\n",
              "      <td>제공</td>\n",
              "      <td>제공</td>\n",
              "      <td>부착</td>\n",
              "      <td>제공</td>\n",
              "      <td>미제공</td>\n",
              "    </tr>\n",
              "    <tr>\n",
              "      <th>1060</th>\n",
              "      <td>제공</td>\n",
              "      <td>제공</td>\n",
              "      <td>부착</td>\n",
              "      <td>제공</td>\n",
              "      <td>미제공</td>\n",
              "    </tr>\n",
              "    <tr>\n",
              "      <th>2506</th>\n",
              "      <td>제공</td>\n",
              "      <td>제공</td>\n",
              "      <td>부착</td>\n",
              "      <td>제공</td>\n",
              "      <td>미제공</td>\n",
              "    </tr>\n",
              "    <tr>\n",
              "      <th>3050</th>\n",
              "      <td>제공</td>\n",
              "      <td>제공</td>\n",
              "      <td>부착</td>\n",
              "      <td>제공</td>\n",
              "      <td>미제공</td>\n",
              "    </tr>\n",
              "    <tr>\n",
              "      <th>3150</th>\n",
              "      <td>제공</td>\n",
              "      <td>제공</td>\n",
              "      <td>부착</td>\n",
              "      <td>제공</td>\n",
              "      <td>미제공</td>\n",
              "    </tr>\n",
              "    <tr>\n",
              "      <th>3153</th>\n",
              "      <td>제공</td>\n",
              "      <td>제공</td>\n",
              "      <td>부착</td>\n",
              "      <td>제공</td>\n",
              "      <td>미제공</td>\n",
              "    </tr>\n",
              "    <tr>\n",
              "      <th>3164</th>\n",
              "      <td>제공</td>\n",
              "      <td>제공</td>\n",
              "      <td>부착</td>\n",
              "      <td>제공</td>\n",
              "      <td>미제공</td>\n",
              "    </tr>\n",
              "    <tr>\n",
              "      <th>3173</th>\n",
              "      <td>제공</td>\n",
              "      <td>제공</td>\n",
              "      <td>부착</td>\n",
              "      <td>제공</td>\n",
              "      <td>미제공</td>\n",
              "    </tr>\n",
              "    <tr>\n",
              "      <th>3412</th>\n",
              "      <td>제공</td>\n",
              "      <td>제공</td>\n",
              "      <td>부착</td>\n",
              "      <td>제공</td>\n",
              "      <td>미제공</td>\n",
              "    </tr>\n",
              "    <tr>\n",
              "      <th>3616</th>\n",
              "      <td>제공</td>\n",
              "      <td>제공</td>\n",
              "      <td>부착</td>\n",
              "      <td>제공</td>\n",
              "      <td>미제공</td>\n",
              "    </tr>\n",
              "    <tr>\n",
              "      <th>3619</th>\n",
              "      <td>제공</td>\n",
              "      <td>제공</td>\n",
              "      <td>부착</td>\n",
              "      <td>제공</td>\n",
              "      <td>미제공</td>\n",
              "    </tr>\n",
              "    <tr>\n",
              "      <th>3802</th>\n",
              "      <td>미제공</td>\n",
              "      <td>미제공</td>\n",
              "      <td>미부착</td>\n",
              "      <td>제공</td>\n",
              "      <td>미제공</td>\n",
              "    </tr>\n",
              "    <tr>\n",
              "      <th>3879</th>\n",
              "      <td>제공</td>\n",
              "      <td>제공</td>\n",
              "      <td>부착</td>\n",
              "      <td>제공</td>\n",
              "      <td>미제공</td>\n",
              "    </tr>\n",
              "    <tr>\n",
              "      <th>4006</th>\n",
              "      <td>제공</td>\n",
              "      <td>제공</td>\n",
              "      <td>부착</td>\n",
              "      <td>제공</td>\n",
              "      <td>미제공</td>\n",
              "    </tr>\n",
              "    <tr>\n",
              "      <th>4609</th>\n",
              "      <td>제공</td>\n",
              "      <td>제공</td>\n",
              "      <td>부착</td>\n",
              "      <td>제공</td>\n",
              "      <td>미제공</td>\n",
              "    </tr>\n",
              "    <tr>\n",
              "      <th>4618</th>\n",
              "      <td>제공</td>\n",
              "      <td>제공</td>\n",
              "      <td>부착</td>\n",
              "      <td>제공</td>\n",
              "      <td>미제공</td>\n",
              "    </tr>\n",
              "    <tr>\n",
              "      <th>4623</th>\n",
              "      <td>제공</td>\n",
              "      <td>제공</td>\n",
              "      <td>부착</td>\n",
              "      <td>제공</td>\n",
              "      <td>미제공</td>\n",
              "    </tr>\n",
              "    <tr>\n",
              "      <th>4626</th>\n",
              "      <td>제공</td>\n",
              "      <td>제공</td>\n",
              "      <td>부착</td>\n",
              "      <td>제공</td>\n",
              "      <td>미제공</td>\n",
              "    </tr>\n",
              "  </tbody>\n",
              "</table>\n",
              "</div>\n",
              "      <button class=\"colab-df-convert\" onclick=\"convertToInteractive('df-74869c50-62c7-434d-a7a5-6794007bf3c5')\"\n",
              "              title=\"Convert this dataframe to an interactive table.\"\n",
              "              style=\"display:none;\">\n",
              "        \n",
              "  <svg xmlns=\"http://www.w3.org/2000/svg\" height=\"24px\"viewBox=\"0 0 24 24\"\n",
              "       width=\"24px\">\n",
              "    <path d=\"M0 0h24v24H0V0z\" fill=\"none\"/>\n",
              "    <path d=\"M18.56 5.44l.94 2.06.94-2.06 2.06-.94-2.06-.94-.94-2.06-.94 2.06-2.06.94zm-11 1L8.5 8.5l.94-2.06 2.06-.94-2.06-.94L8.5 2.5l-.94 2.06-2.06.94zm10 10l.94 2.06.94-2.06 2.06-.94-2.06-.94-.94-2.06-.94 2.06-2.06.94z\"/><path d=\"M17.41 7.96l-1.37-1.37c-.4-.4-.92-.59-1.43-.59-.52 0-1.04.2-1.43.59L10.3 9.45l-7.72 7.72c-.78.78-.78 2.05 0 2.83L4 21.41c.39.39.9.59 1.41.59.51 0 1.02-.2 1.41-.59l7.78-7.78 2.81-2.81c.8-.78.8-2.07 0-2.86zM5.41 20L4 18.59l7.72-7.72 1.47 1.35L5.41 20z\"/>\n",
              "  </svg>\n",
              "      </button>\n",
              "      \n",
              "  <style>\n",
              "    .colab-df-container {\n",
              "      display:flex;\n",
              "      flex-wrap:wrap;\n",
              "      gap: 12px;\n",
              "    }\n",
              "\n",
              "    .colab-df-convert {\n",
              "      background-color: #E8F0FE;\n",
              "      border: none;\n",
              "      border-radius: 50%;\n",
              "      cursor: pointer;\n",
              "      display: none;\n",
              "      fill: #1967D2;\n",
              "      height: 32px;\n",
              "      padding: 0 0 0 0;\n",
              "      width: 32px;\n",
              "    }\n",
              "\n",
              "    .colab-df-convert:hover {\n",
              "      background-color: #E2EBFA;\n",
              "      box-shadow: 0px 1px 2px rgba(60, 64, 67, 0.3), 0px 1px 3px 1px rgba(60, 64, 67, 0.15);\n",
              "      fill: #174EA6;\n",
              "    }\n",
              "\n",
              "    [theme=dark] .colab-df-convert {\n",
              "      background-color: #3B4455;\n",
              "      fill: #D2E3FC;\n",
              "    }\n",
              "\n",
              "    [theme=dark] .colab-df-convert:hover {\n",
              "      background-color: #434B5C;\n",
              "      box-shadow: 0px 1px 3px 1px rgba(0, 0, 0, 0.15);\n",
              "      filter: drop-shadow(0px 1px 2px rgba(0, 0, 0, 0.3));\n",
              "      fill: #FFFFFF;\n",
              "    }\n",
              "  </style>\n",
              "\n",
              "      <script>\n",
              "        const buttonEl =\n",
              "          document.querySelector('#df-74869c50-62c7-434d-a7a5-6794007bf3c5 button.colab-df-convert');\n",
              "        buttonEl.style.display =\n",
              "          google.colab.kernel.accessAllowed ? 'block' : 'none';\n",
              "\n",
              "        async function convertToInteractive(key) {\n",
              "          const element = document.querySelector('#df-74869c50-62c7-434d-a7a5-6794007bf3c5');\n",
              "          const dataTable =\n",
              "            await google.colab.kernel.invokeFunction('convertToInteractive',\n",
              "                                                     [key], {});\n",
              "          if (!dataTable) return;\n",
              "\n",
              "          const docLinkHtml = 'Like what you see? Visit the ' +\n",
              "            '<a target=\"_blank\" href=https://colab.research.google.com/notebooks/data_table.ipynb>data table notebook</a>'\n",
              "            + ' to learn more about interactive tables.';\n",
              "          element.innerHTML = '';\n",
              "          dataTable['output_type'] = 'display_data';\n",
              "          await google.colab.output.renderOutput(dataTable, element);\n",
              "          const docLink = document.createElement('div');\n",
              "          docLink.innerHTML = docLinkHtml;\n",
              "          element.appendChild(docLink);\n",
              "        }\n",
              "      </script>\n",
              "    </div>\n",
              "  </div>\n",
              "  "
            ]
          },
          "metadata": {},
          "execution_count": 28
        }
      ]
    },
    {
      "cell_type": "code",
      "source": [
        "k3 = s.loc[s['갱신 연도']==2021]\n",
        "k3.loc[:,['시각장애인용키패드','시각장애인용음성안내','점자라벨부착','화면확대기능','촉각모니터']]\n",
        "k3.query(('시각장애인용키패드==\"미제공\"') and ('시각장애인용음성안내==\"미제공\"') and ('점자라벨부착==\"미부착\"') and ('화면확대기능==\"미제공\"'))"
      ],
      "metadata": {
        "id": "akDGAGafypLh",
        "colab": {
          "base_uri": "https://localhost:8080/",
          "height": 568
        },
        "outputId": "4f5fab07-a643-4bb1-c1b1-9e404c0c4dc5"
      },
      "execution_count": null,
      "outputs": [
        {
          "output_type": "execute_result",
          "data": {
            "text/plain": [
              "      Unnamed: 0  관리번호       관리기관명          발급기명  \\\n",
              "1046        1046   503    인천광역시 중구    영종동 행정복지센터   \n",
              "1078        1078   102  인천광역시 미추홀구  용현5동 행정복지센터    \n",
              "2244        2244   401     경기도 군포시          대야미역   \n",
              "2245        2245   402     경기도 군포시          당정역    \n",
              "2246        2246   403     경기도 군포시      부곡지구 2단지   \n",
              "2247        2247   404     경기도 군포시         군포문화원   \n",
              "2958        2958   421    충청남도 천안시     갤러리아 센터시티   \n",
              "\n",
              "                                                 설치장소주소          설치장소상세위치  \\\n",
              "1046                             인천광역시 중구 운남서로 100(운남동)       영종동 주민센터 입구   \n",
              "1078                            인천광역시 미추홀구 토금북로 60(용현동)     용현5동 행정복지센터 내   \n",
              "2244                    경기도 군포시 대야1로 28(대야미동)[233번지 4호]        역사 내 매표소 옆   \n",
              "2245                        경기도 군포시 당정역로 91(당정동)[938번지]       역사 통로 출입구 옆   \n",
              "2246  경기도 군포시 송부로291번길 29-0, 206동 1층 (부곡동)[경기도 군포시 부...  2단지 관리사무소 옆 복지회관   \n",
              "2247                  경기도 군포시 한세로56번길 12(당정동)[969번지 2호]          문화원 내 현관   \n",
              "2958  충청남도 천안시 서북구 공원로 227, 8층 (불당동, 갤러리아백화점)[충청남도 천...         천안시 홍보관 내   \n",
              "\n",
              "              장애인편의발급기형태 시각장애인용키패드 시각장애인용음성안내 청각장애인용화면안내  ... 휠체어사용자조작  \\\n",
              "1046  일반(장애인 편의기능 일부 포함)        제공        미제공         제공  ...       가능   \n",
              "1078                  일반       미제공        미제공        미제공  ...       가능   \n",
              "2244                  일반       미제공        미제공        미제공  ...      불가능   \n",
              "2245                  일반       미제공        미제공        미제공  ...      불가능   \n",
              "2246                  일반       미제공        미제공        미제공  ...      불가능   \n",
              "2247                  일반       미제공        미제공        미제공  ...      불가능   \n",
              "2958  일반(장애인 편의기능 일부 포함)        제공        미제공         제공  ...       가능   \n",
              "\n",
              "      설치장소위치 문서발급횟수 갱신 연도 갱신 월 갱신 일  평일운영시작_hour  평일운영시작_min  평일운영종료_hour  \\\n",
              "1046     읍면동     76  2021   11   17            0           0           24   \n",
              "1078     읍면동     74  2021    9   29            9           0           18   \n",
              "2244     지하철     65  2021    9   29            7           0           21   \n",
              "2245     지하철     64  2021    9    1            7           0           21   \n",
              "2246     아파트     64  2021    9    1            7           0           21   \n",
              "2247  문화복지센터     76  2021    9    1            7           0           21   \n",
              "2958     백화점     64  2021   10    8           10          30           20   \n",
              "\n",
              "      평일운영종료_min  \n",
              "1046           0  \n",
              "1078           0  \n",
              "2244           0  \n",
              "2245           0  \n",
              "2246           0  \n",
              "2247           0  \n",
              "2958           0  \n",
              "\n",
              "[7 rows x 24 columns]"
            ],
            "text/html": [
              "\n",
              "  <div id=\"df-3849b135-47a6-4300-8b05-54b85467d94a\">\n",
              "    <div class=\"colab-df-container\">\n",
              "      <div>\n",
              "<style scoped>\n",
              "    .dataframe tbody tr th:only-of-type {\n",
              "        vertical-align: middle;\n",
              "    }\n",
              "\n",
              "    .dataframe tbody tr th {\n",
              "        vertical-align: top;\n",
              "    }\n",
              "\n",
              "    .dataframe thead th {\n",
              "        text-align: right;\n",
              "    }\n",
              "</style>\n",
              "<table border=\"1\" class=\"dataframe\">\n",
              "  <thead>\n",
              "    <tr style=\"text-align: right;\">\n",
              "      <th></th>\n",
              "      <th>Unnamed: 0</th>\n",
              "      <th>관리번호</th>\n",
              "      <th>관리기관명</th>\n",
              "      <th>발급기명</th>\n",
              "      <th>설치장소주소</th>\n",
              "      <th>설치장소상세위치</th>\n",
              "      <th>장애인편의발급기형태</th>\n",
              "      <th>시각장애인용키패드</th>\n",
              "      <th>시각장애인용음성안내</th>\n",
              "      <th>청각장애인용화면안내</th>\n",
              "      <th>...</th>\n",
              "      <th>휠체어사용자조작</th>\n",
              "      <th>설치장소위치</th>\n",
              "      <th>문서발급횟수</th>\n",
              "      <th>갱신 연도</th>\n",
              "      <th>갱신 월</th>\n",
              "      <th>갱신 일</th>\n",
              "      <th>평일운영시작_hour</th>\n",
              "      <th>평일운영시작_min</th>\n",
              "      <th>평일운영종료_hour</th>\n",
              "      <th>평일운영종료_min</th>\n",
              "    </tr>\n",
              "  </thead>\n",
              "  <tbody>\n",
              "    <tr>\n",
              "      <th>1046</th>\n",
              "      <td>1046</td>\n",
              "      <td>503</td>\n",
              "      <td>인천광역시 중구</td>\n",
              "      <td>영종동 행정복지센터</td>\n",
              "      <td>인천광역시 중구 운남서로 100(운남동)</td>\n",
              "      <td>영종동 주민센터 입구</td>\n",
              "      <td>일반(장애인 편의기능 일부 포함)</td>\n",
              "      <td>제공</td>\n",
              "      <td>미제공</td>\n",
              "      <td>제공</td>\n",
              "      <td>...</td>\n",
              "      <td>가능</td>\n",
              "      <td>읍면동</td>\n",
              "      <td>76</td>\n",
              "      <td>2021</td>\n",
              "      <td>11</td>\n",
              "      <td>17</td>\n",
              "      <td>0</td>\n",
              "      <td>0</td>\n",
              "      <td>24</td>\n",
              "      <td>0</td>\n",
              "    </tr>\n",
              "    <tr>\n",
              "      <th>1078</th>\n",
              "      <td>1078</td>\n",
              "      <td>102</td>\n",
              "      <td>인천광역시 미추홀구</td>\n",
              "      <td>용현5동 행정복지센터</td>\n",
              "      <td>인천광역시 미추홀구 토금북로 60(용현동)</td>\n",
              "      <td>용현5동 행정복지센터 내</td>\n",
              "      <td>일반</td>\n",
              "      <td>미제공</td>\n",
              "      <td>미제공</td>\n",
              "      <td>미제공</td>\n",
              "      <td>...</td>\n",
              "      <td>가능</td>\n",
              "      <td>읍면동</td>\n",
              "      <td>74</td>\n",
              "      <td>2021</td>\n",
              "      <td>9</td>\n",
              "      <td>29</td>\n",
              "      <td>9</td>\n",
              "      <td>0</td>\n",
              "      <td>18</td>\n",
              "      <td>0</td>\n",
              "    </tr>\n",
              "    <tr>\n",
              "      <th>2244</th>\n",
              "      <td>2244</td>\n",
              "      <td>401</td>\n",
              "      <td>경기도 군포시</td>\n",
              "      <td>대야미역</td>\n",
              "      <td>경기도 군포시 대야1로 28(대야미동)[233번지 4호]</td>\n",
              "      <td>역사 내 매표소 옆</td>\n",
              "      <td>일반</td>\n",
              "      <td>미제공</td>\n",
              "      <td>미제공</td>\n",
              "      <td>미제공</td>\n",
              "      <td>...</td>\n",
              "      <td>불가능</td>\n",
              "      <td>지하철</td>\n",
              "      <td>65</td>\n",
              "      <td>2021</td>\n",
              "      <td>9</td>\n",
              "      <td>29</td>\n",
              "      <td>7</td>\n",
              "      <td>0</td>\n",
              "      <td>21</td>\n",
              "      <td>0</td>\n",
              "    </tr>\n",
              "    <tr>\n",
              "      <th>2245</th>\n",
              "      <td>2245</td>\n",
              "      <td>402</td>\n",
              "      <td>경기도 군포시</td>\n",
              "      <td>당정역</td>\n",
              "      <td>경기도 군포시 당정역로 91(당정동)[938번지]</td>\n",
              "      <td>역사 통로 출입구 옆</td>\n",
              "      <td>일반</td>\n",
              "      <td>미제공</td>\n",
              "      <td>미제공</td>\n",
              "      <td>미제공</td>\n",
              "      <td>...</td>\n",
              "      <td>불가능</td>\n",
              "      <td>지하철</td>\n",
              "      <td>64</td>\n",
              "      <td>2021</td>\n",
              "      <td>9</td>\n",
              "      <td>1</td>\n",
              "      <td>7</td>\n",
              "      <td>0</td>\n",
              "      <td>21</td>\n",
              "      <td>0</td>\n",
              "    </tr>\n",
              "    <tr>\n",
              "      <th>2246</th>\n",
              "      <td>2246</td>\n",
              "      <td>403</td>\n",
              "      <td>경기도 군포시</td>\n",
              "      <td>부곡지구 2단지</td>\n",
              "      <td>경기도 군포시 송부로291번길 29-0, 206동 1층 (부곡동)[경기도 군포시 부...</td>\n",
              "      <td>2단지 관리사무소 옆 복지회관</td>\n",
              "      <td>일반</td>\n",
              "      <td>미제공</td>\n",
              "      <td>미제공</td>\n",
              "      <td>미제공</td>\n",
              "      <td>...</td>\n",
              "      <td>불가능</td>\n",
              "      <td>아파트</td>\n",
              "      <td>64</td>\n",
              "      <td>2021</td>\n",
              "      <td>9</td>\n",
              "      <td>1</td>\n",
              "      <td>7</td>\n",
              "      <td>0</td>\n",
              "      <td>21</td>\n",
              "      <td>0</td>\n",
              "    </tr>\n",
              "    <tr>\n",
              "      <th>2247</th>\n",
              "      <td>2247</td>\n",
              "      <td>404</td>\n",
              "      <td>경기도 군포시</td>\n",
              "      <td>군포문화원</td>\n",
              "      <td>경기도 군포시 한세로56번길 12(당정동)[969번지 2호]</td>\n",
              "      <td>문화원 내 현관</td>\n",
              "      <td>일반</td>\n",
              "      <td>미제공</td>\n",
              "      <td>미제공</td>\n",
              "      <td>미제공</td>\n",
              "      <td>...</td>\n",
              "      <td>불가능</td>\n",
              "      <td>문화복지센터</td>\n",
              "      <td>76</td>\n",
              "      <td>2021</td>\n",
              "      <td>9</td>\n",
              "      <td>1</td>\n",
              "      <td>7</td>\n",
              "      <td>0</td>\n",
              "      <td>21</td>\n",
              "      <td>0</td>\n",
              "    </tr>\n",
              "    <tr>\n",
              "      <th>2958</th>\n",
              "      <td>2958</td>\n",
              "      <td>421</td>\n",
              "      <td>충청남도 천안시</td>\n",
              "      <td>갤러리아 센터시티</td>\n",
              "      <td>충청남도 천안시 서북구 공원로 227, 8층 (불당동, 갤러리아백화점)[충청남도 천...</td>\n",
              "      <td>천안시 홍보관 내</td>\n",
              "      <td>일반(장애인 편의기능 일부 포함)</td>\n",
              "      <td>제공</td>\n",
              "      <td>미제공</td>\n",
              "      <td>제공</td>\n",
              "      <td>...</td>\n",
              "      <td>가능</td>\n",
              "      <td>백화점</td>\n",
              "      <td>64</td>\n",
              "      <td>2021</td>\n",
              "      <td>10</td>\n",
              "      <td>8</td>\n",
              "      <td>10</td>\n",
              "      <td>30</td>\n",
              "      <td>20</td>\n",
              "      <td>0</td>\n",
              "    </tr>\n",
              "  </tbody>\n",
              "</table>\n",
              "<p>7 rows × 24 columns</p>\n",
              "</div>\n",
              "      <button class=\"colab-df-convert\" onclick=\"convertToInteractive('df-3849b135-47a6-4300-8b05-54b85467d94a')\"\n",
              "              title=\"Convert this dataframe to an interactive table.\"\n",
              "              style=\"display:none;\">\n",
              "        \n",
              "  <svg xmlns=\"http://www.w3.org/2000/svg\" height=\"24px\"viewBox=\"0 0 24 24\"\n",
              "       width=\"24px\">\n",
              "    <path d=\"M0 0h24v24H0V0z\" fill=\"none\"/>\n",
              "    <path d=\"M18.56 5.44l.94 2.06.94-2.06 2.06-.94-2.06-.94-.94-2.06-.94 2.06-2.06.94zm-11 1L8.5 8.5l.94-2.06 2.06-.94-2.06-.94L8.5 2.5l-.94 2.06-2.06.94zm10 10l.94 2.06.94-2.06 2.06-.94-2.06-.94-.94-2.06-.94 2.06-2.06.94z\"/><path d=\"M17.41 7.96l-1.37-1.37c-.4-.4-.92-.59-1.43-.59-.52 0-1.04.2-1.43.59L10.3 9.45l-7.72 7.72c-.78.78-.78 2.05 0 2.83L4 21.41c.39.39.9.59 1.41.59.51 0 1.02-.2 1.41-.59l7.78-7.78 2.81-2.81c.8-.78.8-2.07 0-2.86zM5.41 20L4 18.59l7.72-7.72 1.47 1.35L5.41 20z\"/>\n",
              "  </svg>\n",
              "      </button>\n",
              "      \n",
              "  <style>\n",
              "    .colab-df-container {\n",
              "      display:flex;\n",
              "      flex-wrap:wrap;\n",
              "      gap: 12px;\n",
              "    }\n",
              "\n",
              "    .colab-df-convert {\n",
              "      background-color: #E8F0FE;\n",
              "      border: none;\n",
              "      border-radius: 50%;\n",
              "      cursor: pointer;\n",
              "      display: none;\n",
              "      fill: #1967D2;\n",
              "      height: 32px;\n",
              "      padding: 0 0 0 0;\n",
              "      width: 32px;\n",
              "    }\n",
              "\n",
              "    .colab-df-convert:hover {\n",
              "      background-color: #E2EBFA;\n",
              "      box-shadow: 0px 1px 2px rgba(60, 64, 67, 0.3), 0px 1px 3px 1px rgba(60, 64, 67, 0.15);\n",
              "      fill: #174EA6;\n",
              "    }\n",
              "\n",
              "    [theme=dark] .colab-df-convert {\n",
              "      background-color: #3B4455;\n",
              "      fill: #D2E3FC;\n",
              "    }\n",
              "\n",
              "    [theme=dark] .colab-df-convert:hover {\n",
              "      background-color: #434B5C;\n",
              "      box-shadow: 0px 1px 3px 1px rgba(0, 0, 0, 0.15);\n",
              "      filter: drop-shadow(0px 1px 2px rgba(0, 0, 0, 0.3));\n",
              "      fill: #FFFFFF;\n",
              "    }\n",
              "  </style>\n",
              "\n",
              "      <script>\n",
              "        const buttonEl =\n",
              "          document.querySelector('#df-3849b135-47a6-4300-8b05-54b85467d94a button.colab-df-convert');\n",
              "        buttonEl.style.display =\n",
              "          google.colab.kernel.accessAllowed ? 'block' : 'none';\n",
              "\n",
              "        async function convertToInteractive(key) {\n",
              "          const element = document.querySelector('#df-3849b135-47a6-4300-8b05-54b85467d94a');\n",
              "          const dataTable =\n",
              "            await google.colab.kernel.invokeFunction('convertToInteractive',\n",
              "                                                     [key], {});\n",
              "          if (!dataTable) return;\n",
              "\n",
              "          const docLinkHtml = 'Like what you see? Visit the ' +\n",
              "            '<a target=\"_blank\" href=https://colab.research.google.com/notebooks/data_table.ipynb>data table notebook</a>'\n",
              "            + ' to learn more about interactive tables.';\n",
              "          element.innerHTML = '';\n",
              "          dataTable['output_type'] = 'display_data';\n",
              "          await google.colab.output.renderOutput(dataTable, element);\n",
              "          const docLink = document.createElement('div');\n",
              "          docLink.innerHTML = docLinkHtml;\n",
              "          element.appendChild(docLink);\n",
              "        }\n",
              "      </script>\n",
              "    </div>\n",
              "  </div>\n",
              "  "
            ]
          },
          "metadata": {},
          "execution_count": 29
        }
      ]
    },
    {
      "cell_type": "code",
      "source": [
        "k4 = s.loc[s['갱신 연도']==2022]\n",
        "k4.loc[:,['시각장애인용키패드','시각장애인용음성안내','점자라벨부착','화면확대기능','촉각모니터']]\n",
        "k3.query(('시각장애인용키패드==\"미제공\"') and ('시각장애인용음성안내==\"미제공\"') and ('점자라벨부착==\"미부착\"') and ('화면확대기능==\"미제공\"'))"
      ],
      "metadata": {
        "id": "RLPhzl0iyq7B",
        "colab": {
          "base_uri": "https://localhost:8080/",
          "height": 568
        },
        "outputId": "e861d7c8-9107-4223-a1b1-31a8e5deda23"
      },
      "execution_count": null,
      "outputs": [
        {
          "output_type": "execute_result",
          "data": {
            "text/plain": [
              "      Unnamed: 0  관리번호       관리기관명          발급기명  \\\n",
              "1046        1046   503    인천광역시 중구    영종동 행정복지센터   \n",
              "1078        1078   102  인천광역시 미추홀구  용현5동 행정복지센터    \n",
              "2244        2244   401     경기도 군포시          대야미역   \n",
              "2245        2245   402     경기도 군포시          당정역    \n",
              "2246        2246   403     경기도 군포시      부곡지구 2단지   \n",
              "2247        2247   404     경기도 군포시         군포문화원   \n",
              "2958        2958   421    충청남도 천안시     갤러리아 센터시티   \n",
              "\n",
              "                                                 설치장소주소          설치장소상세위치  \\\n",
              "1046                             인천광역시 중구 운남서로 100(운남동)       영종동 주민센터 입구   \n",
              "1078                            인천광역시 미추홀구 토금북로 60(용현동)     용현5동 행정복지센터 내   \n",
              "2244                    경기도 군포시 대야1로 28(대야미동)[233번지 4호]        역사 내 매표소 옆   \n",
              "2245                        경기도 군포시 당정역로 91(당정동)[938번지]       역사 통로 출입구 옆   \n",
              "2246  경기도 군포시 송부로291번길 29-0, 206동 1층 (부곡동)[경기도 군포시 부...  2단지 관리사무소 옆 복지회관   \n",
              "2247                  경기도 군포시 한세로56번길 12(당정동)[969번지 2호]          문화원 내 현관   \n",
              "2958  충청남도 천안시 서북구 공원로 227, 8층 (불당동, 갤러리아백화점)[충청남도 천...         천안시 홍보관 내   \n",
              "\n",
              "              장애인편의발급기형태 시각장애인용키패드 시각장애인용음성안내 청각장애인용화면안내  ... 휠체어사용자조작  \\\n",
              "1046  일반(장애인 편의기능 일부 포함)        제공        미제공         제공  ...       가능   \n",
              "1078                  일반       미제공        미제공        미제공  ...       가능   \n",
              "2244                  일반       미제공        미제공        미제공  ...      불가능   \n",
              "2245                  일반       미제공        미제공        미제공  ...      불가능   \n",
              "2246                  일반       미제공        미제공        미제공  ...      불가능   \n",
              "2247                  일반       미제공        미제공        미제공  ...      불가능   \n",
              "2958  일반(장애인 편의기능 일부 포함)        제공        미제공         제공  ...       가능   \n",
              "\n",
              "      설치장소위치 문서발급횟수 갱신 연도 갱신 월 갱신 일  평일운영시작_hour  평일운영시작_min  평일운영종료_hour  \\\n",
              "1046     읍면동     76  2021   11   17            0           0           24   \n",
              "1078     읍면동     74  2021    9   29            9           0           18   \n",
              "2244     지하철     65  2021    9   29            7           0           21   \n",
              "2245     지하철     64  2021    9    1            7           0           21   \n",
              "2246     아파트     64  2021    9    1            7           0           21   \n",
              "2247  문화복지센터     76  2021    9    1            7           0           21   \n",
              "2958     백화점     64  2021   10    8           10          30           20   \n",
              "\n",
              "      평일운영종료_min  \n",
              "1046           0  \n",
              "1078           0  \n",
              "2244           0  \n",
              "2245           0  \n",
              "2246           0  \n",
              "2247           0  \n",
              "2958           0  \n",
              "\n",
              "[7 rows x 24 columns]"
            ],
            "text/html": [
              "\n",
              "  <div id=\"df-1dac80e4-4b07-4b19-b637-ec3b55da6727\">\n",
              "    <div class=\"colab-df-container\">\n",
              "      <div>\n",
              "<style scoped>\n",
              "    .dataframe tbody tr th:only-of-type {\n",
              "        vertical-align: middle;\n",
              "    }\n",
              "\n",
              "    .dataframe tbody tr th {\n",
              "        vertical-align: top;\n",
              "    }\n",
              "\n",
              "    .dataframe thead th {\n",
              "        text-align: right;\n",
              "    }\n",
              "</style>\n",
              "<table border=\"1\" class=\"dataframe\">\n",
              "  <thead>\n",
              "    <tr style=\"text-align: right;\">\n",
              "      <th></th>\n",
              "      <th>Unnamed: 0</th>\n",
              "      <th>관리번호</th>\n",
              "      <th>관리기관명</th>\n",
              "      <th>발급기명</th>\n",
              "      <th>설치장소주소</th>\n",
              "      <th>설치장소상세위치</th>\n",
              "      <th>장애인편의발급기형태</th>\n",
              "      <th>시각장애인용키패드</th>\n",
              "      <th>시각장애인용음성안내</th>\n",
              "      <th>청각장애인용화면안내</th>\n",
              "      <th>...</th>\n",
              "      <th>휠체어사용자조작</th>\n",
              "      <th>설치장소위치</th>\n",
              "      <th>문서발급횟수</th>\n",
              "      <th>갱신 연도</th>\n",
              "      <th>갱신 월</th>\n",
              "      <th>갱신 일</th>\n",
              "      <th>평일운영시작_hour</th>\n",
              "      <th>평일운영시작_min</th>\n",
              "      <th>평일운영종료_hour</th>\n",
              "      <th>평일운영종료_min</th>\n",
              "    </tr>\n",
              "  </thead>\n",
              "  <tbody>\n",
              "    <tr>\n",
              "      <th>1046</th>\n",
              "      <td>1046</td>\n",
              "      <td>503</td>\n",
              "      <td>인천광역시 중구</td>\n",
              "      <td>영종동 행정복지센터</td>\n",
              "      <td>인천광역시 중구 운남서로 100(운남동)</td>\n",
              "      <td>영종동 주민센터 입구</td>\n",
              "      <td>일반(장애인 편의기능 일부 포함)</td>\n",
              "      <td>제공</td>\n",
              "      <td>미제공</td>\n",
              "      <td>제공</td>\n",
              "      <td>...</td>\n",
              "      <td>가능</td>\n",
              "      <td>읍면동</td>\n",
              "      <td>76</td>\n",
              "      <td>2021</td>\n",
              "      <td>11</td>\n",
              "      <td>17</td>\n",
              "      <td>0</td>\n",
              "      <td>0</td>\n",
              "      <td>24</td>\n",
              "      <td>0</td>\n",
              "    </tr>\n",
              "    <tr>\n",
              "      <th>1078</th>\n",
              "      <td>1078</td>\n",
              "      <td>102</td>\n",
              "      <td>인천광역시 미추홀구</td>\n",
              "      <td>용현5동 행정복지센터</td>\n",
              "      <td>인천광역시 미추홀구 토금북로 60(용현동)</td>\n",
              "      <td>용현5동 행정복지센터 내</td>\n",
              "      <td>일반</td>\n",
              "      <td>미제공</td>\n",
              "      <td>미제공</td>\n",
              "      <td>미제공</td>\n",
              "      <td>...</td>\n",
              "      <td>가능</td>\n",
              "      <td>읍면동</td>\n",
              "      <td>74</td>\n",
              "      <td>2021</td>\n",
              "      <td>9</td>\n",
              "      <td>29</td>\n",
              "      <td>9</td>\n",
              "      <td>0</td>\n",
              "      <td>18</td>\n",
              "      <td>0</td>\n",
              "    </tr>\n",
              "    <tr>\n",
              "      <th>2244</th>\n",
              "      <td>2244</td>\n",
              "      <td>401</td>\n",
              "      <td>경기도 군포시</td>\n",
              "      <td>대야미역</td>\n",
              "      <td>경기도 군포시 대야1로 28(대야미동)[233번지 4호]</td>\n",
              "      <td>역사 내 매표소 옆</td>\n",
              "      <td>일반</td>\n",
              "      <td>미제공</td>\n",
              "      <td>미제공</td>\n",
              "      <td>미제공</td>\n",
              "      <td>...</td>\n",
              "      <td>불가능</td>\n",
              "      <td>지하철</td>\n",
              "      <td>65</td>\n",
              "      <td>2021</td>\n",
              "      <td>9</td>\n",
              "      <td>29</td>\n",
              "      <td>7</td>\n",
              "      <td>0</td>\n",
              "      <td>21</td>\n",
              "      <td>0</td>\n",
              "    </tr>\n",
              "    <tr>\n",
              "      <th>2245</th>\n",
              "      <td>2245</td>\n",
              "      <td>402</td>\n",
              "      <td>경기도 군포시</td>\n",
              "      <td>당정역</td>\n",
              "      <td>경기도 군포시 당정역로 91(당정동)[938번지]</td>\n",
              "      <td>역사 통로 출입구 옆</td>\n",
              "      <td>일반</td>\n",
              "      <td>미제공</td>\n",
              "      <td>미제공</td>\n",
              "      <td>미제공</td>\n",
              "      <td>...</td>\n",
              "      <td>불가능</td>\n",
              "      <td>지하철</td>\n",
              "      <td>64</td>\n",
              "      <td>2021</td>\n",
              "      <td>9</td>\n",
              "      <td>1</td>\n",
              "      <td>7</td>\n",
              "      <td>0</td>\n",
              "      <td>21</td>\n",
              "      <td>0</td>\n",
              "    </tr>\n",
              "    <tr>\n",
              "      <th>2246</th>\n",
              "      <td>2246</td>\n",
              "      <td>403</td>\n",
              "      <td>경기도 군포시</td>\n",
              "      <td>부곡지구 2단지</td>\n",
              "      <td>경기도 군포시 송부로291번길 29-0, 206동 1층 (부곡동)[경기도 군포시 부...</td>\n",
              "      <td>2단지 관리사무소 옆 복지회관</td>\n",
              "      <td>일반</td>\n",
              "      <td>미제공</td>\n",
              "      <td>미제공</td>\n",
              "      <td>미제공</td>\n",
              "      <td>...</td>\n",
              "      <td>불가능</td>\n",
              "      <td>아파트</td>\n",
              "      <td>64</td>\n",
              "      <td>2021</td>\n",
              "      <td>9</td>\n",
              "      <td>1</td>\n",
              "      <td>7</td>\n",
              "      <td>0</td>\n",
              "      <td>21</td>\n",
              "      <td>0</td>\n",
              "    </tr>\n",
              "    <tr>\n",
              "      <th>2247</th>\n",
              "      <td>2247</td>\n",
              "      <td>404</td>\n",
              "      <td>경기도 군포시</td>\n",
              "      <td>군포문화원</td>\n",
              "      <td>경기도 군포시 한세로56번길 12(당정동)[969번지 2호]</td>\n",
              "      <td>문화원 내 현관</td>\n",
              "      <td>일반</td>\n",
              "      <td>미제공</td>\n",
              "      <td>미제공</td>\n",
              "      <td>미제공</td>\n",
              "      <td>...</td>\n",
              "      <td>불가능</td>\n",
              "      <td>문화복지센터</td>\n",
              "      <td>76</td>\n",
              "      <td>2021</td>\n",
              "      <td>9</td>\n",
              "      <td>1</td>\n",
              "      <td>7</td>\n",
              "      <td>0</td>\n",
              "      <td>21</td>\n",
              "      <td>0</td>\n",
              "    </tr>\n",
              "    <tr>\n",
              "      <th>2958</th>\n",
              "      <td>2958</td>\n",
              "      <td>421</td>\n",
              "      <td>충청남도 천안시</td>\n",
              "      <td>갤러리아 센터시티</td>\n",
              "      <td>충청남도 천안시 서북구 공원로 227, 8층 (불당동, 갤러리아백화점)[충청남도 천...</td>\n",
              "      <td>천안시 홍보관 내</td>\n",
              "      <td>일반(장애인 편의기능 일부 포함)</td>\n",
              "      <td>제공</td>\n",
              "      <td>미제공</td>\n",
              "      <td>제공</td>\n",
              "      <td>...</td>\n",
              "      <td>가능</td>\n",
              "      <td>백화점</td>\n",
              "      <td>64</td>\n",
              "      <td>2021</td>\n",
              "      <td>10</td>\n",
              "      <td>8</td>\n",
              "      <td>10</td>\n",
              "      <td>30</td>\n",
              "      <td>20</td>\n",
              "      <td>0</td>\n",
              "    </tr>\n",
              "  </tbody>\n",
              "</table>\n",
              "<p>7 rows × 24 columns</p>\n",
              "</div>\n",
              "      <button class=\"colab-df-convert\" onclick=\"convertToInteractive('df-1dac80e4-4b07-4b19-b637-ec3b55da6727')\"\n",
              "              title=\"Convert this dataframe to an interactive table.\"\n",
              "              style=\"display:none;\">\n",
              "        \n",
              "  <svg xmlns=\"http://www.w3.org/2000/svg\" height=\"24px\"viewBox=\"0 0 24 24\"\n",
              "       width=\"24px\">\n",
              "    <path d=\"M0 0h24v24H0V0z\" fill=\"none\"/>\n",
              "    <path d=\"M18.56 5.44l.94 2.06.94-2.06 2.06-.94-2.06-.94-.94-2.06-.94 2.06-2.06.94zm-11 1L8.5 8.5l.94-2.06 2.06-.94-2.06-.94L8.5 2.5l-.94 2.06-2.06.94zm10 10l.94 2.06.94-2.06 2.06-.94-2.06-.94-.94-2.06-.94 2.06-2.06.94z\"/><path d=\"M17.41 7.96l-1.37-1.37c-.4-.4-.92-.59-1.43-.59-.52 0-1.04.2-1.43.59L10.3 9.45l-7.72 7.72c-.78.78-.78 2.05 0 2.83L4 21.41c.39.39.9.59 1.41.59.51 0 1.02-.2 1.41-.59l7.78-7.78 2.81-2.81c.8-.78.8-2.07 0-2.86zM5.41 20L4 18.59l7.72-7.72 1.47 1.35L5.41 20z\"/>\n",
              "  </svg>\n",
              "      </button>\n",
              "      \n",
              "  <style>\n",
              "    .colab-df-container {\n",
              "      display:flex;\n",
              "      flex-wrap:wrap;\n",
              "      gap: 12px;\n",
              "    }\n",
              "\n",
              "    .colab-df-convert {\n",
              "      background-color: #E8F0FE;\n",
              "      border: none;\n",
              "      border-radius: 50%;\n",
              "      cursor: pointer;\n",
              "      display: none;\n",
              "      fill: #1967D2;\n",
              "      height: 32px;\n",
              "      padding: 0 0 0 0;\n",
              "      width: 32px;\n",
              "    }\n",
              "\n",
              "    .colab-df-convert:hover {\n",
              "      background-color: #E2EBFA;\n",
              "      box-shadow: 0px 1px 2px rgba(60, 64, 67, 0.3), 0px 1px 3px 1px rgba(60, 64, 67, 0.15);\n",
              "      fill: #174EA6;\n",
              "    }\n",
              "\n",
              "    [theme=dark] .colab-df-convert {\n",
              "      background-color: #3B4455;\n",
              "      fill: #D2E3FC;\n",
              "    }\n",
              "\n",
              "    [theme=dark] .colab-df-convert:hover {\n",
              "      background-color: #434B5C;\n",
              "      box-shadow: 0px 1px 3px 1px rgba(0, 0, 0, 0.15);\n",
              "      filter: drop-shadow(0px 1px 2px rgba(0, 0, 0, 0.3));\n",
              "      fill: #FFFFFF;\n",
              "    }\n",
              "  </style>\n",
              "\n",
              "      <script>\n",
              "        const buttonEl =\n",
              "          document.querySelector('#df-1dac80e4-4b07-4b19-b637-ec3b55da6727 button.colab-df-convert');\n",
              "        buttonEl.style.display =\n",
              "          google.colab.kernel.accessAllowed ? 'block' : 'none';\n",
              "\n",
              "        async function convertToInteractive(key) {\n",
              "          const element = document.querySelector('#df-1dac80e4-4b07-4b19-b637-ec3b55da6727');\n",
              "          const dataTable =\n",
              "            await google.colab.kernel.invokeFunction('convertToInteractive',\n",
              "                                                     [key], {});\n",
              "          if (!dataTable) return;\n",
              "\n",
              "          const docLinkHtml = 'Like what you see? Visit the ' +\n",
              "            '<a target=\"_blank\" href=https://colab.research.google.com/notebooks/data_table.ipynb>data table notebook</a>'\n",
              "            + ' to learn more about interactive tables.';\n",
              "          element.innerHTML = '';\n",
              "          dataTable['output_type'] = 'display_data';\n",
              "          await google.colab.output.renderOutput(dataTable, element);\n",
              "          const docLink = document.createElement('div');\n",
              "          docLink.innerHTML = docLinkHtml;\n",
              "          element.appendChild(docLink);\n",
              "        }\n",
              "      </script>\n",
              "    </div>\n",
              "  </div>\n",
              "  "
            ]
          },
          "metadata": {},
          "execution_count": 30
        }
      ]
    },
    {
      "cell_type": "code",
      "source": [
        "plt.figure(figsize=(10,7))\n",
        "x_values = ['2019', '2020', '2021', '2022']\n",
        "y_values = [5, 20, 282, 3361]\n",
        "plt.plot(x_values, y_values,marker='o')\t\n",
        "plt.xlabel('연도',fontsize=15)\n",
        "plt.ylabel('발급기 개수',fontsize=17)\n",
        "plt.xticks(fontsize=13)\n",
        "plt.title('촉각(점자)모니터 서비스 미제공 발급기 변화량',fontdict={'fontsize':20})\n",
        "plt.show()"
      ],
      "metadata": {
        "colab": {
          "base_uri": "https://localhost:8080/",
          "height": 473
        },
        "id": "CunN0caozt5P",
        "outputId": "3677a385-2518-4e6a-9f22-731719bf2e61"
      },
      "execution_count": null,
      "outputs": [
        {
          "output_type": "display_data",
          "data": {
            "text/plain": [
              "<Figure size 720x504 with 1 Axes>"
            ],
            "image/png": "[encoded data removed]"
          },
          "metadata": {
            "needs_background": "light"
          }
        }
      ]
    },
    {
      "cell_type": "code",
      "source": [
        "print(df_inst.query('청각장애인용화면안내==\"제공\"').shape[0] / df_inst.shape[0])\n",
        "print(df_inst.query('청각장애인용화면안내==\"미제공\"').shape[0] / df_inst.shape[0])"
      ],
      "metadata": {
        "colab": {
          "base_uri": "https://localhost:8080/"
        },
        "id": "TgY5K9Qzl8lZ",
        "outputId": "1e46ebd8-6222-48cf-88a4-a8a3ef1abc9d"
      },
      "execution_count": null,
      "outputs": [
        {
          "output_type": "stream",
          "name": "stdout",
          "text": [
            "0.9848782403770621\n",
            "0.015121759622937941\n"
          ]
        }
      ]
    },
    {
      "cell_type": "code",
      "source": [
        "print(df_inst.query('이어폰소켓==\"제공\"').shape[0] / df_inst.shape[0])\n",
        "print(df_inst.query('이어폰소켓==\"미제공\"').shape[0] / df_inst.shape[0])"
      ],
      "metadata": {
        "colab": {
          "base_uri": "https://localhost:8080/"
        },
        "id": "ig_WHD76mPD5",
        "outputId": "ee1bb3e3-507d-47ed-e6eb-c2caaac7e255"
      },
      "execution_count": null,
      "outputs": [
        {
          "output_type": "stream",
          "name": "stdout",
          "text": [
            "0.9395129615082483\n",
            "0.060487038491751764\n"
          ]
        }
      ]
    },
    {
      "cell_type": "code",
      "source": [
        "plt.figure(figsize=(10,7))\n",
        "service = ['청각장애인용화면안내','이어폰소켓']\n",
        "index = np.arange(len(service))\n",
        "provided = [0.98,0.93]\n",
        "not_provided = [0.01,0.06]\n",
        "bar_width = 0.2\n",
        "plt.bar(index,provided,bar_width,label='제공')\n",
        "plt.bar(index+bar_width,not_provided,bar_width,label='미제공')\n",
        "plt.title(\"청각장애인 편의제공 서비스\",fontdict={'fontsize':20})\n",
        "plt.xticks(index,service)\n",
        "plt.xticks(fontsize=12)\n",
        "plt.legend(loc='center left',bbox_to_anchor=(0.84,0.8),prop={'size':12})\n",
        "plt.xlabel('서비스명',fontsize=15)\n",
        "plt.ylabel('비율',fontsize=15)"
      ],
      "metadata": {
        "colab": {
          "base_uri": "https://localhost:8080/",
          "height": 488
        },
        "id": "O-s39RRel5td",
        "outputId": "41725836-6ef0-45f2-b052-e007716d9f38"
      },
      "execution_count": null,
      "outputs": [
        {
          "output_type": "execute_result",
          "data": {
            "text/plain": [
              "Text(0, 0.5, '비율')"
            ]
          },
          "metadata": {},
          "execution_count": 34
        },
        {
          "output_type": "display_data",
          "data": {
            "text/plain": [
              "<Figure size 720x504 with 1 Axes>"
            ],
            "image/png": "[encoded data removed]"
          },
          "metadata": {
            "needs_background": "light"
          }
        }
      ]
    },
    {
      "cell_type": "code",
      "source": [
        "print(df_inst.query('휠체어사용자조작==\"가능\"').shape[0] / df_inst.shape[0])\n",
        "print(df_inst.query('휠체어사용자조작==\"불가능\"').shape[0] / df_inst.shape[0])"
      ],
      "metadata": {
        "colab": {
          "base_uri": "https://localhost:8080/"
        },
        "id": "rs72SyRunT4Z",
        "outputId": "b0df5e7a-7307-40b1-8c6f-7f40a2c2ebff"
      },
      "execution_count": null,
      "outputs": [
        {
          "output_type": "stream",
          "name": "stdout",
          "text": [
            "0.9367635506677141\n",
            "0.06323644933228594\n"
          ]
        }
      ]
    },
    {
      "cell_type": "code",
      "source": [
        "plt.figure(figsize=(10,7))\n",
        "service = ['휠체어사용자조작']\n",
        "index = np.arange(len(service))\n",
        "provided = 0.93\n",
        "not_provided = 0.06\n",
        "bar_width = 0.2\n",
        "plt.bar(index,provided,bar_width,label='가능')\n",
        "plt.bar(index+bar_width,not_provided,bar_width,label='불가능')\n",
        "plt.title(\"휠체어 사용자 편의제공 서비스\",fontdict={'fontsize':20})\n",
        "plt.xticks(index,service)\n",
        "plt.xticks(fontsize=12)\n",
        "plt.legend(loc='center left',bbox_to_anchor=(0.84,0.8),prop={'size':12})\n",
        "plt.xlabel('서비스명',fontsize=15)\n",
        "plt.ylabel('비율',fontsize=15)"
      ],
      "metadata": {
        "colab": {
          "base_uri": "https://localhost:8080/",
          "height": 488
        },
        "id": "8lwRiANUmopy",
        "outputId": "230cd1ce-4ea3-40a4-e0af-bb2c9d544cd6"
      },
      "execution_count": null,
      "outputs": [
        {
          "output_type": "execute_result",
          "data": {
            "text/plain": [
              "Text(0, 0.5, '비율')"
            ]
          },
          "metadata": {},
          "execution_count": 36
        },
        {
          "output_type": "display_data",
          "data": {
            "text/plain": [
              "<Figure size 720x504 with 1 Axes>"
            ],
            "image/png": "[encoded data removed]"
          },
          "metadata": {
            "needs_background": "light"
          }
        }
      ]
    },
    {
      "cell_type": "markdown",
      "source": [
        "- 대부분의 무인민원발급기에서 시,청각 장애인, 휠체어 사용자들을 위한 편의서비스들이 제공되고 있다.\n",
        "- 시각장애인을 위한 서비스 중 촉각(점자)모니터 서비스의 경우 미제공율이 높은데 추가 분석 시 키패드, 음성안내, 점자라벨, 화면확대기능 등 다른 서비스에 비해 많은 기능을 탑재하고있어서 촉각모니터의 필요성 감소로 분석 "
      ],
      "metadata": {
        "id": "LRhBp2DBjGZk"
      }
    },
    {
      "cell_type": "code",
      "source": [
        "df_inst.groupby('설치장소위치')['문서발급횟수'].mean()"
      ],
      "metadata": {
        "colab": {
          "base_uri": "https://localhost:8080/"
        },
        "id": "aVWqisQD8zlI",
        "outputId": "aafd95b6-58ef-49ef-9eea-daaf6ad3c926"
      },
      "execution_count": null,
      "outputs": [
        {
          "output_type": "execute_result",
          "data": {
            "text/plain": [
              "설치장소위치\n",
              "경찰서        73.272727\n",
              "공항         63.923077\n",
              "구민회관       68.100000\n",
              "기타         68.158537\n",
              "대학(교)      66.483871\n",
              "등기소        72.782609\n",
              "마트         65.225000\n",
              "문화복지센터     70.282051\n",
              "백화점        64.666667\n",
              "법원         74.692308\n",
              "병원         72.045455\n",
              "보건소        73.343750\n",
              "세무서        72.208696\n",
              "쇼핑몰        65.545455\n",
              "시군구        73.978474\n",
              "시도         74.000000\n",
              "아파트        64.952381\n",
              "역          67.980769\n",
              "우체국        69.000000\n",
              "은행         68.442623\n",
              "읍면동        75.090942\n",
              "중앙행정기관     72.533333\n",
              "지하철        66.993631\n",
              "차량등록사업소    73.000000\n",
              "터미널        59.349206\n",
              "Name: 문서발급횟수, dtype: float64"
            ]
          },
          "metadata": {},
          "execution_count": 37
        }
      ]
    },
    {
      "cell_type": "code",
      "source": [
        "plt.figure(figsize=(15,10))\n",
        "df_inst['설치장소위치'].value_counts().plot(kind='bar',fontsize=13,alpha=0.4);\n",
        "plt.title(\"무인민원발급기 설치장소 위치\",fontdict={'fontsize':25})"
      ],
      "metadata": {
        "colab": {
          "base_uri": "https://localhost:8080/",
          "height": 710
        },
        "id": "CL8fuNBtupvm",
        "outputId": "5fa0babf-655b-4a91-a916-1727e89d740d"
      },
      "execution_count": null,
      "outputs": [
        {
          "output_type": "execute_result",
          "data": {
            "text/plain": [
              "Text(0.5, 1.0, '무인민원발급기 설치장소 위치')"
            ]
          },
          "metadata": {},
          "execution_count": 38
        },
        {
          "output_type": "display_data",
          "data": {
            "text/plain": [
              "<Figure size 1080x720 with 1 Axes>"
            ],
            "image/png": "[encoded data removed]"
          },
          "metadata": {
            "needs_background": "light"
          }
        }
      ]
    },
    {
      "cell_type": "code",
      "source": [
        "df_inst.loc[df_inst['설치장소위치']=='우체국']"
      ],
      "metadata": {
        "colab": {
          "base_uri": "https://localhost:8080/",
          "height": 637
        },
        "id": "OF-MlCYB5rqC",
        "outputId": "66c0977c-5f6f-4dac-e8cc-ad27be9b88c3"
      },
      "execution_count": null,
      "outputs": [
        {
          "output_type": "execute_result",
          "data": {
            "text/plain": [
              "      Unnamed: 0  관리번호       관리기관명          발급기명  \\\n",
              "139          139   424  서울특별시 동대문구        동대문우체국   \n",
              "911          911   508   부산광역시 기장군  정관읍(부산모전우체국)   \n",
              "1207        1207   503    인천광역시 서구      가좌2동 우체국   \n",
              "1503        1503   401   대전광역시 대덕구     목상동 대덕우체국   \n",
              "2719        2719   510     강원도 영월군         영월우체국   \n",
              "3366        3366   403    전라북도 정읍시         정읍우체국   \n",
              "3654        3654   502    전라남도 화순군        화순우체국    \n",
              "\n",
              "                                                 설치장소주소  \\\n",
              "139                      서울특별시 동대문구 천호대로 4(신설동, 동대문우체국)   \n",
              "911   부산광역시 기장군 정관읍 모전1길 6-3[부산광역시 기장군 정관읍 모전리739번지 4호]   \n",
              "1207                           인천광역시 서구 원적로96번길 27(가좌동)   \n",
              "1503                   대전광역시 대덕구 문평동로 16, 대전대덕우체국 (문평동)   \n",
              "2719                  강원도 영월군 영월읍 단종로33번길 20, 영월우체국 365   \n",
              "3366                              전라북도 정읍시 중앙로 119(수성동)   \n",
              "3654                                전라남도 화순군 화순읍 중앙로 85   \n",
              "\n",
              "                                  설치장소상세위치          장애인편의발급기형태 시각장애인용키패드  \\\n",
              "139   지하철2호선 10번출구로 나와 동대문우체국 1층 정문 정면에 위치  일반(장애인 편의기능 일부 포함)        제공   \n",
              "911                        부산모전우체국 365코너 내  일반(장애인 편의기능 일부 포함)        제공   \n",
              "1207                 가좌2동우체국 ATM 창구 옆 외부부스  일반(장애인 편의기능 일부 포함)       미제공   \n",
              "1503                           대덕우체국 현관 입구  일반(장애인 편의기능 일부 포함)        제공   \n",
              "2719                         영월우체국365코너 실내               장애인겸용        제공   \n",
              "3366                                  민원실내               장애인겸용        제공   \n",
              "3654                            화순우체국 내 1층               장애인겸용        제공   \n",
              "\n",
              "     시각장애인용음성안내 청각장애인용화면안내  ... 휠체어사용자조작 설치장소위치 문서발급횟수 갱신 연도 갱신 월 갱신 일  \\\n",
              "139          제공         제공  ...       가능    우체국     73  2022    8   21   \n",
              "911          제공         제공  ...       가능    우체국     65  2022    8   26   \n",
              "1207         제공         제공  ...      불가능    우체국     64  2022    8   21   \n",
              "1503         제공         제공  ...       가능    우체국     64  2021    9    4   \n",
              "2719         제공         제공  ...       가능    우체국     66  2022    7   21   \n",
              "3366         제공         제공  ...       가능    우체국     76  2022    8    3   \n",
              "3654         제공         제공  ...       가능    우체국     75  2022    8   19   \n",
              "\n",
              "      평일운영시작_hour  평일운영시작_min  평일운영종료_hour  평일운영종료_min  \n",
              "139             8           0           18           0  \n",
              "911             7           0           23          30  \n",
              "1207            8           0           22           0  \n",
              "1503            9           0           23           0  \n",
              "2719            0           0           24           0  \n",
              "3366            9           0           18           0  \n",
              "3654            8          30           18           0  \n",
              "\n",
              "[7 rows x 24 columns]"
            ],
            "text/html": [
              "\n",
              "  <div id=\"df-c313d5fa-7385-456a-a053-bbe02ee40d98\">\n",
              "    <div class=\"colab-df-container\">\n",
              "      <div>\n",
              "<style scoped>\n",
              "    .dataframe tbody tr th:only-of-type {\n",
              "        vertical-align: middle;\n",
              "    }\n",
              "\n",
              "    .dataframe tbody tr th {\n",
              "        vertical-align: top;\n",
              "    }\n",
              "\n",
              "    .dataframe thead th {\n",
              "        text-align: right;\n",
              "    }\n",
              "</style>\n",
              "<table border=\"1\" class=\"dataframe\">\n",
              "  <thead>\n",
              "    <tr style=\"text-align: right;\">\n",
              "      <th></th>\n",
              "      <th>Unnamed: 0</th>\n",
              "      <th>관리번호</th>\n",
              "      <th>관리기관명</th>\n",
              "      <th>발급기명</th>\n",
              "      <th>설치장소주소</th>\n",
              "      <th>설치장소상세위치</th>\n",
              "      <th>장애인편의발급기형태</th>\n",
              "      <th>시각장애인용키패드</th>\n",
              "      <th>시각장애인용음성안내</th>\n",
              "      <th>청각장애인용화면안내</th>\n",
              "      <th>...</th>\n",
              "      <th>휠체어사용자조작</th>\n",
              "      <th>설치장소위치</th>\n",
              "      <th>문서발급횟수</th>\n",
              "      <th>갱신 연도</th>\n",
              "      <th>갱신 월</th>\n",
              "      <th>갱신 일</th>\n",
              "      <th>평일운영시작_hour</th>\n",
              "      <th>평일운영시작_min</th>\n",
              "      <th>평일운영종료_hour</th>\n",
              "      <th>평일운영종료_min</th>\n",
              "    </tr>\n",
              "  </thead>\n",
              "  <tbody>\n",
              "    <tr>\n",
              "      <th>139</th>\n",
              "      <td>139</td>\n",
              "      <td>424</td>\n",
              "      <td>서울특별시 동대문구</td>\n",
              "      <td>동대문우체국</td>\n",
              "      <td>서울특별시 동대문구 천호대로 4(신설동, 동대문우체국)</td>\n",
              "      <td>지하철2호선 10번출구로 나와 동대문우체국 1층 정문 정면에 위치</td>\n",
              "      <td>일반(장애인 편의기능 일부 포함)</td>\n",
              "      <td>제공</td>\n",
              "      <td>제공</td>\n",
              "      <td>제공</td>\n",
              "      <td>...</td>\n",
              "      <td>가능</td>\n",
              "      <td>우체국</td>\n",
              "      <td>73</td>\n",
              "      <td>2022</td>\n",
              "      <td>8</td>\n",
              "      <td>21</td>\n",
              "      <td>8</td>\n",
              "      <td>0</td>\n",
              "      <td>18</td>\n",
              "      <td>0</td>\n",
              "    </tr>\n",
              "    <tr>\n",
              "      <th>911</th>\n",
              "      <td>911</td>\n",
              "      <td>508</td>\n",
              "      <td>부산광역시 기장군</td>\n",
              "      <td>정관읍(부산모전우체국)</td>\n",
              "      <td>부산광역시 기장군 정관읍 모전1길 6-3[부산광역시 기장군 정관읍 모전리739번지 4호]</td>\n",
              "      <td>부산모전우체국 365코너 내</td>\n",
              "      <td>일반(장애인 편의기능 일부 포함)</td>\n",
              "      <td>제공</td>\n",
              "      <td>제공</td>\n",
              "      <td>제공</td>\n",
              "      <td>...</td>\n",
              "      <td>가능</td>\n",
              "      <td>우체국</td>\n",
              "      <td>65</td>\n",
              "      <td>2022</td>\n",
              "      <td>8</td>\n",
              "      <td>26</td>\n",
              "      <td>7</td>\n",
              "      <td>0</td>\n",
              "      <td>23</td>\n",
              "      <td>30</td>\n",
              "    </tr>\n",
              "    <tr>\n",
              "      <th>1207</th>\n",
              "      <td>1207</td>\n",
              "      <td>503</td>\n",
              "      <td>인천광역시 서구</td>\n",
              "      <td>가좌2동 우체국</td>\n",
              "      <td>인천광역시 서구 원적로96번길 27(가좌동)</td>\n",
              "      <td>가좌2동우체국 ATM 창구 옆 외부부스</td>\n",
              "      <td>일반(장애인 편의기능 일부 포함)</td>\n",
              "      <td>미제공</td>\n",
              "      <td>제공</td>\n",
              "      <td>제공</td>\n",
              "      <td>...</td>\n",
              "      <td>불가능</td>\n",
              "      <td>우체국</td>\n",
              "      <td>64</td>\n",
              "      <td>2022</td>\n",
              "      <td>8</td>\n",
              "      <td>21</td>\n",
              "      <td>8</td>\n",
              "      <td>0</td>\n",
              "      <td>22</td>\n",
              "      <td>0</td>\n",
              "    </tr>\n",
              "    <tr>\n",
              "      <th>1503</th>\n",
              "      <td>1503</td>\n",
              "      <td>401</td>\n",
              "      <td>대전광역시 대덕구</td>\n",
              "      <td>목상동 대덕우체국</td>\n",
              "      <td>대전광역시 대덕구 문평동로 16, 대전대덕우체국 (문평동)</td>\n",
              "      <td>대덕우체국 현관 입구</td>\n",
              "      <td>일반(장애인 편의기능 일부 포함)</td>\n",
              "      <td>제공</td>\n",
              "      <td>제공</td>\n",
              "      <td>제공</td>\n",
              "      <td>...</td>\n",
              "      <td>가능</td>\n",
              "      <td>우체국</td>\n",
              "      <td>64</td>\n",
              "      <td>2021</td>\n",
              "      <td>9</td>\n",
              "      <td>4</td>\n",
              "      <td>9</td>\n",
              "      <td>0</td>\n",
              "      <td>23</td>\n",
              "      <td>0</td>\n",
              "    </tr>\n",
              "    <tr>\n",
              "      <th>2719</th>\n",
              "      <td>2719</td>\n",
              "      <td>510</td>\n",
              "      <td>강원도 영월군</td>\n",
              "      <td>영월우체국</td>\n",
              "      <td>강원도 영월군 영월읍 단종로33번길 20, 영월우체국 365</td>\n",
              "      <td>영월우체국365코너 실내</td>\n",
              "      <td>장애인겸용</td>\n",
              "      <td>제공</td>\n",
              "      <td>제공</td>\n",
              "      <td>제공</td>\n",
              "      <td>...</td>\n",
              "      <td>가능</td>\n",
              "      <td>우체국</td>\n",
              "      <td>66</td>\n",
              "      <td>2022</td>\n",
              "      <td>7</td>\n",
              "      <td>21</td>\n",
              "      <td>0</td>\n",
              "      <td>0</td>\n",
              "      <td>24</td>\n",
              "      <td>0</td>\n",
              "    </tr>\n",
              "    <tr>\n",
              "      <th>3366</th>\n",
              "      <td>3366</td>\n",
              "      <td>403</td>\n",
              "      <td>전라북도 정읍시</td>\n",
              "      <td>정읍우체국</td>\n",
              "      <td>전라북도 정읍시 중앙로 119(수성동)</td>\n",
              "      <td>민원실내</td>\n",
              "      <td>장애인겸용</td>\n",
              "      <td>제공</td>\n",
              "      <td>제공</td>\n",
              "      <td>제공</td>\n",
              "      <td>...</td>\n",
              "      <td>가능</td>\n",
              "      <td>우체국</td>\n",
              "      <td>76</td>\n",
              "      <td>2022</td>\n",
              "      <td>8</td>\n",
              "      <td>3</td>\n",
              "      <td>9</td>\n",
              "      <td>0</td>\n",
              "      <td>18</td>\n",
              "      <td>0</td>\n",
              "    </tr>\n",
              "    <tr>\n",
              "      <th>3654</th>\n",
              "      <td>3654</td>\n",
              "      <td>502</td>\n",
              "      <td>전라남도 화순군</td>\n",
              "      <td>화순우체국</td>\n",
              "      <td>전라남도 화순군 화순읍 중앙로 85</td>\n",
              "      <td>화순우체국 내 1층</td>\n",
              "      <td>장애인겸용</td>\n",
              "      <td>제공</td>\n",
              "      <td>제공</td>\n",
              "      <td>제공</td>\n",
              "      <td>...</td>\n",
              "      <td>가능</td>\n",
              "      <td>우체국</td>\n",
              "      <td>75</td>\n",
              "      <td>2022</td>\n",
              "      <td>8</td>\n",
              "      <td>19</td>\n",
              "      <td>8</td>\n",
              "      <td>30</td>\n",
              "      <td>18</td>\n",
              "      <td>0</td>\n",
              "    </tr>\n",
              "  </tbody>\n",
              "</table>\n",
              "<p>7 rows × 24 columns</p>\n",
              "</div>\n",
              "      <button class=\"colab-df-convert\" onclick=\"convertToInteractive('df-c313d5fa-7385-456a-a053-bbe02ee40d98')\"\n",
              "              title=\"Convert this dataframe to an interactive table.\"\n",
              "              style=\"display:none;\">\n",
              "        \n",
              "  <svg xmlns=\"http://www.w3.org/2000/svg\" height=\"24px\"viewBox=\"0 0 24 24\"\n",
              "       width=\"24px\">\n",
              "    <path d=\"M0 0h24v24H0V0z\" fill=\"none\"/>\n",
              "    <path d=\"M18.56 5.44l.94 2.06.94-2.06 2.06-.94-2.06-.94-.94-2.06-.94 2.06-2.06.94zm-11 1L8.5 8.5l.94-2.06 2.06-.94-2.06-.94L8.5 2.5l-.94 2.06-2.06.94zm10 10l.94 2.06.94-2.06 2.06-.94-2.06-.94-.94-2.06-.94 2.06-2.06.94z\"/><path d=\"M17.41 7.96l-1.37-1.37c-.4-.4-.92-.59-1.43-.59-.52 0-1.04.2-1.43.59L10.3 9.45l-7.72 7.72c-.78.78-.78 2.05 0 2.83L4 21.41c.39.39.9.59 1.41.59.51 0 1.02-.2 1.41-.59l7.78-7.78 2.81-2.81c.8-.78.8-2.07 0-2.86zM5.41 20L4 18.59l7.72-7.72 1.47 1.35L5.41 20z\"/>\n",
              "  </svg>\n",
              "      </button>\n",
              "      \n",
              "  <style>\n",
              "    .colab-df-container {\n",
              "      display:flex;\n",
              "      flex-wrap:wrap;\n",
              "      gap: 12px;\n",
              "    }\n",
              "\n",
              "    .colab-df-convert {\n",
              "      background-color: #E8F0FE;\n",
              "      border: none;\n",
              "      border-radius: 50%;\n",
              "      cursor: pointer;\n",
              "      display: none;\n",
              "      fill: #1967D2;\n",
              "      height: 32px;\n",
              "      padding: 0 0 0 0;\n",
              "      width: 32px;\n",
              "    }\n",
              "\n",
              "    .colab-df-convert:hover {\n",
              "      background-color: #E2EBFA;\n",
              "      box-shadow: 0px 1px 2px rgba(60, 64, 67, 0.3), 0px 1px 3px 1px rgba(60, 64, 67, 0.15);\n",
              "      fill: #174EA6;\n",
              "    }\n",
              "\n",
              "    [theme=dark] .colab-df-convert {\n",
              "      background-color: #3B4455;\n",
              "      fill: #D2E3FC;\n",
              "    }\n",
              "\n",
              "    [theme=dark] .colab-df-convert:hover {\n",
              "      background-color: #434B5C;\n",
              "      box-shadow: 0px 1px 3px 1px rgba(0, 0, 0, 0.15);\n",
              "      filter: drop-shadow(0px 1px 2px rgba(0, 0, 0, 0.3));\n",
              "      fill: #FFFFFF;\n",
              "    }\n",
              "  </style>\n",
              "\n",
              "      <script>\n",
              "        const buttonEl =\n",
              "          document.querySelector('#df-c313d5fa-7385-456a-a053-bbe02ee40d98 button.colab-df-convert');\n",
              "        buttonEl.style.display =\n",
              "          google.colab.kernel.accessAllowed ? 'block' : 'none';\n",
              "\n",
              "        async function convertToInteractive(key) {\n",
              "          const element = document.querySelector('#df-c313d5fa-7385-456a-a053-bbe02ee40d98');\n",
              "          const dataTable =\n",
              "            await google.colab.kernel.invokeFunction('convertToInteractive',\n",
              "                                                     [key], {});\n",
              "          if (!dataTable) return;\n",
              "\n",
              "          const docLinkHtml = 'Like what you see? Visit the ' +\n",
              "            '<a target=\"_blank\" href=https://colab.research.google.com/notebooks/data_table.ipynb>data table notebook</a>'\n",
              "            + ' to learn more about interactive tables.';\n",
              "          element.innerHTML = '';\n",
              "          dataTable['output_type'] = 'display_data';\n",
              "          await google.colab.output.renderOutput(dataTable, element);\n",
              "          const docLink = document.createElement('div');\n",
              "          docLink.innerHTML = docLinkHtml;\n",
              "          element.appendChild(docLink);\n",
              "        }\n",
              "      </script>\n",
              "    </div>\n",
              "  </div>\n",
              "  "
            ]
          },
          "metadata": {},
          "execution_count": 39
        }
      ]
    },
    {
      "cell_type": "code",
      "source": [
        "df_inst['문서발급횟수'].unique()"
      ],
      "metadata": {
        "colab": {
          "base_uri": "https://localhost:8080/"
        },
        "id": "Q6v5bmzS879Y",
        "outputId": "e3b756e8-e144-4814-fc70-a51b68dee992"
      },
      "execution_count": null,
      "outputs": [
        {
          "output_type": "execute_result",
          "data": {
            "text/plain": [
              "array([76, 75, 65, 73, 63, 68, 74, 72, 64,  2, 70, 66, 62, 57,  1, 56, 61,\n",
              "       67, 71, 69, 58, 52, 20, 17, 51, 55, 54,  5])"
            ]
          },
          "metadata": {},
          "execution_count": 40
        }
      ]
    },
    {
      "cell_type": "code",
      "source": [
        "f = df_inst.loc[df_inst['문서발급횟수']<=20]\n",
        "f"
      ],
      "metadata": {
        "id": "gRvfYoiW9R8I",
        "colab": {
          "base_uri": "https://localhost:8080/",
          "height": 1000
        },
        "outputId": "02895b69-75fe-48e9-8592-0fc21e6e56c0"
      },
      "execution_count": null,
      "outputs": [
        {
          "output_type": "execute_result",
          "data": {
            "text/plain": [
              "      Unnamed: 0  관리번호      관리기관명                발급기명  \\\n",
              "154          154   401  서울특별시 중랑구          중랑구청부동산정보과   \n",
              "206          206   407  서울특별시 강북구            강북구청 민원실   \n",
              "261          261   501  서울특별시 노원구            부동산등기부등본   \n",
              "436          436   509  서울특별시 구로구        구로구청(부동산정보과)   \n",
              "678          678   404  서울특별시 강동구  강동구청 부동산정보과(등기부전용)   \n",
              "703          703   503   부산광역시 중구          부산항연안여객터미널   \n",
              "1065        1065   552   인천광역시 중구     IFEZ무인발급2 KIOSK   \n",
              "1066        1066   553   인천광역시 중구     IFEZ무인발급3 KIOSK   \n",
              "1067        1067   554   인천광역시 중구     IFEZ무인발급4 KIOSK   \n",
              "1068        1068   555   인천광역시 중구     IFEZ무인발급5 KIOSK   \n",
              "2785        2785   502    강원도 양양군         현남면사무소KIOSK   \n",
              "3350        3350   409   전라북도 익산시          함열출장소(등기부)   \n",
              "3393        3393   404   전라북도 김제시            서암동(등기부)   \n",
              "4195        4195   302   경상북도 울릉군            도동여객선터미널   \n",
              "4196        4196   303   경상북도 울릉군            사동여객선터미널   \n",
              "4197        4197   304   경상북도 울릉군            저동여객선터미널   \n",
              "4247        4247   405   경상남도 사천시              유람선선착장   \n",
              "4248        4248   406   경상남도 사천시            사천바다케이블카   \n",
              "4250        4250   408   경상남도 사천시                사천공항   \n",
              "4254        4254   514   경상남도 사천시        삼천포신항 여객선터미널   \n",
              "\n",
              "                                                 설치장소주소              설치장소상세위치  \\\n",
              "154                             서울특별시 중랑구 봉화산로 179(신내동)       구청사 2층 부동산정보과 내   \n",
              "206   서울특별시 강북구 도봉로89길 13(수유동)[서울특별시 강북구 수유동 192번지 59호]           부동산정보과 앞 로비   \n",
              "261                              서울특별시 노원구 노해로 437(상계동)     노원구청 1층 정문현관입구 왼쪽   \n",
              "436                             서울특별시 구로구 가마산로 245(구로동)           1층 부동산정보과 내   \n",
              "678     서울특별시 강동구 성내로 25(성내동)[서울특별시 강동구 성내동 540번지 강동구청]         강동구청 본관 1층 로비   \n",
              "703                             부산광역시 중구 충장대로 24(중앙동4가)    부산항 연안여객터미널 1층 대합실   \n",
              "1065  인천광역시 중구 마시란로 308-13(남북동, 용유동주민센터)[인천광역시 중구 남북...            용유동 행정복지센터   \n",
              "1066  인천광역시 중구 흰바위로27번길 10(운서동, 운서동주민센터)[인천광역시 중구 운서...            운서동 행정복지센터   \n",
              "1067  인천광역시 중구 신포로27번길 80(관동1가, 중구청)[인천광역시 중구 관동1가 9...             인천중구청 민원실   \n",
              "1068  인천광역시 연수구 갯벌로 12(송도동)[인천광역시 연수구 송도동 7번지 50호 ] ...     인천대학교 미추홀캠퍼스 별관B동   \n",
              "2785       강원도 양양군 현남면 인구중앙길 45[강원도 양양군 현남면 인구리19번지 1호]             현남면사무소  내   \n",
              "3350   전라북도 익산시 함열읍 익산대로 1798[전라북도 익산시 함열읍 남당리641번지 6호]                함열출장소안   \n",
              "3393                               전라북도 김제시 중앙로 40(서암동)           김제시청 종합민원실내   \n",
              "4195                                경상북도 울릉군 울릉읍 도동길 14              실내 편의점 옆   \n",
              "4196                          경상북도 울릉군 울릉읍 울릉순환로 785-25                터미널 출구   \n",
              "4197    경상북도 울릉군 울릉읍 울릉순환로 171[경상북도 울릉군 울릉읍 저동리48번지 7호]                  입구 옆   \n",
              "4247                   경상남도 사천시 유람선길 70(대방동)[765번지 14호]            유람선선착장 휴게실   \n",
              "4248            경상남도 사천시 사천대로 18, 사천바다 케이블카 대방정류장 (대방동)              매표소 좌측건물   \n",
              "4250                       경상남도 사천시 사천읍 사천대로 1971, 사천공항  공항 주출입문 좌측 농협ATM기기 옆   \n",
              "4254                            경상남도 사천시 신항만1길 76 (향촌동)        삼천포신항 여객선터미널 내   \n",
              "\n",
              "              장애인편의발급기형태 시각장애인용키패드 시각장애인용음성안내 청각장애인용화면안내  ... 휠체어사용자조작 설치장소위치  \\\n",
              "154                장애인겸용        제공         제공         제공  ...       가능    시군구   \n",
              "206   일반(장애인 편의기능 일부 포함)       미제공        미제공        미제공  ...       가능    시군구   \n",
              "261                   일반       미제공        미제공        미제공  ...      불가능    시군구   \n",
              "436                장애인겸용        제공         제공         제공  ...       가능    시군구   \n",
              "678   일반(장애인 편의기능 일부 포함)        제공        미제공         제공  ...       가능    시군구   \n",
              "703                   일반       미제공        미제공        미제공  ...      불가능    터미널   \n",
              "1065                  일반       미제공        미제공        미제공  ...      불가능    읍면동   \n",
              "1066                  일반       미제공        미제공        미제공  ...      불가능     기타   \n",
              "1067                  일반       미제공        미제공        미제공  ...      불가능    시군구   \n",
              "1068                  일반       미제공        미제공        미제공  ...      불가능     기타   \n",
              "2785  일반(장애인 편의기능 일부 포함)        제공         제공         제공  ...      불가능    읍면동   \n",
              "3350               장애인겸용        제공         제공         제공  ...       가능     기타   \n",
              "3393  일반(장애인 편의기능 일부 포함)        제공         제공         제공  ...       가능    시군구   \n",
              "4195               장애인겸용        제공         제공         제공  ...       가능    터미널   \n",
              "4196               장애인겸용        제공         제공         제공  ...       가능    터미널   \n",
              "4197               장애인겸용        제공         제공         제공  ...       가능    터미널   \n",
              "4247               장애인겸용        제공         제공         제공  ...       가능    터미널   \n",
              "4248               장애인겸용        제공         제공         제공  ...       가능     기타   \n",
              "4250               장애인겸용        제공         제공         제공  ...       가능     공항   \n",
              "4254               장애인겸용        제공         제공         제공  ...       가능    터미널   \n",
              "\n",
              "     문서발급횟수 갱신 연도 갱신 월 갱신 일  평일운영시작_hour  평일운영시작_min  평일운영종료_hour  평일운영종료_min  \n",
              "154       2  2020   10   14            8          30           18          30  \n",
              "206       1  2022    8   12            9           0           18           0  \n",
              "261       1  2022    7   20            9           0           18           0  \n",
              "436       2  2022    7   20            9           0           18           0  \n",
              "678       1  2022    7   23            9           0           18           0  \n",
              "703       2  2022    7   27            9           0           20           0  \n",
              "1065     20  2019    4    9            9           0           18           0  \n",
              "1066     20  2019    4    9            9           0           18           0  \n",
              "1067     20  2019    4    9            9           0           18           0  \n",
              "1068     17  2019    4    9            9           0           18           0  \n",
              "2785      1  2022    8   20            9           0           18           0  \n",
              "3350      1  2022    8   19            9           0           18           0  \n",
              "3393      1  2022    7   22            9           0           18           0  \n",
              "4195      2  2022    8   20            5           0           21           0  \n",
              "4196      2  2022    8   20            5           0           21           0  \n",
              "4197      2  2022    8   20            5           0           21           0  \n",
              "4247      2  2022    8   21            8           0           14          30  \n",
              "4248      2  2022    8    4            8           0           19           0  \n",
              "4250      5  2022    8    5            6           0           22           0  \n",
              "4254      2  2022    8    4            0           0           24           0  \n",
              "\n",
              "[20 rows x 24 columns]"
            ],
            "text/html": [
              "\n",
              "  <div id=\"df-672b3565-d990-4fdc-9959-3063acdcf0ce\">\n",
              "    <div class=\"colab-df-container\">\n",
              "      <div>\n",
              "<style scoped>\n",
              "    .dataframe tbody tr th:only-of-type {\n",
              "        vertical-align: middle;\n",
              "    }\n",
              "\n",
              "    .dataframe tbody tr th {\n",
              "        vertical-align: top;\n",
              "    }\n",
              "\n",
              "    .dataframe thead th {\n",
              "        text-align: right;\n",
              "    }\n",
              "</style>\n",
              "<table border=\"1\" class=\"dataframe\">\n",
              "  <thead>\n",
              "    <tr style=\"text-align: right;\">\n",
              "      <th></th>\n",
              "      <th>Unnamed: 0</th>\n",
              "      <th>관리번호</th>\n",
              "      <th>관리기관명</th>\n",
              "      <th>발급기명</th>\n",
              "      <th>설치장소주소</th>\n",
              "      <th>설치장소상세위치</th>\n",
              "      <th>장애인편의발급기형태</th>\n",
              "      <th>시각장애인용키패드</th>\n",
              "      <th>시각장애인용음성안내</th>\n",
              "      <th>청각장애인용화면안내</th>\n",
              "      <th>...</th>\n",
              "      <th>휠체어사용자조작</th>\n",
              "      <th>설치장소위치</th>\n",
              "      <th>문서발급횟수</th>\n",
              "      <th>갱신 연도</th>\n",
              "      <th>갱신 월</th>\n",
              "      <th>갱신 일</th>\n",
              "      <th>평일운영시작_hour</th>\n",
              "      <th>평일운영시작_min</th>\n",
              "      <th>평일운영종료_hour</th>\n",
              "      <th>평일운영종료_min</th>\n",
              "    </tr>\n",
              "  </thead>\n",
              "  <tbody>\n",
              "    <tr>\n",
              "      <th>154</th>\n",
              "      <td>154</td>\n",
              "      <td>401</td>\n",
              "      <td>서울특별시 중랑구</td>\n",
              "      <td>중랑구청부동산정보과</td>\n",
              "      <td>서울특별시 중랑구 봉화산로 179(신내동)</td>\n",
              "      <td>구청사 2층 부동산정보과 내</td>\n",
              "      <td>장애인겸용</td>\n",
              "      <td>제공</td>\n",
              "      <td>제공</td>\n",
              "      <td>제공</td>\n",
              "      <td>...</td>\n",
              "      <td>가능</td>\n",
              "      <td>시군구</td>\n",
              "      <td>2</td>\n",
              "      <td>2020</td>\n",
              "      <td>10</td>\n",
              "      <td>14</td>\n",
              "      <td>8</td>\n",
              "      <td>30</td>\n",
              "      <td>18</td>\n",
              "      <td>30</td>\n",
              "    </tr>\n",
              "    <tr>\n",
              "      <th>206</th>\n",
              "      <td>206</td>\n",
              "      <td>407</td>\n",
              "      <td>서울특별시 강북구</td>\n",
              "      <td>강북구청 민원실</td>\n",
              "      <td>서울특별시 강북구 도봉로89길 13(수유동)[서울특별시 강북구 수유동 192번지 59호]</td>\n",
              "      <td>부동산정보과 앞 로비</td>\n",
              "      <td>일반(장애인 편의기능 일부 포함)</td>\n",
              "      <td>미제공</td>\n",
              "      <td>미제공</td>\n",
              "      <td>미제공</td>\n",
              "      <td>...</td>\n",
              "      <td>가능</td>\n",
              "      <td>시군구</td>\n",
              "      <td>1</td>\n",
              "      <td>2022</td>\n",
              "      <td>8</td>\n",
              "      <td>12</td>\n",
              "      <td>9</td>\n",
              "      <td>0</td>\n",
              "      <td>18</td>\n",
              "      <td>0</td>\n",
              "    </tr>\n",
              "    <tr>\n",
              "      <th>261</th>\n",
              "      <td>261</td>\n",
              "      <td>501</td>\n",
              "      <td>서울특별시 노원구</td>\n",
              "      <td>부동산등기부등본</td>\n",
              "      <td>서울특별시 노원구 노해로 437(상계동)</td>\n",
              "      <td>노원구청 1층 정문현관입구 왼쪽</td>\n",
              "      <td>일반</td>\n",
              "      <td>미제공</td>\n",
              "      <td>미제공</td>\n",
              "      <td>미제공</td>\n",
              "      <td>...</td>\n",
              "      <td>불가능</td>\n",
              "      <td>시군구</td>\n",
              "      <td>1</td>\n",
              "      <td>2022</td>\n",
              "      <td>7</td>\n",
              "      <td>20</td>\n",
              "      <td>9</td>\n",
              "      <td>0</td>\n",
              "      <td>18</td>\n",
              "      <td>0</td>\n",
              "    </tr>\n",
              "    <tr>\n",
              "      <th>436</th>\n",
              "      <td>436</td>\n",
              "      <td>509</td>\n",
              "      <td>서울특별시 구로구</td>\n",
              "      <td>구로구청(부동산정보과)</td>\n",
              "      <td>서울특별시 구로구 가마산로 245(구로동)</td>\n",
              "      <td>1층 부동산정보과 내</td>\n",
              "      <td>장애인겸용</td>\n",
              "      <td>제공</td>\n",
              "      <td>제공</td>\n",
              "      <td>제공</td>\n",
              "      <td>...</td>\n",
              "      <td>가능</td>\n",
              "      <td>시군구</td>\n",
              "      <td>2</td>\n",
              "      <td>2022</td>\n",
              "      <td>7</td>\n",
              "      <td>20</td>\n",
              "      <td>9</td>\n",
              "      <td>0</td>\n",
              "      <td>18</td>\n",
              "      <td>0</td>\n",
              "    </tr>\n",
              "    <tr>\n",
              "      <th>678</th>\n",
              "      <td>678</td>\n",
              "      <td>404</td>\n",
              "      <td>서울특별시 강동구</td>\n",
              "      <td>강동구청 부동산정보과(등기부전용)</td>\n",
              "      <td>서울특별시 강동구 성내로 25(성내동)[서울특별시 강동구 성내동 540번지 강동구청]</td>\n",
              "      <td>강동구청 본관 1층 로비</td>\n",
              "      <td>일반(장애인 편의기능 일부 포함)</td>\n",
              "      <td>제공</td>\n",
              "      <td>미제공</td>\n",
              "      <td>제공</td>\n",
              "      <td>...</td>\n",
              "      <td>가능</td>\n",
              "      <td>시군구</td>\n",
              "      <td>1</td>\n",
              "      <td>2022</td>\n",
              "      <td>7</td>\n",
              "      <td>23</td>\n",
              "      <td>9</td>\n",
              "      <td>0</td>\n",
              "      <td>18</td>\n",
              "      <td>0</td>\n",
              "    </tr>\n",
              "    <tr>\n",
              "      <th>703</th>\n",
              "      <td>703</td>\n",
              "      <td>503</td>\n",
              "      <td>부산광역시 중구</td>\n",
              "      <td>부산항연안여객터미널</td>\n",
              "      <td>부산광역시 중구 충장대로 24(중앙동4가)</td>\n",
              "      <td>부산항 연안여객터미널 1층 대합실</td>\n",
              "      <td>일반</td>\n",
              "      <td>미제공</td>\n",
              "      <td>미제공</td>\n",
              "      <td>미제공</td>\n",
              "      <td>...</td>\n",
              "      <td>불가능</td>\n",
              "      <td>터미널</td>\n",
              "      <td>2</td>\n",
              "      <td>2022</td>\n",
              "      <td>7</td>\n",
              "      <td>27</td>\n",
              "      <td>9</td>\n",
              "      <td>0</td>\n",
              "      <td>20</td>\n",
              "      <td>0</td>\n",
              "    </tr>\n",
              "    <tr>\n",
              "      <th>1065</th>\n",
              "      <td>1065</td>\n",
              "      <td>552</td>\n",
              "      <td>인천광역시 중구</td>\n",
              "      <td>IFEZ무인발급2 KIOSK</td>\n",
              "      <td>인천광역시 중구 마시란로 308-13(남북동, 용유동주민센터)[인천광역시 중구 남북...</td>\n",
              "      <td>용유동 행정복지센터</td>\n",
              "      <td>일반</td>\n",
              "      <td>미제공</td>\n",
              "      <td>미제공</td>\n",
              "      <td>미제공</td>\n",
              "      <td>...</td>\n",
              "      <td>불가능</td>\n",
              "      <td>읍면동</td>\n",
              "      <td>20</td>\n",
              "      <td>2019</td>\n",
              "      <td>4</td>\n",
              "      <td>9</td>\n",
              "      <td>9</td>\n",
              "      <td>0</td>\n",
              "      <td>18</td>\n",
              "      <td>0</td>\n",
              "    </tr>\n",
              "    <tr>\n",
              "      <th>1066</th>\n",
              "      <td>1066</td>\n",
              "      <td>553</td>\n",
              "      <td>인천광역시 중구</td>\n",
              "      <td>IFEZ무인발급3 KIOSK</td>\n",
              "      <td>인천광역시 중구 흰바위로27번길 10(운서동, 운서동주민센터)[인천광역시 중구 운서...</td>\n",
              "      <td>운서동 행정복지센터</td>\n",
              "      <td>일반</td>\n",
              "      <td>미제공</td>\n",
              "      <td>미제공</td>\n",
              "      <td>미제공</td>\n",
              "      <td>...</td>\n",
              "      <td>불가능</td>\n",
              "      <td>기타</td>\n",
              "      <td>20</td>\n",
              "      <td>2019</td>\n",
              "      <td>4</td>\n",
              "      <td>9</td>\n",
              "      <td>9</td>\n",
              "      <td>0</td>\n",
              "      <td>18</td>\n",
              "      <td>0</td>\n",
              "    </tr>\n",
              "    <tr>\n",
              "      <th>1067</th>\n",
              "      <td>1067</td>\n",
              "      <td>554</td>\n",
              "      <td>인천광역시 중구</td>\n",
              "      <td>IFEZ무인발급4 KIOSK</td>\n",
              "      <td>인천광역시 중구 신포로27번길 80(관동1가, 중구청)[인천광역시 중구 관동1가 9...</td>\n",
              "      <td>인천중구청 민원실</td>\n",
              "      <td>일반</td>\n",
              "      <td>미제공</td>\n",
              "      <td>미제공</td>\n",
              "      <td>미제공</td>\n",
              "      <td>...</td>\n",
              "      <td>불가능</td>\n",
              "      <td>시군구</td>\n",
              "      <td>20</td>\n",
              "      <td>2019</td>\n",
              "      <td>4</td>\n",
              "      <td>9</td>\n",
              "      <td>9</td>\n",
              "      <td>0</td>\n",
              "      <td>18</td>\n",
              "      <td>0</td>\n",
              "    </tr>\n",
              "    <tr>\n",
              "      <th>1068</th>\n",
              "      <td>1068</td>\n",
              "      <td>555</td>\n",
              "      <td>인천광역시 중구</td>\n",
              "      <td>IFEZ무인발급5 KIOSK</td>\n",
              "      <td>인천광역시 연수구 갯벌로 12(송도동)[인천광역시 연수구 송도동 7번지 50호 ] ...</td>\n",
              "      <td>인천대학교 미추홀캠퍼스 별관B동</td>\n",
              "      <td>일반</td>\n",
              "      <td>미제공</td>\n",
              "      <td>미제공</td>\n",
              "      <td>미제공</td>\n",
              "      <td>...</td>\n",
              "      <td>불가능</td>\n",
              "      <td>기타</td>\n",
              "      <td>17</td>\n",
              "      <td>2019</td>\n",
              "      <td>4</td>\n",
              "      <td>9</td>\n",
              "      <td>9</td>\n",
              "      <td>0</td>\n",
              "      <td>18</td>\n",
              "      <td>0</td>\n",
              "    </tr>\n",
              "    <tr>\n",
              "      <th>2785</th>\n",
              "      <td>2785</td>\n",
              "      <td>502</td>\n",
              "      <td>강원도 양양군</td>\n",
              "      <td>현남면사무소KIOSK</td>\n",
              "      <td>강원도 양양군 현남면 인구중앙길 45[강원도 양양군 현남면 인구리19번지 1호]</td>\n",
              "      <td>현남면사무소  내</td>\n",
              "      <td>일반(장애인 편의기능 일부 포함)</td>\n",
              "      <td>제공</td>\n",
              "      <td>제공</td>\n",
              "      <td>제공</td>\n",
              "      <td>...</td>\n",
              "      <td>불가능</td>\n",
              "      <td>읍면동</td>\n",
              "      <td>1</td>\n",
              "      <td>2022</td>\n",
              "      <td>8</td>\n",
              "      <td>20</td>\n",
              "      <td>9</td>\n",
              "      <td>0</td>\n",
              "      <td>18</td>\n",
              "      <td>0</td>\n",
              "    </tr>\n",
              "    <tr>\n",
              "      <th>3350</th>\n",
              "      <td>3350</td>\n",
              "      <td>409</td>\n",
              "      <td>전라북도 익산시</td>\n",
              "      <td>함열출장소(등기부)</td>\n",
              "      <td>전라북도 익산시 함열읍 익산대로 1798[전라북도 익산시 함열읍 남당리641번지 6호]</td>\n",
              "      <td>함열출장소안</td>\n",
              "      <td>장애인겸용</td>\n",
              "      <td>제공</td>\n",
              "      <td>제공</td>\n",
              "      <td>제공</td>\n",
              "      <td>...</td>\n",
              "      <td>가능</td>\n",
              "      <td>기타</td>\n",
              "      <td>1</td>\n",
              "      <td>2022</td>\n",
              "      <td>8</td>\n",
              "      <td>19</td>\n",
              "      <td>9</td>\n",
              "      <td>0</td>\n",
              "      <td>18</td>\n",
              "      <td>0</td>\n",
              "    </tr>\n",
              "    <tr>\n",
              "      <th>3393</th>\n",
              "      <td>3393</td>\n",
              "      <td>404</td>\n",
              "      <td>전라북도 김제시</td>\n",
              "      <td>서암동(등기부)</td>\n",
              "      <td>전라북도 김제시 중앙로 40(서암동)</td>\n",
              "      <td>김제시청 종합민원실내</td>\n",
              "      <td>일반(장애인 편의기능 일부 포함)</td>\n",
              "      <td>제공</td>\n",
              "      <td>제공</td>\n",
              "      <td>제공</td>\n",
              "      <td>...</td>\n",
              "      <td>가능</td>\n",
              "      <td>시군구</td>\n",
              "      <td>1</td>\n",
              "      <td>2022</td>\n",
              "      <td>7</td>\n",
              "      <td>22</td>\n",
              "      <td>9</td>\n",
              "      <td>0</td>\n",
              "      <td>18</td>\n",
              "      <td>0</td>\n",
              "    </tr>\n",
              "    <tr>\n",
              "      <th>4195</th>\n",
              "      <td>4195</td>\n",
              "      <td>302</td>\n",
              "      <td>경상북도 울릉군</td>\n",
              "      <td>도동여객선터미널</td>\n",
              "      <td>경상북도 울릉군 울릉읍 도동길 14</td>\n",
              "      <td>실내 편의점 옆</td>\n",
              "      <td>장애인겸용</td>\n",
              "      <td>제공</td>\n",
              "      <td>제공</td>\n",
              "      <td>제공</td>\n",
              "      <td>...</td>\n",
              "      <td>가능</td>\n",
              "      <td>터미널</td>\n",
              "      <td>2</td>\n",
              "      <td>2022</td>\n",
              "      <td>8</td>\n",
              "      <td>20</td>\n",
              "      <td>5</td>\n",
              "      <td>0</td>\n",
              "      <td>21</td>\n",
              "      <td>0</td>\n",
              "    </tr>\n",
              "    <tr>\n",
              "      <th>4196</th>\n",
              "      <td>4196</td>\n",
              "      <td>303</td>\n",
              "      <td>경상북도 울릉군</td>\n",
              "      <td>사동여객선터미널</td>\n",
              "      <td>경상북도 울릉군 울릉읍 울릉순환로 785-25</td>\n",
              "      <td>터미널 출구</td>\n",
              "      <td>장애인겸용</td>\n",
              "      <td>제공</td>\n",
              "      <td>제공</td>\n",
              "      <td>제공</td>\n",
              "      <td>...</td>\n",
              "      <td>가능</td>\n",
              "      <td>터미널</td>\n",
              "      <td>2</td>\n",
              "      <td>2022</td>\n",
              "      <td>8</td>\n",
              "      <td>20</td>\n",
              "      <td>5</td>\n",
              "      <td>0</td>\n",
              "      <td>21</td>\n",
              "      <td>0</td>\n",
              "    </tr>\n",
              "    <tr>\n",
              "      <th>4197</th>\n",
              "      <td>4197</td>\n",
              "      <td>304</td>\n",
              "      <td>경상북도 울릉군</td>\n",
              "      <td>저동여객선터미널</td>\n",
              "      <td>경상북도 울릉군 울릉읍 울릉순환로 171[경상북도 울릉군 울릉읍 저동리48번지 7호]</td>\n",
              "      <td>입구 옆</td>\n",
              "      <td>장애인겸용</td>\n",
              "      <td>제공</td>\n",
              "      <td>제공</td>\n",
              "      <td>제공</td>\n",
              "      <td>...</td>\n",
              "      <td>가능</td>\n",
              "      <td>터미널</td>\n",
              "      <td>2</td>\n",
              "      <td>2022</td>\n",
              "      <td>8</td>\n",
              "      <td>20</td>\n",
              "      <td>5</td>\n",
              "      <td>0</td>\n",
              "      <td>21</td>\n",
              "      <td>0</td>\n",
              "    </tr>\n",
              "    <tr>\n",
              "      <th>4247</th>\n",
              "      <td>4247</td>\n",
              "      <td>405</td>\n",
              "      <td>경상남도 사천시</td>\n",
              "      <td>유람선선착장</td>\n",
              "      <td>경상남도 사천시 유람선길 70(대방동)[765번지 14호]</td>\n",
              "      <td>유람선선착장 휴게실</td>\n",
              "      <td>장애인겸용</td>\n",
              "      <td>제공</td>\n",
              "      <td>제공</td>\n",
              "      <td>제공</td>\n",
              "      <td>...</td>\n",
              "      <td>가능</td>\n",
              "      <td>터미널</td>\n",
              "      <td>2</td>\n",
              "      <td>2022</td>\n",
              "      <td>8</td>\n",
              "      <td>21</td>\n",
              "      <td>8</td>\n",
              "      <td>0</td>\n",
              "      <td>14</td>\n",
              "      <td>30</td>\n",
              "    </tr>\n",
              "    <tr>\n",
              "      <th>4248</th>\n",
              "      <td>4248</td>\n",
              "      <td>406</td>\n",
              "      <td>경상남도 사천시</td>\n",
              "      <td>사천바다케이블카</td>\n",
              "      <td>경상남도 사천시 사천대로 18, 사천바다 케이블카 대방정류장 (대방동)</td>\n",
              "      <td>매표소 좌측건물</td>\n",
              "      <td>장애인겸용</td>\n",
              "      <td>제공</td>\n",
              "      <td>제공</td>\n",
              "      <td>제공</td>\n",
              "      <td>...</td>\n",
              "      <td>가능</td>\n",
              "      <td>기타</td>\n",
              "      <td>2</td>\n",
              "      <td>2022</td>\n",
              "      <td>8</td>\n",
              "      <td>4</td>\n",
              "      <td>8</td>\n",
              "      <td>0</td>\n",
              "      <td>19</td>\n",
              "      <td>0</td>\n",
              "    </tr>\n",
              "    <tr>\n",
              "      <th>4250</th>\n",
              "      <td>4250</td>\n",
              "      <td>408</td>\n",
              "      <td>경상남도 사천시</td>\n",
              "      <td>사천공항</td>\n",
              "      <td>경상남도 사천시 사천읍 사천대로 1971, 사천공항</td>\n",
              "      <td>공항 주출입문 좌측 농협ATM기기 옆</td>\n",
              "      <td>장애인겸용</td>\n",
              "      <td>제공</td>\n",
              "      <td>제공</td>\n",
              "      <td>제공</td>\n",
              "      <td>...</td>\n",
              "      <td>가능</td>\n",
              "      <td>공항</td>\n",
              "      <td>5</td>\n",
              "      <td>2022</td>\n",
              "      <td>8</td>\n",
              "      <td>5</td>\n",
              "      <td>6</td>\n",
              "      <td>0</td>\n",
              "      <td>22</td>\n",
              "      <td>0</td>\n",
              "    </tr>\n",
              "    <tr>\n",
              "      <th>4254</th>\n",
              "      <td>4254</td>\n",
              "      <td>514</td>\n",
              "      <td>경상남도 사천시</td>\n",
              "      <td>삼천포신항 여객선터미널</td>\n",
              "      <td>경상남도 사천시 신항만1길 76 (향촌동)</td>\n",
              "      <td>삼천포신항 여객선터미널 내</td>\n",
              "      <td>장애인겸용</td>\n",
              "      <td>제공</td>\n",
              "      <td>제공</td>\n",
              "      <td>제공</td>\n",
              "      <td>...</td>\n",
              "      <td>가능</td>\n",
              "      <td>터미널</td>\n",
              "      <td>2</td>\n",
              "      <td>2022</td>\n",
              "      <td>8</td>\n",
              "      <td>4</td>\n",
              "      <td>0</td>\n",
              "      <td>0</td>\n",
              "      <td>24</td>\n",
              "      <td>0</td>\n",
              "    </tr>\n",
              "  </tbody>\n",
              "</table>\n",
              "<p>20 rows × 24 columns</p>\n",
              "</div>\n",
              "      <button class=\"colab-df-convert\" onclick=\"convertToInteractive('df-672b3565-d990-4fdc-9959-3063acdcf0ce')\"\n",
              "              title=\"Convert this dataframe to an interactive table.\"\n",
              "              style=\"display:none;\">\n",
              "        \n",
              "  <svg xmlns=\"http://www.w3.org/2000/svg\" height=\"24px\"viewBox=\"0 0 24 24\"\n",
              "       width=\"24px\">\n",
              "    <path d=\"M0 0h24v24H0V0z\" fill=\"none\"/>\n",
              "    <path d=\"M18.56 5.44l.94 2.06.94-2.06 2.06-.94-2.06-.94-.94-2.06-.94 2.06-2.06.94zm-11 1L8.5 8.5l.94-2.06 2.06-.94-2.06-.94L8.5 2.5l-.94 2.06-2.06.94zm10 10l.94 2.06.94-2.06 2.06-.94-2.06-.94-.94-2.06-.94 2.06-2.06.94z\"/><path d=\"M17.41 7.96l-1.37-1.37c-.4-.4-.92-.59-1.43-.59-.52 0-1.04.2-1.43.59L10.3 9.45l-7.72 7.72c-.78.78-.78 2.05 0 2.83L4 21.41c.39.39.9.59 1.41.59.51 0 1.02-.2 1.41-.59l7.78-7.78 2.81-2.81c.8-.78.8-2.07 0-2.86zM5.41 20L4 18.59l7.72-7.72 1.47 1.35L5.41 20z\"/>\n",
              "  </svg>\n",
              "      </button>\n",
              "      \n",
              "  <style>\n",
              "    .colab-df-container {\n",
              "      display:flex;\n",
              "      flex-wrap:wrap;\n",
              "      gap: 12px;\n",
              "    }\n",
              "\n",
              "    .colab-df-convert {\n",
              "      background-color: #E8F0FE;\n",
              "      border: none;\n",
              "      border-radius: 50%;\n",
              "      cursor: pointer;\n",
              "      display: none;\n",
              "      fill: #1967D2;\n",
              "      height: 32px;\n",
              "      padding: 0 0 0 0;\n",
              "      width: 32px;\n",
              "    }\n",
              "\n",
              "    .colab-df-convert:hover {\n",
              "      background-color: #E2EBFA;\n",
              "      box-shadow: 0px 1px 2px rgba(60, 64, 67, 0.3), 0px 1px 3px 1px rgba(60, 64, 67, 0.15);\n",
              "      fill: #174EA6;\n",
              "    }\n",
              "\n",
              "    [theme=dark] .colab-df-convert {\n",
              "      background-color: #3B4455;\n",
              "      fill: #D2E3FC;\n",
              "    }\n",
              "\n",
              "    [theme=dark] .colab-df-convert:hover {\n",
              "      background-color: #434B5C;\n",
              "      box-shadow: 0px 1px 3px 1px rgba(0, 0, 0, 0.15);\n",
              "      filter: drop-shadow(0px 1px 2px rgba(0, 0, 0, 0.3));\n",
              "      fill: #FFFFFF;\n",
              "    }\n",
              "  </style>\n",
              "\n",
              "      <script>\n",
              "        const buttonEl =\n",
              "          document.querySelector('#df-672b3565-d990-4fdc-9959-3063acdcf0ce button.colab-df-convert');\n",
              "        buttonEl.style.display =\n",
              "          google.colab.kernel.accessAllowed ? 'block' : 'none';\n",
              "\n",
              "        async function convertToInteractive(key) {\n",
              "          const element = document.querySelector('#df-672b3565-d990-4fdc-9959-3063acdcf0ce');\n",
              "          const dataTable =\n",
              "            await google.colab.kernel.invokeFunction('convertToInteractive',\n",
              "                                                     [key], {});\n",
              "          if (!dataTable) return;\n",
              "\n",
              "          const docLinkHtml = 'Like what you see? Visit the ' +\n",
              "            '<a target=\"_blank\" href=https://colab.research.google.com/notebooks/data_table.ipynb>data table notebook</a>'\n",
              "            + ' to learn more about interactive tables.';\n",
              "          element.innerHTML = '';\n",
              "          dataTable['output_type'] = 'display_data';\n",
              "          await google.colab.output.renderOutput(dataTable, element);\n",
              "          const docLink = document.createElement('div');\n",
              "          docLink.innerHTML = docLinkHtml;\n",
              "          element.appendChild(docLink);\n",
              "        }\n",
              "      </script>\n",
              "    </div>\n",
              "  </div>\n",
              "  "
            ]
          },
          "metadata": {},
          "execution_count": 41
        }
      ]
    },
    {
      "cell_type": "code",
      "source": [
        "plt.figure(figsize=(10,7))\n",
        "f['설치장소위치'].value_counts().plot(kind='bar',fontsize=13,alpha=0.4);\n",
        "plt.title(\"문서발행횟수가 낮은 설치위치\",fontdict={'fontsize':18})"
      ],
      "metadata": {
        "colab": {
          "base_uri": "https://localhost:8080/",
          "height": 493
        },
        "id": "6dcvTa_vAuNv",
        "outputId": "adbbef40-65bf-4f4d-cff0-bfbf3d754c94"
      },
      "execution_count": null,
      "outputs": [
        {
          "output_type": "execute_result",
          "data": {
            "text/plain": [
              "Text(0.5, 1.0, '문서발행횟수가 낮은 설치위치')"
            ]
          },
          "metadata": {},
          "execution_count": 42
        },
        {
          "output_type": "display_data",
          "data": {
            "text/plain": [
              "<Figure size 720x504 with 1 Axes>"
            ],
            "image/png": "[encoded data removed]"
          },
          "metadata": {
            "needs_background": "light"
          }
        }
      ]
    },
    {
      "cell_type": "code",
      "source": [
        "f.loc[:,['설치장소상세위치','설치장소위치','문서발급횟수','평일운영시작_hour','평일운영종료_hour']]"
      ],
      "metadata": {
        "colab": {
          "base_uri": "https://localhost:8080/",
          "height": 676
        },
        "id": "el_G1aweBAGY",
        "outputId": "c5774242-284e-4dd9-b7bf-e4a0fa320e93"
      },
      "execution_count": null,
      "outputs": [
        {
          "output_type": "execute_result",
          "data": {
            "text/plain": [
              "                  설치장소상세위치 설치장소위치  문서발급횟수  평일운영시작_hour  평일운영종료_hour\n",
              "154        구청사 2층 부동산정보과 내    시군구       2            8           18\n",
              "206            부동산정보과 앞 로비    시군구       1            9           18\n",
              "261      노원구청 1층 정문현관입구 왼쪽    시군구       1            9           18\n",
              "436            1층 부동산정보과 내    시군구       2            9           18\n",
              "678          강동구청 본관 1층 로비    시군구       1            9           18\n",
              "703     부산항 연안여객터미널 1층 대합실    터미널       2            9           20\n",
              "1065            용유동 행정복지센터    읍면동      20            9           18\n",
              "1066            운서동 행정복지센터     기타      20            9           18\n",
              "1067             인천중구청 민원실    시군구      20            9           18\n",
              "1068     인천대학교 미추홀캠퍼스 별관B동     기타      17            9           18\n",
              "2785             현남면사무소  내    읍면동       1            9           18\n",
              "3350                함열출장소안     기타       1            9           18\n",
              "3393           김제시청 종합민원실내    시군구       1            9           18\n",
              "4195              실내 편의점 옆    터미널       2            5           21\n",
              "4196                터미널 출구    터미널       2            5           21\n",
              "4197                  입구 옆    터미널       2            5           21\n",
              "4247            유람선선착장 휴게실    터미널       2            8           14\n",
              "4248              매표소 좌측건물     기타       2            8           19\n",
              "4250  공항 주출입문 좌측 농협ATM기기 옆     공항       5            6           22\n",
              "4254        삼천포신항 여객선터미널 내    터미널       2            0           24"
            ],
            "text/html": [
              "\n",
              "  <div id=\"df-825c2a5e-0bc7-4234-8f80-264c4ae926c3\">\n",
              "    <div class=\"colab-df-container\">\n",
              "      <div>\n",
              "<style scoped>\n",
              "    .dataframe tbody tr th:only-of-type {\n",
              "        vertical-align: middle;\n",
              "    }\n",
              "\n",
              "    .dataframe tbody tr th {\n",
              "        vertical-align: top;\n",
              "    }\n",
              "\n",
              "    .dataframe thead th {\n",
              "        text-align: right;\n",
              "    }\n",
              "</style>\n",
              "<table border=\"1\" class=\"dataframe\">\n",
              "  <thead>\n",
              "    <tr style=\"text-align: right;\">\n",
              "      <th></th>\n",
              "      <th>설치장소상세위치</th>\n",
              "      <th>설치장소위치</th>\n",
              "      <th>문서발급횟수</th>\n",
              "      <th>평일운영시작_hour</th>\n",
              "      <th>평일운영종료_hour</th>\n",
              "    </tr>\n",
              "  </thead>\n",
              "  <tbody>\n",
              "    <tr>\n",
              "      <th>154</th>\n",
              "      <td>구청사 2층 부동산정보과 내</td>\n",
              "      <td>시군구</td>\n",
              "      <td>2</td>\n",
              "      <td>8</td>\n",
              "      <td>18</td>\n",
              "    </tr>\n",
              "    <tr>\n",
              "      <th>206</th>\n",
              "      <td>부동산정보과 앞 로비</td>\n",
              "      <td>시군구</td>\n",
              "      <td>1</td>\n",
              "      <td>9</td>\n",
              "      <td>18</td>\n",
              "    </tr>\n",
              "    <tr>\n",
              "      <th>261</th>\n",
              "      <td>노원구청 1층 정문현관입구 왼쪽</td>\n",
              "      <td>시군구</td>\n",
              "      <td>1</td>\n",
              "      <td>9</td>\n",
              "      <td>18</td>\n",
              "    </tr>\n",
              "    <tr>\n",
              "      <th>436</th>\n",
              "      <td>1층 부동산정보과 내</td>\n",
              "      <td>시군구</td>\n",
              "      <td>2</td>\n",
              "      <td>9</td>\n",
              "      <td>18</td>\n",
              "    </tr>\n",
              "    <tr>\n",
              "      <th>678</th>\n",
              "      <td>강동구청 본관 1층 로비</td>\n",
              "      <td>시군구</td>\n",
              "      <td>1</td>\n",
              "      <td>9</td>\n",
              "      <td>18</td>\n",
              "    </tr>\n",
              "    <tr>\n",
              "      <th>703</th>\n",
              "      <td>부산항 연안여객터미널 1층 대합실</td>\n",
              "      <td>터미널</td>\n",
              "      <td>2</td>\n",
              "      <td>9</td>\n",
              "      <td>20</td>\n",
              "    </tr>\n",
              "    <tr>\n",
              "      <th>1065</th>\n",
              "      <td>용유동 행정복지센터</td>\n",
              "      <td>읍면동</td>\n",
              "      <td>20</td>\n",
              "      <td>9</td>\n",
              "      <td>18</td>\n",
              "    </tr>\n",
              "    <tr>\n",
              "      <th>1066</th>\n",
              "      <td>운서동 행정복지센터</td>\n",
              "      <td>기타</td>\n",
              "      <td>20</td>\n",
              "      <td>9</td>\n",
              "      <td>18</td>\n",
              "    </tr>\n",
              "    <tr>\n",
              "      <th>1067</th>\n",
              "      <td>인천중구청 민원실</td>\n",
              "      <td>시군구</td>\n",
              "      <td>20</td>\n",
              "      <td>9</td>\n",
              "      <td>18</td>\n",
              "    </tr>\n",
              "    <tr>\n",
              "      <th>1068</th>\n",
              "      <td>인천대학교 미추홀캠퍼스 별관B동</td>\n",
              "      <td>기타</td>\n",
              "      <td>17</td>\n",
              "      <td>9</td>\n",
              "      <td>18</td>\n",
              "    </tr>\n",
              "    <tr>\n",
              "      <th>2785</th>\n",
              "      <td>현남면사무소  내</td>\n",
              "      <td>읍면동</td>\n",
              "      <td>1</td>\n",
              "      <td>9</td>\n",
              "      <td>18</td>\n",
              "    </tr>\n",
              "    <tr>\n",
              "      <th>3350</th>\n",
              "      <td>함열출장소안</td>\n",
              "      <td>기타</td>\n",
              "      <td>1</td>\n",
              "      <td>9</td>\n",
              "      <td>18</td>\n",
              "    </tr>\n",
              "    <tr>\n",
              "      <th>3393</th>\n",
              "      <td>김제시청 종합민원실내</td>\n",
              "      <td>시군구</td>\n",
              "      <td>1</td>\n",
              "      <td>9</td>\n",
              "      <td>18</td>\n",
              "    </tr>\n",
              "    <tr>\n",
              "      <th>4195</th>\n",
              "      <td>실내 편의점 옆</td>\n",
              "      <td>터미널</td>\n",
              "      <td>2</td>\n",
              "      <td>5</td>\n",
              "      <td>21</td>\n",
              "    </tr>\n",
              "    <tr>\n",
              "      <th>4196</th>\n",
              "      <td>터미널 출구</td>\n",
              "      <td>터미널</td>\n",
              "      <td>2</td>\n",
              "      <td>5</td>\n",
              "      <td>21</td>\n",
              "    </tr>\n",
              "    <tr>\n",
              "      <th>4197</th>\n",
              "      <td>입구 옆</td>\n",
              "      <td>터미널</td>\n",
              "      <td>2</td>\n",
              "      <td>5</td>\n",
              "      <td>21</td>\n",
              "    </tr>\n",
              "    <tr>\n",
              "      <th>4247</th>\n",
              "      <td>유람선선착장 휴게실</td>\n",
              "      <td>터미널</td>\n",
              "      <td>2</td>\n",
              "      <td>8</td>\n",
              "      <td>14</td>\n",
              "    </tr>\n",
              "    <tr>\n",
              "      <th>4248</th>\n",
              "      <td>매표소 좌측건물</td>\n",
              "      <td>기타</td>\n",
              "      <td>2</td>\n",
              "      <td>8</td>\n",
              "      <td>19</td>\n",
              "    </tr>\n",
              "    <tr>\n",
              "      <th>4250</th>\n",
              "      <td>공항 주출입문 좌측 농협ATM기기 옆</td>\n",
              "      <td>공항</td>\n",
              "      <td>5</td>\n",
              "      <td>6</td>\n",
              "      <td>22</td>\n",
              "    </tr>\n",
              "    <tr>\n",
              "      <th>4254</th>\n",
              "      <td>삼천포신항 여객선터미널 내</td>\n",
              "      <td>터미널</td>\n",
              "      <td>2</td>\n",
              "      <td>0</td>\n",
              "      <td>24</td>\n",
              "    </tr>\n",
              "  </tbody>\n",
              "</table>\n",
              "</div>\n",
              "      <button class=\"colab-df-convert\" onclick=\"convertToInteractive('df-825c2a5e-0bc7-4234-8f80-264c4ae926c3')\"\n",
              "              title=\"Convert this dataframe to an interactive table.\"\n",
              "              style=\"display:none;\">\n",
              "        \n",
              "  <svg xmlns=\"http://www.w3.org/2000/svg\" height=\"24px\"viewBox=\"0 0 24 24\"\n",
              "       width=\"24px\">\n",
              "    <path d=\"M0 0h24v24H0V0z\" fill=\"none\"/>\n",
              "    <path d=\"M18.56 5.44l.94 2.06.94-2.06 2.06-.94-2.06-.94-.94-2.06-.94 2.06-2.06.94zm-11 1L8.5 8.5l.94-2.06 2.06-.94-2.06-.94L8.5 2.5l-.94 2.06-2.06.94zm10 10l.94 2.06.94-2.06 2.06-.94-2.06-.94-.94-2.06-.94 2.06-2.06.94z\"/><path d=\"M17.41 7.96l-1.37-1.37c-.4-.4-.92-.59-1.43-.59-.52 0-1.04.2-1.43.59L10.3 9.45l-7.72 7.72c-.78.78-.78 2.05 0 2.83L4 21.41c.39.39.9.59 1.41.59.51 0 1.02-.2 1.41-.59l7.78-7.78 2.81-2.81c.8-.78.8-2.07 0-2.86zM5.41 20L4 18.59l7.72-7.72 1.47 1.35L5.41 20z\"/>\n",
              "  </svg>\n",
              "      </button>\n",
              "      \n",
              "  <style>\n",
              "    .colab-df-container {\n",
              "      display:flex;\n",
              "      flex-wrap:wrap;\n",
              "      gap: 12px;\n",
              "    }\n",
              "\n",
              "    .colab-df-convert {\n",
              "      background-color: #E8F0FE;\n",
              "      border: none;\n",
              "      border-radius: 50%;\n",
              "      cursor: pointer;\n",
              "      display: none;\n",
              "      fill: #1967D2;\n",
              "      height: 32px;\n",
              "      padding: 0 0 0 0;\n",
              "      width: 32px;\n",
              "    }\n",
              "\n",
              "    .colab-df-convert:hover {\n",
              "      background-color: #E2EBFA;\n",
              "      box-shadow: 0px 1px 2px rgba(60, 64, 67, 0.3), 0px 1px 3px 1px rgba(60, 64, 67, 0.15);\n",
              "      fill: #174EA6;\n",
              "    }\n",
              "\n",
              "    [theme=dark] .colab-df-convert {\n",
              "      background-color: #3B4455;\n",
              "      fill: #D2E3FC;\n",
              "    }\n",
              "\n",
              "    [theme=dark] .colab-df-convert:hover {\n",
              "      background-color: #434B5C;\n",
              "      box-shadow: 0px 1px 3px 1px rgba(0, 0, 0, 0.15);\n",
              "      filter: drop-shadow(0px 1px 2px rgba(0, 0, 0, 0.3));\n",
              "      fill: #FFFFFF;\n",
              "    }\n",
              "  </style>\n",
              "\n",
              "      <script>\n",
              "        const buttonEl =\n",
              "          document.querySelector('#df-825c2a5e-0bc7-4234-8f80-264c4ae926c3 button.colab-df-convert');\n",
              "        buttonEl.style.display =\n",
              "          google.colab.kernel.accessAllowed ? 'block' : 'none';\n",
              "\n",
              "        async function convertToInteractive(key) {\n",
              "          const element = document.querySelector('#df-825c2a5e-0bc7-4234-8f80-264c4ae926c3');\n",
              "          const dataTable =\n",
              "            await google.colab.kernel.invokeFunction('convertToInteractive',\n",
              "                                                     [key], {});\n",
              "          if (!dataTable) return;\n",
              "\n",
              "          const docLinkHtml = 'Like what you see? Visit the ' +\n",
              "            '<a target=\"_blank\" href=https://colab.research.google.com/notebooks/data_table.ipynb>data table notebook</a>'\n",
              "            + ' to learn more about interactive tables.';\n",
              "          element.innerHTML = '';\n",
              "          dataTable['output_type'] = 'display_data';\n",
              "          await google.colab.output.renderOutput(dataTable, element);\n",
              "          const docLink = document.createElement('div');\n",
              "          docLink.innerHTML = docLinkHtml;\n",
              "          element.appendChild(docLink);\n",
              "        }\n",
              "      </script>\n",
              "    </div>\n",
              "  </div>\n",
              "  "
            ]
          },
          "metadata": {},
          "execution_count": 43
        }
      ]
    },
    {
      "cell_type": "markdown",
      "source": [
        "- 여객터미널, 유람선 선착장, 케이블카 정류장, 공항과 같은 휴가철이나 명절에 유동인구가 직결되는 장소나 학기에 따른 유동인구 변화가 심한 대학교는 발급기의 문서발급횟수가 현저히 낮음\n",
        "- 시군구나 읍면동에 설치된 발급기의 경우 유동인구에 영향이 적고 접근성에 높지만 다른 주민센터에 설치된 발급기와 달리 평일 운영시간이 대부분 18시에 종료되며 24시 운영이 거의 없음 "
      ],
      "metadata": {
        "id": "6sq6aSTJDIuL"
      }
    },
    {
      "cell_type": "code",
      "source": [
        "print(df_inst.문서발급횟수.mean())\n",
        "print(df_inst.query('문서발급횟수>=72').shape[0] / df_inst.shape[0])\n",
        "print(df_inst.query('문서발급횟수<72').shape[0] / df_inst.shape[0])"
      ],
      "metadata": {
        "colab": {
          "base_uri": "https://localhost:8080/"
        },
        "id": "JxkGIDS4To--",
        "outputId": "9cfa9fde-c15a-4d95-fcb4-7a5f5bde19c4"
      },
      "execution_count": null,
      "outputs": [
        {
          "output_type": "stream",
          "name": "stdout",
          "text": [
            "72.65396700706991\n",
            "0.7584446190102121\n",
            "0.2415553809897879\n"
          ]
        }
      ]
    },
    {
      "cell_type": "code",
      "source": [
        "df_inst['제거여부']  = df_inst['문서발급횟수'].map(lambda x : 1 if x >= 72 else 0)"
      ],
      "metadata": {
        "id": "PYYDIHIVU-hs"
      },
      "execution_count": null,
      "outputs": []
    },
    {
      "cell_type": "code",
      "source": [
        "df_inst.drop(['Unnamed: 0'],axis=1,inplace=True)"
      ],
      "metadata": {
        "id": "FjFMbmyDY4Nx"
      },
      "execution_count": null,
      "outputs": []
    },
    {
      "cell_type": "markdown",
      "source": [
        "---\n",
        "## 모델선정"
      ],
      "metadata": {
        "id": "obsSYwd_eVL8"
      }
    },
    {
      "cell_type": "code",
      "source": [
        "!pip install category_encoders"
      ],
      "metadata": {
        "colab": {
          "base_uri": "https://localhost:8080/"
        },
        "id": "hK3bs33qfdf9",
        "outputId": "fcb57833-1426-4796-9b1a-339356159406"
      },
      "execution_count": null,
      "outputs": [
        {
          "output_type": "stream",
          "name": "stdout",
          "text": [
            "Looking in indexes: https://pypi.org/simple, https://us-python.pkg.dev/colab-wheels/public/simple/\n",
            "Collecting category_encoders\n",
            "  Downloading category_encoders-2.5.0-py2.py3-none-any.whl (69 kB)\n",
            "\u001b[K     |████████████████████████████████| 69 kB 3.4 MB/s \n",
            "\u001b[?25hRequirement already satisfied: patsy>=0.5.1 in /usr/local/lib/python3.7/dist-packages (from category_encoders) (0.5.2)\n",
            "Requirement already satisfied: scipy>=1.0.0 in /usr/local/lib/python3.7/dist-packages (from category_encoders) (1.7.3)\n",
            "Requirement already satisfied: numpy>=1.14.0 in /usr/local/lib/python3.7/dist-packages (from category_encoders) (1.21.6)\n",
            "Requirement already satisfied: statsmodels>=0.9.0 in /usr/local/lib/python3.7/dist-packages (from category_encoders) (0.12.2)\n",
            "Requirement already satisfied: pandas>=1.0.5 in /usr/local/lib/python3.7/dist-packages (from category_encoders) (1.3.5)\n",
            "Requirement already satisfied: scikit-learn>=0.20.0 in /usr/local/lib/python3.7/dist-packages (from category_encoders) (1.0.2)\n",
            "Requirement already satisfied: python-dateutil>=2.7.3 in /usr/local/lib/python3.7/dist-packages (from pandas>=1.0.5->category_encoders) (2.8.2)\n",
            "Requirement already satisfied: pytz>=2017.3 in /usr/local/lib/python3.7/dist-packages (from pandas>=1.0.5->category_encoders) (2022.2.1)\n",
            "Requirement already satisfied: six in /usr/local/lib/python3.7/dist-packages (from patsy>=0.5.1->category_encoders) (1.15.0)\n",
            "Requirement already satisfied: joblib>=0.11 in /usr/local/lib/python3.7/dist-packages (from scikit-learn>=0.20.0->category_encoders) (1.1.0)\n",
            "Requirement already satisfied: threadpoolctl>=2.0.0 in /usr/local/lib/python3.7/dist-packages (from scikit-learn>=0.20.0->category_encoders) (3.1.0)\n",
            "Installing collected packages: category-encoders\n",
            "Successfully installed category-encoders-2.5.0\n"
          ]
        }
      ]
    },
    {
      "cell_type": "code",
      "source": [
        "!pip3 install eli5"
      ],
      "metadata": {
        "colab": {
          "base_uri": "https://localhost:8080/"
        },
        "id": "iqxKoAw4EjZ4",
        "outputId": "0caeb553-4187-47a0-8a92-f4a5bdab20d1"
      },
      "execution_count": null,
      "outputs": [
        {
          "output_type": "stream",
          "name": "stdout",
          "text": [
            "Looking in indexes: https://pypi.org/simple, https://us-python.pkg.dev/colab-wheels/public/simple/\n",
            "Collecting eli5\n",
            "  Downloading eli5-0.13.0.tar.gz (216 kB)\n",
            "\u001b[K     |████████████████████████████████| 216 kB 9.0 MB/s \n",
            "\u001b[?25hRequirement already satisfied: attrs>17.1.0 in /usr/local/lib/python3.7/dist-packages (from eli5) (22.1.0)\n",
            "Collecting jinja2>=3.0.0\n",
            "  Downloading Jinja2-3.1.2-py3-none-any.whl (133 kB)\n",
            "\u001b[K     |████████████████████████████████| 133 kB 51.2 MB/s \n",
            "\u001b[?25hRequirement already satisfied: numpy>=1.9.0 in /usr/local/lib/python3.7/dist-packages (from eli5) (1.21.6)\n",
            "Requirement already satisfied: scipy in /usr/local/lib/python3.7/dist-packages (from eli5) (1.7.3)\n",
            "Requirement already satisfied: six in /usr/local/lib/python3.7/dist-packages (from eli5) (1.15.0)\n",
            "Requirement already satisfied: scikit-learn>=0.20 in /usr/local/lib/python3.7/dist-packages (from eli5) (1.0.2)\n",
            "Requirement already satisfied: graphviz in /usr/local/lib/python3.7/dist-packages (from eli5) (0.10.1)\n",
            "Requirement already satisfied: tabulate>=0.7.7 in /usr/local/lib/python3.7/dist-packages (from eli5) (0.8.10)\n",
            "Requirement already satisfied: MarkupSafe>=2.0 in /usr/local/lib/python3.7/dist-packages (from jinja2>=3.0.0->eli5) (2.0.1)\n",
            "Requirement already satisfied: joblib>=0.11 in /usr/local/lib/python3.7/dist-packages (from scikit-learn>=0.20->eli5) (1.1.0)\n",
            "Requirement already satisfied: threadpoolctl>=2.0.0 in /usr/local/lib/python3.7/dist-packages (from scikit-learn>=0.20->eli5) (3.1.0)\n",
            "Building wheels for collected packages: eli5\n",
            "  Building wheel for eli5 (setup.py) ... \u001b[?25l\u001b[?25hdone\n",
            "  Created wheel for eli5: filename=eli5-0.13.0-py2.py3-none-any.whl size=107748 sha256=7f9e34eabe9e765e349920c4682cd778be629af697b7d9c699089e59ce3babe1\n",
            "  Stored in directory: /root/.cache/pip/wheels/cc/3c/96/3ead31a8e6c20fc0f1a707fde2e05d49a80b1b4b30096573be\n",
            "Successfully built eli5\n",
            "Installing collected packages: jinja2, eli5\n",
            "  Attempting uninstall: jinja2\n",
            "    Found existing installation: Jinja2 2.11.3\n",
            "    Uninstalling Jinja2-2.11.3:\n",
            "      Successfully uninstalled Jinja2-2.11.3\n",
            "\u001b[31mERROR: pip's dependency resolver does not currently take into account all the packages that are installed. This behaviour is the source of the following dependency conflicts.\n",
            "flask 1.1.4 requires Jinja2<3.0,>=2.10.1, but you have jinja2 3.1.2 which is incompatible.\u001b[0m\n",
            "Successfully installed eli5-0.13.0 jinja2-3.1.2\n"
          ]
        }
      ]
    },
    {
      "cell_type": "code",
      "source": [
        "!pip3 install pdpbox"
      ],
      "metadata": {
        "colab": {
          "base_uri": "https://localhost:8080/",
          "height": 792
        },
        "id": "tK9iTejULhur",
        "outputId": "3074353c-287f-44a6-d640-b30ae0743394"
      },
      "execution_count": null,
      "outputs": [
        {
          "output_type": "stream",
          "name": "stdout",
          "text": [
            "Looking in indexes: https://pypi.org/simple, https://us-python.pkg.dev/colab-wheels/public/simple/\n",
            "Collecting pdpbox\n",
            "  Downloading PDPbox-0.2.1.tar.gz (34.0 MB)\n",
            "\u001b[K     |████████████████████████████████| 34.0 MB 227 kB/s \n",
            "\u001b[?25hRequirement already satisfied: pandas in /usr/local/lib/python3.7/dist-packages (from pdpbox) (1.3.5)\n",
            "Requirement already satisfied: numpy in /usr/local/lib/python3.7/dist-packages (from pdpbox) (1.21.6)\n",
            "Requirement already satisfied: scipy in /usr/local/lib/python3.7/dist-packages (from pdpbox) (1.7.3)\n",
            "Requirement already satisfied: joblib in /usr/local/lib/python3.7/dist-packages (from pdpbox) (1.1.0)\n",
            "Requirement already satisfied: psutil in /usr/local/lib/python3.7/dist-packages (from pdpbox) (5.4.8)\n",
            "Collecting matplotlib==3.1.1\n",
            "  Downloading matplotlib-3.1.1-cp37-cp37m-manylinux1_x86_64.whl (13.1 MB)\n",
            "\u001b[K     |████████████████████████████████| 13.1 MB 42.0 MB/s \n",
            "\u001b[?25hCollecting sklearn\n",
            "  Downloading sklearn-0.0.tar.gz (1.1 kB)\n",
            "Requirement already satisfied: pyparsing!=2.0.4,!=2.1.2,!=2.1.6,>=2.0.1 in /usr/local/lib/python3.7/dist-packages (from matplotlib==3.1.1->pdpbox) (3.0.9)\n",
            "Requirement already satisfied: python-dateutil>=2.1 in /usr/local/lib/python3.7/dist-packages (from matplotlib==3.1.1->pdpbox) (2.8.2)\n",
            "Requirement already satisfied: cycler>=0.10 in /usr/local/lib/python3.7/dist-packages (from matplotlib==3.1.1->pdpbox) (0.11.0)\n",
            "Requirement already satisfied: kiwisolver>=1.0.1 in /usr/local/lib/python3.7/dist-packages (from matplotlib==3.1.1->pdpbox) (1.4.4)\n",
            "Requirement already satisfied: typing-extensions in /usr/local/lib/python3.7/dist-packages (from kiwisolver>=1.0.1->matplotlib==3.1.1->pdpbox) (4.1.1)\n",
            "Requirement already satisfied: six>=1.5 in /usr/local/lib/python3.7/dist-packages (from python-dateutil>=2.1->matplotlib==3.1.1->pdpbox) (1.15.0)\n",
            "Requirement already satisfied: pytz>=2017.3 in /usr/local/lib/python3.7/dist-packages (from pandas->pdpbox) (2022.2.1)\n",
            "Requirement already satisfied: scikit-learn in /usr/local/lib/python3.7/dist-packages (from sklearn->pdpbox) (1.0.2)\n",
            "Requirement already satisfied: threadpoolctl>=2.0.0 in /usr/local/lib/python3.7/dist-packages (from scikit-learn->sklearn->pdpbox) (3.1.0)\n",
            "Building wheels for collected packages: pdpbox, sklearn\n",
            "  Building wheel for pdpbox (setup.py) ... \u001b[?25l\u001b[?25hdone\n",
            "  Created wheel for pdpbox: filename=PDPbox-0.2.1-py3-none-any.whl size=35758224 sha256=fd82877754fb76aa35765e140230d6cb99adcbf059f4142b60623650aa52bee6\n",
            "  Stored in directory: /root/.cache/pip/wheels/f4/d0/1a/b80035625c53131f52906a6fc4dd690d8efd2bf8af6a4015eb\n",
            "  Building wheel for sklearn (setup.py) ... \u001b[?25l\u001b[?25hdone\n",
            "  Created wheel for sklearn: filename=sklearn-0.0-py2.py3-none-any.whl size=1310 sha256=2bc3c8f9163d76a17822555428b40fc24b59f0920778f30220ad621a23dc9fb6\n",
            "  Stored in directory: /root/.cache/pip/wheels/46/ef/c3/157e41f5ee1372d1be90b09f74f82b10e391eaacca8f22d33e\n",
            "Successfully built pdpbox sklearn\n",
            "Installing collected packages: sklearn, matplotlib, pdpbox\n",
            "  Attempting uninstall: matplotlib\n",
            "    Found existing installation: matplotlib 3.2.2\n",
            "    Uninstalling matplotlib-3.2.2:\n",
            "      Successfully uninstalled matplotlib-3.2.2\n",
            "Successfully installed matplotlib-3.1.1 pdpbox-0.2.1 sklearn-0.0\n"
          ]
        },
        {
          "output_type": "display_data",
          "data": {
            "application/vnd.colab-display-data+json": {
              "pip_warning": {
                "packages": [
                  "matplotlib",
                  "mpl_toolkits"
                ]
              }
            }
          },
          "metadata": {}
        }
      ]
    },
    {
      "cell_type": "code",
      "source": [
        "from sklearn.model_selection import train_test_split\n",
        "from sklearn.metrics import accuracy_score\n",
        "from sklearn.preprocessing import StandardScaler\n",
        "from category_encoders import OneHotEncoder\n",
        "from category_encoders import OrdinalEncoder\n",
        "from sklearn.linear_model import LinearRegression, LogisticRegression\n",
        "from sklearn.metrics import classification_report, recall_score, precision_score, f1_score\n",
        "from sklearn.impute import SimpleImputer\n",
        "from sklearn.pipeline import make_pipeline\n",
        "from sklearn.ensemble import RandomForestClassifier\n",
        "from sklearn.model_selection import cross_val_score\n",
        "from xgboost import XGBClassifier\n",
        "from scipy.stats.distributions import uniform\n",
        "from sklearn.model_selection import RandomizedSearchCV\n",
        "from sklearn.metrics import roc_auc_score\n",
        "from sklearn.metrics import roc_curve\n",
        "from hyperopt import hp\n",
        "import eli5\n",
        "from eli5.sklearn import PermutationImportance\n",
        "from pdpbox.pdp import pdp_isolate, pdp_plot\n",
        "from pdpbox.pdp import pdp_interact, pdp_interact_plot"
      ],
      "metadata": {
        "id": "AAFSRp6NcIfL"
      },
      "execution_count": null,
      "outputs": []
    },
    {
      "cell_type": "markdown",
      "source": [
        "---\n",
        "### logistic regression model"
      ],
      "metadata": {
        "id": "JgVs9eMGTY3q"
      }
    },
    {
      "cell_type": "code",
      "source": [
        "df_inst_cp2=df_inst.copy()"
      ],
      "metadata": {
        "id": "HEaN6vMcTicy"
      },
      "execution_count": null,
      "outputs": []
    },
    {
      "cell_type": "code",
      "source": [
        "df_inst_cp2.drop(['문서발급횟수'],axis=1,inplace=True)"
      ],
      "metadata": {
        "id": "tOkhrT73UbUg"
      },
      "execution_count": null,
      "outputs": []
    },
    {
      "cell_type": "code",
      "source": [
        "train, test = train_test_split(df_inst_cp2, test_size=0.2,  random_state=42)\n",
        "train, val = train_test_split(train, train_size=0.80, test_size=0.20, random_state=42)"
      ],
      "metadata": {
        "id": "h52K9w1lUd39"
      },
      "execution_count": null,
      "outputs": []
    },
    {
      "cell_type": "code",
      "source": [
        "def engineer(df):\n",
        "    \"\"\"특성을 엔지니어링 하는 함수입니다.\"\"\"\n",
        "\n",
        "    # 높은 카디널리티를 가지는 특성을 제거합니다.\n",
        "    selected_cols = df.select_dtypes(include=[\"number\", \"object\"])\n",
        "    labels = selected_cols.nunique()  # 특성별 카디널리티 리스트\n",
        "    selected_features = labels[labels <= 30].index.tolist()  # 카디널리티가 30보다 작은 특성만 선택합니다.\n",
        "    df = df[selected_features]\n",
        "\n",
        "    return df\n",
        "\n",
        "train = engineer(train)\n",
        "val = engineer(val)\n",
        "test = engineer(test)"
      ],
      "metadata": {
        "id": "CXpiGTwwUfcj"
      },
      "execution_count": null,
      "outputs": []
    },
    {
      "cell_type": "code",
      "source": [
        "target = '제거여부'"
      ],
      "metadata": {
        "id": "mhQ8z2r8Uhj7"
      },
      "execution_count": null,
      "outputs": []
    },
    {
      "cell_type": "code",
      "source": [
        "X_test, y_test = test.drop(columns=target), test[target]\n",
        "X_val, y_val = val.drop(columns=target), val[target]\n",
        "X_train, y_train = train.drop(columns=target), train[target]\n",
        "print(\"X_train shape: \", X_train.shape)\n",
        "print(\"X_val shape: \", X_val.shape)\n",
        "print(\"X_test shape: \", X_test.shape)"
      ],
      "metadata": {
        "id": "7Vhl3DDMUmfb",
        "outputId": "2ad6e848-8fd6-4e07-d1a5-7033318e5256",
        "colab": {
          "base_uri": "https://localhost:8080/"
        }
      },
      "execution_count": null,
      "outputs": [
        {
          "output_type": "stream",
          "name": "stdout",
          "text": [
            "X_train shape:  (3258, 16)\n",
            "X_val shape:  (815, 16)\n",
            "X_test shape:  (1019, 16)\n"
          ]
        }
      ]
    },
    {
      "cell_type": "code",
      "source": [
        "base = y_train.mode()[0]\n",
        "baseline = len(y_train) * [base]\n",
        "baseline_acc = accuracy_score(y_train, baseline)\n",
        "print(f'기준모델의 정확도는 {baseline_acc.round(3)} 입니다')"
      ],
      "metadata": {
        "id": "WhfiUSeBUorQ",
        "outputId": "a67d165e-e056-48d0-be89-a3ac6dabccbf",
        "colab": {
          "base_uri": "https://localhost:8080/"
        }
      },
      "execution_count": null,
      "outputs": [
        {
          "output_type": "stream",
          "name": "stdout",
          "text": [
            "기준모델의 정확도는 0.761 입니다\n"
          ]
        }
      ]
    },
    {
      "cell_type": "code",
      "source": [
        "numeric_feats = X_train.dtypes[X_train.dtypes != \"object\"].index\n",
        "\n",
        "scaler = StandardScaler()\n",
        "X_train[numeric_feats] = scaler.fit_transform(X_train[numeric_feats])\n",
        "X_val[numeric_feats] = scaler.transform(X_val[numeric_feats])\n",
        "X_test[numeric_feats] = scaler.transform(X_test[numeric_feats])"
      ],
      "metadata": {
        "id": "KnmT46zAdrIr"
      },
      "execution_count": null,
      "outputs": []
    },
    {
      "cell_type": "code",
      "source": [
        "ohe = OneHotEncoder()\n",
        "\n",
        "X_train_ohe = ohe.fit_transform(X_train)\n",
        "X_val_ohe = ohe.transform(X_val)\n",
        "X_test_ohe = ohe.transform(X_test)"
      ],
      "metadata": {
        "id": "5MND656We2DI"
      },
      "execution_count": null,
      "outputs": []
    },
    {
      "cell_type": "code",
      "source": [
        "logistic = LogisticRegression(class_weight='balanced')\n",
        "logistic.fit(X_train_ohe, y_train)\n",
        "y_val_pred = logistic.predict(X_val_ohe)\n",
        "print('logistic train accuracy', logistic.score(X_train_ohe, y_train).round(2))\n",
        "print(\"logistic validation accuracy: \", accuracy_score(y_val, y_val_pred).round(2))"
      ],
      "metadata": {
        "colab": {
          "base_uri": "https://localhost:8080/"
        },
        "id": "AkCnMFyye6dB",
        "outputId": "cc2e46f7-4596-4776-9cf3-13b8cc925915"
      },
      "execution_count": null,
      "outputs": [
        {
          "output_type": "stream",
          "name": "stdout",
          "text": [
            "logistic train accuracy 0.84\n",
            "logistic validation accuracy:  0.84\n"
          ]
        }
      ]
    },
    {
      "cell_type": "code",
      "source": [
        "y_test_pred = logistic.predict(X_test_ohe)\n",
        "print(\"logistic test accuracy: \", accuracy_score(y_test, y_test_pred).round(2))"
      ],
      "metadata": {
        "colab": {
          "base_uri": "https://localhost:8080/"
        },
        "id": "bZjpk9VGfAGY",
        "outputId": "a4567089-6781-40d3-959f-68741b692067"
      },
      "execution_count": null,
      "outputs": [
        {
          "output_type": "stream",
          "name": "stdout",
          "text": [
            "logistic test accuracy:  0.84\n"
          ]
        }
      ]
    },
    {
      "cell_type": "code",
      "source": [
        "y_pred_proba = logistic.predict_proba(X_test_ohe)[:,1]\n",
        "auc = roc_auc_score(y_test, y_pred_proba)\n",
        "print(f\"Logistic Regression의 auc score : {auc.round(3)}\")"
      ],
      "metadata": {
        "colab": {
          "base_uri": "https://localhost:8080/"
        },
        "id": "Nlg52MbRfXht",
        "outputId": "7158257a-49f4-4c7b-d187-2951c56af5ae"
      },
      "execution_count": null,
      "outputs": [
        {
          "output_type": "stream",
          "name": "stdout",
          "text": [
            "Logistic Regression의 auc score : 0.887\n"
          ]
        }
      ]
    },
    {
      "cell_type": "markdown",
      "source": [
        "---\n",
        "### RandomForest model"
      ],
      "metadata": {
        "id": "vUqj4A0RiE8A"
      }
    },
    {
      "cell_type": "code",
      "source": [
        "df_inst_cp3=df_inst.copy()"
      ],
      "metadata": {
        "id": "lxDrDWX3iJh3"
      },
      "execution_count": null,
      "outputs": []
    },
    {
      "cell_type": "code",
      "source": [
        "df_inst_cp3.drop(['문서발급횟수'],axis=1,inplace=True)"
      ],
      "metadata": {
        "id": "IL3USZ94ig4C"
      },
      "execution_count": null,
      "outputs": []
    },
    {
      "cell_type": "code",
      "source": [
        "train, test = train_test_split(df_inst_cp2, test_size=0.2,  random_state=42)\n",
        "train, val = train_test_split(train, train_size=0.80, test_size=0.20, random_state=42)"
      ],
      "metadata": {
        "id": "OZ9inJuyikJT"
      },
      "execution_count": null,
      "outputs": []
    },
    {
      "cell_type": "code",
      "source": [
        "def engineer(df):\n",
        "    \"\"\"특성을 엔지니어링 하는 함수입니다.\"\"\"\n",
        "\n",
        "    # 높은 카디널리티를 가지는 특성을 제거합니다.\n",
        "    selected_cols = df.select_dtypes(include=[\"number\", \"object\"])\n",
        "    labels = selected_cols.nunique()  # 특성별 카디널리티 리스트\n",
        "    selected_features = labels[labels <= 30].index.tolist()  # 카디널리티가 30보다 작은 특성만 선택합니다.\n",
        "    df = df[selected_features]\n",
        "\n",
        "    return df\n",
        "\n",
        "train = engineer(train)\n",
        "val = engineer(val)\n",
        "test = engineer(test)"
      ],
      "metadata": {
        "id": "UbwkrjGPimNS"
      },
      "execution_count": null,
      "outputs": []
    },
    {
      "cell_type": "code",
      "source": [
        "target = '제거여부'"
      ],
      "metadata": {
        "id": "584gq5DGipzj"
      },
      "execution_count": null,
      "outputs": []
    },
    {
      "cell_type": "code",
      "source": [
        "X_test, y_test = test.drop(columns=target), test[target]\n",
        "X_val, y_val = val.drop(columns=target), val[target]\n",
        "X_train, y_train = train.drop(columns=target), train[target]\n",
        "print(\"X_train shape: \", X_train.shape)\n",
        "print(\"X_val shape: \", X_val.shape)\n",
        "print(\"X_test shape: \", X_test.shape)"
      ],
      "metadata": {
        "colab": {
          "base_uri": "https://localhost:8080/"
        },
        "id": "jdv9bhCXiqPZ",
        "outputId": "4b71da0b-57ed-4420-c825-0d1a205f55e5"
      },
      "execution_count": null,
      "outputs": [
        {
          "output_type": "stream",
          "name": "stdout",
          "text": [
            "X_train shape:  (3258, 16)\n",
            "X_val shape:  (815, 16)\n",
            "X_test shape:  (1019, 16)\n"
          ]
        }
      ]
    },
    {
      "cell_type": "code",
      "source": [
        "base = y_train.mode()[0]\n",
        "baseline = len(y_train) * [base]\n",
        "baseline_acc = accuracy_score(y_train, baseline)\n",
        "print(f'기준모델의 정확도는 {baseline_acc.round(3)} 입니다')"
      ],
      "metadata": {
        "colab": {
          "base_uri": "https://localhost:8080/"
        },
        "id": "GD3ryOIjitHH",
        "outputId": "88a92faa-3182-4870-dab8-b05c2bc426bd"
      },
      "execution_count": null,
      "outputs": [
        {
          "output_type": "stream",
          "name": "stdout",
          "text": [
            "기준모델의 정확도는 0.761 입니다\n"
          ]
        }
      ]
    },
    {
      "cell_type": "code",
      "source": [
        "pipe_rf = make_pipeline(\n",
        "    OrdinalEncoder(),\n",
        "    SimpleImputer(),\n",
        "    RandomForestClassifier(max_depth=8, random_state=42, oob_score=True, n_jobs=-1),\n",
        ")\n",
        "\n",
        "pipe_rf.fit(X_train, y_train)\n",
        "\n",
        "y_val_pred_proba = pipe_rf.predict_proba(X_val)[:,1]\n",
        "auc = roc_auc_score(y_val, y_val_pred_proba)\n",
        "print(f\"RandomForestClassifier의 val auc score : {auc.round(3)}\")\n",
        "\n",
        "y_test_pred_proba = pipe_rf.predict_proba(X_test)[:,1]\n",
        "auc = roc_auc_score(y_test, y_test_pred_proba)\n",
        "print(f\"RandomForestClassifier의 test auc score : {auc.round(3)}\")"
      ],
      "metadata": {
        "colab": {
          "base_uri": "https://localhost:8080/"
        },
        "id": "f9a1KwnykFwD",
        "outputId": "bc3baabc-6543-4dbb-fa51-acad1be4ba0e"
      },
      "execution_count": null,
      "outputs": [
        {
          "output_type": "stream",
          "name": "stdout",
          "text": [
            "RandomForestClassifier의 val auc score : 0.885\n",
            "RandomForestClassifier의 test auc score : 0.883\n"
          ]
        }
      ]
    },
    {
      "cell_type": "markdown",
      "source": [
        "---\n",
        "### XGBoosting model"
      ],
      "metadata": {
        "id": "TvGJS9fOjKBv"
      }
    },
    {
      "cell_type": "code",
      "source": [
        "!pip3 install xgboost"
      ],
      "metadata": {
        "colab": {
          "base_uri": "https://localhost:8080/"
        },
        "id": "yM2VdQW9uU9y",
        "outputId": "38ce2c45-ca9c-4017-b962-ae31c6c10d8c"
      },
      "execution_count": null,
      "outputs": [
        {
          "output_type": "stream",
          "name": "stdout",
          "text": [
            "Looking in indexes: https://pypi.org/simple, https://us-python.pkg.dev/colab-wheels/public/simple/\n",
            "Requirement already satisfied: xgboost in /usr/local/lib/python3.7/dist-packages (0.90)\n",
            "Requirement already satisfied: scipy in /usr/local/lib/python3.7/dist-packages (from xgboost) (1.7.3)\n",
            "Requirement already satisfied: numpy in /usr/local/lib/python3.7/dist-packages (from xgboost) (1.21.6)\n"
          ]
        }
      ]
    },
    {
      "cell_type": "code",
      "source": [
        "df_inst_cp=df_inst.copy()"
      ],
      "metadata": {
        "id": "fdeZ6WYkrlV0"
      },
      "execution_count": null,
      "outputs": []
    },
    {
      "cell_type": "code",
      "source": [
        "df_inst_cp.drop(['문서발급횟수'],axis=1,inplace=True)"
      ],
      "metadata": {
        "id": "1GRJdGlWrq5W"
      },
      "execution_count": null,
      "outputs": []
    },
    {
      "cell_type": "code",
      "source": [
        "train, test = train_test_split(df_inst_cp, test_size=0.2,  random_state=42)\n",
        "train, val = train_test_split(train, train_size=0.80, test_size=0.20, random_state=42)"
      ],
      "metadata": {
        "id": "OGWM2R5XjUdZ"
      },
      "execution_count": null,
      "outputs": []
    },
    {
      "cell_type": "code",
      "source": [
        "def engineer(df):\n",
        "    \"\"\"특성을 엔지니어링 하는 함수입니다.\"\"\"\n",
        "\n",
        "    # 높은 카디널리티를 가지는 특성을 제거합니다.\n",
        "    selected_cols = df.select_dtypes(include=[\"number\", \"object\"])\n",
        "    labels = selected_cols.nunique()  # 특성별 카디널리티 리스트\n",
        "    selected_features = labels[labels <= 30].index.tolist()  # 카디널리티가 30보다 작은 특성만 선택합니다.\n",
        "    df = df[selected_features]\n",
        "\n",
        "    return df\n",
        "\n",
        "train = engineer(train)\n",
        "val = engineer(val)\n",
        "test = engineer(test)"
      ],
      "metadata": {
        "id": "6w9yWqFAkPPg"
      },
      "execution_count": null,
      "outputs": []
    },
    {
      "cell_type": "code",
      "source": [
        "target = '제거여부'"
      ],
      "metadata": {
        "id": "B2O3cto0kpeQ"
      },
      "execution_count": null,
      "outputs": []
    },
    {
      "cell_type": "code",
      "source": [
        "X_test, y_test = test.drop(columns=target), test[target]\n",
        "X_val, y_val = val.drop(columns=target), val[target]\n",
        "X_train, y_train = train.drop(columns=target), train[target]\n",
        "print(\"X_train shape: \", X_train.shape)\n",
        "print(\"X_val shape: \", X_val.shape)\n",
        "print(\"X_test shape: \", X_test.shape)"
      ],
      "metadata": {
        "colab": {
          "base_uri": "https://localhost:8080/"
        },
        "id": "fA8KQoRgkUyr",
        "outputId": "ac5c1558-403a-4130-f7a5-894647b03daf"
      },
      "execution_count": null,
      "outputs": [
        {
          "output_type": "stream",
          "name": "stdout",
          "text": [
            "X_train shape:  (3258, 16)\n",
            "X_val shape:  (815, 16)\n",
            "X_test shape:  (1019, 16)\n"
          ]
        }
      ]
    },
    {
      "cell_type": "code",
      "source": [
        "base = y_train.mode()[0]\n",
        "baseline = len(y_train) * [base]\n",
        "baseline_acc = accuracy_score(y_train, baseline)\n",
        "print(f'기준모델의 정확도는 {baseline_acc.round(3)} 입니다')"
      ],
      "metadata": {
        "colab": {
          "base_uri": "https://localhost:8080/"
        },
        "id": "eo-6yVv5kyuj",
        "outputId": "20158b21-e427-4e90-bd17-deab63603dca"
      },
      "execution_count": null,
      "outputs": [
        {
          "output_type": "stream",
          "name": "stdout",
          "text": [
            "기준모델의 정확도는 0.761 입니다\n"
          ]
        }
      ]
    },
    {
      "cell_type": "code",
      "source": [
        "\"\"\"\n",
        "params = {\n",
        "    \"simpleimputer__strategy\": hp.choice(\"strategy\", [\"median\", \"mean\"]),\n",
        "    \"xgbclassifier__max_depth\": hp.quniform(\"max_depth\", 2, 10, 2),\n",
        "    \"xgbclassifier__min_child_weight\": hp.quniform(\"min_child_weight\", 2, 10, 2),\n",
        "    \"xgbclassifier__colsample_bytree\": hp.uniform(\"colsample_bytree\", 0.5, 1.0),\n",
        "}\n",
        "\"\"\""
      ],
      "metadata": {
        "colab": {
          "base_uri": "https://localhost:8080/",
          "height": 54
        },
        "id": "EDpYj-ssu7dq",
        "outputId": "3ab95e7d-1f91-4399-e1a8-269aba6f493c"
      },
      "execution_count": null,
      "outputs": [
        {
          "output_type": "execute_result",
          "data": {
            "text/plain": [
              "'\\nparams = {\\n    \"simpleimputer__strategy\": hp.choice(\"strategy\", [\"median\", \"mean\"]),\\n    \"xgbclassifier__max_depth\": hp.quniform(\"max_depth\", 2, 10, 2),\\n    \"xgbclassifier__min_child_weight\": hp.quniform(\"min_child_weight\", 2, 10, 2),\\n    \"xgbclassifier__colsample_bytree\": hp.uniform(\"colsample_bytree\", 0.5, 1.0),\\n}\\n'"
            ],
            "application/vnd.google.colaboratory.intrinsic+json": {
              "type": "string"
            }
          },
          "metadata": {},
          "execution_count": 79
        }
      ]
    },
    {
      "cell_type": "code",
      "source": [
        "\"\"\"\n",
        "from hyperopt import fmin, tpe, Trials, STATUS_OK\n",
        "from sklearn.model_selection import cross_val_score\n",
        "import numpy as np\n",
        "\n",
        "\n",
        "def get_pipe(params):\n",
        "    params[\"xgbclassifier__max_depth\"] = int(\n",
        "        params[\"xgbclassifier__max_depth\"]\n",
        "    )  # max_depth는 정수형으로 변환해 줍니다.\n",
        "    pipe = make_pipeline(\n",
        "        OrdinalEncoder(),\n",
        "        SimpleImputer(strategy=\"median\"),\n",
        "        XGBClassifier(\n",
        "            objective=\"binary:logistic\",\n",
        "            eval_metric=\"error\",\n",
        "            n_estimators=200,\n",
        "            random_state=42,\n",
        "            n_jobs=-1,\n",
        "            learning_rate=0.15,\n",
        "            use_label_encoder=False,\n",
        "        ),\n",
        "    )\n",
        "    pipe = pipe.set_params(**params)\n",
        "    return pipe\n",
        "\n",
        "\n",
        "def fit_and_eval(params):\n",
        "    pipe = get_pipe(params)  # 주어진 params로 파이프라인을 만들어 가져옵니다.\n",
        "    score = cross_val_score(pipe, X_train, y_train, cv=3, scoring=\"roc_auc\")\n",
        "    avg_cv_score = np.mean(score)\n",
        "    # roc_auc는 클수록 좋은 metric이므로, hyperopt.fmin이 roc_auc를 최대화하도록 하기 위해 -부호를 붙여 반환합니다.\n",
        "    return {\"loss\": -avg_cv_score, \"status\": STATUS_OK}\n",
        "\n",
        "\n",
        "trials = (\n",
        "    Trials()\n",
        ")  # Trials() 객체를 fmin에 함께 넣어 실행하면, 실행되는 매 fit의 학습 정보 및 학습 결과가 해당 객체에 모두 저장됩니다.\n",
        "\n",
        "best_params = fmin(\n",
        "    fn=fit_and_eval, trials=trials, space=params, algo=tpe.suggest, max_evals=1000\n",
        ")\n",
        "\"\"\""
      ],
      "metadata": {
        "colab": {
          "base_uri": "https://localhost:8080/",
          "height": 110
        },
        "id": "rGY7hixGvZI2",
        "outputId": "13fc5faa-fd95-47dc-8920-2e02c2cb79c1"
      },
      "execution_count": null,
      "outputs": [
        {
          "output_type": "execute_result",
          "data": {
            "text/plain": [
              "'\\nfrom hyperopt import fmin, tpe, Trials, STATUS_OK\\nfrom sklearn.model_selection import cross_val_score\\nimport numpy as np\\n\\n\\ndef get_pipe(params):\\n    params[\"xgbclassifier__max_depth\"] = int(\\n        params[\"xgbclassifier__max_depth\"]\\n    )  # max_depth는 정수형으로 변환해 줍니다.\\n    pipe = make_pipeline(\\n        OrdinalEncoder(),\\n        SimpleImputer(strategy=\"median\"),\\n        XGBClassifier(\\n            objective=\"binary:logistic\",\\n            eval_metric=\"error\",\\n            n_estimators=200,\\n            random_state=42,\\n            n_jobs=-1,\\n            learning_rate=0.15,\\n            use_label_encoder=False,\\n        ),\\n    )\\n    pipe = pipe.set_params(**params)\\n    return pipe\\n\\n\\ndef fit_and_eval(params):\\n    pipe = get_pipe(params)  # 주어진 params로 파이프라인을 만들어 가져옵니다.\\n    score = cross_val_score(pipe, X_train, y_train, cv=3, scoring=\"roc_auc\")\\n    avg_cv_score = np.mean(score)\\n    # roc_auc는 클수록 좋은 metric이므로, hyperopt.fmin이 roc_auc를 최대화하도록 하기 위해 -부호를 붙여 반환합니다.\\n    return {\"loss\": -avg_cv_score, \"status\": STATUS_OK}\\n\\n\\ntrials = (\\n    Trials()\\n)  # Trials() 객체를 fmin에 함께 넣어 실행하면, 실행되는 매 fit의 학습 정보 및 학습 결과가 해당 객체에 모두 저장됩니다.\\n\\nbest_params = fmin(\\n    fn=fit_and_eval, trials=trials, space=params, algo=tpe.suggest, max_evals=1000\\n)\\n'"
            ],
            "application/vnd.google.colaboratory.intrinsic+json": {
              "type": "string"
            }
          },
          "metadata": {},
          "execution_count": 80
        }
      ]
    },
    {
      "cell_type": "code",
      "source": [
        "#print(\"최적 하이퍼파라미터: \", trials.best_trial[\"misc\"][\"vals\"])\n",
        "#print(\"최적 AUC: \", -trials.best_trial[\"result\"][\"loss\"])"
      ],
      "metadata": {
        "id": "KxBXr-4ixPK4"
      },
      "execution_count": null,
      "outputs": []
    },
    {
      "cell_type": "code",
      "source": [
        "pipe = make_pipeline(\n",
        "    OrdinalEncoder(),\n",
        "    SimpleImputer(strategy=\"median\"),\n",
        "    XGBClassifier(\n",
        "        objective=\"binary:logistic\",\n",
        "        eval_metric=\"auc\",\n",
        "        n_estimators=200,\n",
        "        random_state=42,\n",
        "        colsample_bytree=0.53,\n",
        "        min_child_weight = 10,\n",
        "        n_jobs=-1,\n",
        "        max_depth=6,\n",
        "        learning_rate=0.15,\n",
        "    ),\n",
        ")"
      ],
      "metadata": {
        "id": "5rrnG9h7k0Pq"
      },
      "execution_count": null,
      "outputs": []
    },
    {
      "cell_type": "code",
      "source": [
        "pipe.fit(X_train, y_train)\n",
        "\n",
        "y_val_pred_proba = pipe.predict_proba(X_val)[:, 1]\n",
        "roc_auc_score(y_val, y_val_pred_proba)"
      ],
      "metadata": {
        "colab": {
          "base_uri": "https://localhost:8080/"
        },
        "id": "2mPJ_f_V_LAT",
        "outputId": "5385e89c-a1c6-4ff9-d57b-256565a453a5"
      },
      "execution_count": null,
      "outputs": [
        {
          "output_type": "execute_result",
          "data": {
            "text/plain": [
              "0.8921759281767061"
            ]
          },
          "metadata": {},
          "execution_count": 83
        }
      ]
    },
    {
      "cell_type": "code",
      "source": [
        "y_test_pred_proba = pipe.predict_proba(X_test)[:, 1]\n",
        "roc_auc_score(y_test, y_test_pred_proba)"
      ],
      "metadata": {
        "colab": {
          "base_uri": "https://localhost:8080/"
        },
        "id": "1kZBqArGxfDJ",
        "outputId": "2de0ff9b-e600-4589-dbc7-5331353e212f"
      },
      "execution_count": null,
      "outputs": [
        {
          "output_type": "execute_result",
          "data": {
            "text/plain": [
              "0.8895771082337318"
            ]
          },
          "metadata": {},
          "execution_count": 84
        }
      ]
    },
    {
      "cell_type": "code",
      "source": [
        "pi = pd.Series(dtype=float)\n",
        "\n",
        "n_iter = 10  # 랜덤으로 특성을 섞어 평가 성능을 확인하는 과정을 몇 번 반복할지 결정합니다.\n",
        "features = test.drop(columns=target).columns\n",
        "score = pipe.score(X_test, y_test)\n",
        "for feature in features:\n",
        "    X_test_permed = X_test.copy()\n",
        "\n",
        "    # 모델을 재학습하지 않고, 기존 모델에서 feature 값을 여러 번(n_iter) 섞고 검증하여 평균 성능을 확인합니다.\n",
        "    scores_permutated = []\n",
        "    for _ in range(n_iter):\n",
        "        X_test_permed[feature] = np.random.permutation(X_test_permed[feature])\n",
        "        scores_permutated.append(pipe.score(X_test_permed, y_test))\n",
        "    avg_score_permutated = np.mean(scores_permutated)\n",
        "    print(f\"Perm {feature} :: 검증 정확도 {avg_score_permutated:.6f}\")\n",
        "\n",
        "    # permutation importance는 해당 특성을 랜덤으로 섞었을 때의 성능 하락폭으로 정의됩니다.\n",
        "    pi[feature] = score - avg_score_permutated"
      ],
      "metadata": {
        "colab": {
          "base_uri": "https://localhost:8080/"
        },
        "id": "wtiMLEacB8Df",
        "outputId": "f1036d13-6ffb-4e19-e3ff-b662ff3d8853"
      },
      "execution_count": null,
      "outputs": [
        {
          "output_type": "stream",
          "name": "stdout",
          "text": [
            "Perm 장애인편의발급기형태 :: 검증 정확도 0.863886\n",
            "Perm 시각장애인용키패드 :: 검증 정확도 0.863297\n",
            "Perm 시각장애인용음성안내 :: 검증 정확도 0.861237\n",
            "Perm 청각장애인용화면안내 :: 검증 정확도 0.863592\n",
            "Perm 점자라벨부착 :: 검증 정확도 0.862022\n",
            "Perm 이어폰소켓 :: 검증 정확도 0.861138\n",
            "Perm 촉각모니터 :: 검증 정확도 0.862218\n",
            "Perm 화면확대기능 :: 검증 정확도 0.863592\n",
            "Perm 휠체어사용자조작 :: 검증 정확도 0.864573\n",
            "Perm 설치장소위치 :: 검증 정확도 0.669382\n",
            "Perm 갱신 연도 :: 검증 정확도 0.860648\n",
            "Perm 갱신 월 :: 검증 정확도 0.856722\n",
            "Perm 평일운영시작_hour :: 검증 정확도 0.847596\n",
            "Perm 평일운영시작_min :: 검증 정확도 0.864966\n",
            "Perm 평일운영종료_hour :: 검증 정확도 0.838175\n",
            "Perm 평일운영종료_min :: 검증 정확도 0.862905\n"
          ]
        }
      ]
    },
    {
      "cell_type": "code",
      "source": [
        "plt.figure(figsize=(7,5))\n",
        "pi.sort_values().plot.barh()\n",
        "plt.title(\"Permutation Importance\")"
      ],
      "metadata": {
        "colab": {
          "base_uri": "https://localhost:8080/",
          "height": 352
        },
        "id": "EBSw6IHwJ_ZE",
        "outputId": "068655fa-546d-4db9-aca7-ec3d1d456105"
      },
      "execution_count": null,
      "outputs": [
        {
          "output_type": "execute_result",
          "data": {
            "text/plain": [
              "Text(0.5, 1.0, 'Permutation Importance')"
            ]
          },
          "metadata": {},
          "execution_count": 96
        },
        {
          "output_type": "display_data",
          "data": {
            "text/plain": [
              "<Figure size 504x360 with 1 Axes>"
            ],
            "image/png": "[encoded data removed]"
          },
          "metadata": {
            "needs_background": "light"
          }
        }
      ]
    },
    {
      "cell_type": "code",
      "source": [
        "preprocess_pipeline = pipe.named_steps[\"ordinalencoder\"]\n",
        "X_test_encoded = preprocess_pipeline.transform(X_test)"
      ],
      "metadata": {
        "id": "3RzB6QlZMPBb"
      },
      "execution_count": null,
      "outputs": []
    },
    {
      "cell_type": "code",
      "source": [
        "X_val_encoded = preprocess_pipeline.transform(X_val)"
      ],
      "metadata": {
        "id": "46ZoH95rNqKC"
      },
      "execution_count": null,
      "outputs": []
    },
    {
      "cell_type": "code",
      "source": [
        "target_feature = \"평일운영종료_hour\"\n",
        "\n",
        "isolated = pdp_isolate(\n",
        "    model=pipe,\n",
        "    dataset=X_test_encoded,\n",
        "    model_features=X_test_encoded.columns,\n",
        "    feature=target_feature,\n",
        "    grid_type=\"percentile\",  # default = 'percentile', or 'equal'\n",
        "    num_grid_points=10,  # default = 10\n",
        ")"
      ],
      "metadata": {
        "id": "6TMXnSO6LUwg"
      },
      "execution_count": null,
      "outputs": []
    },
    {
      "cell_type": "code",
      "source": [
        "pdp_plot(\n",
        "    isolated,\n",
        "    feature_name=target_feature,\n",
        "    plot_lines=True,  # ICE plots\n",
        "    frac_to_plot=50,  # float type을 입력하면 전체 데이터 갯수 중 plotting할 데이터 수의 비율이 됩니다. int type을 입력하면 데이터의 수가 됩니다.\n",
        "    plot_pts_dist=True,\n",
        ")"
      ],
      "metadata": {
        "colab": {
          "base_uri": "https://localhost:8080/",
          "height": 691
        },
        "id": "0i1xPSISM5iV",
        "outputId": "7ac09aa5-9258-4c7f-a81d-872e685e8f0b"
      },
      "execution_count": null,
      "outputs": [
        {
          "output_type": "execute_result",
          "data": {
            "text/plain": [
              "(<Figure size 1080x684 with 3 Axes>,\n",
              " {'title_ax': <matplotlib.axes._subplots.AxesSubplot at 0x7f593e8a6210>,\n",
              "  'pdp_ax': {'_pdp_ax': <matplotlib.axes._subplots.AxesSubplot at 0x7f58bff34510>,\n",
              "   '_count_ax': <matplotlib.axes._subplots.AxesSubplot at 0x7f58bff639d0>}})"
            ]
          },
          "metadata": {},
          "execution_count": 90
        },
        {
          "output_type": "stream",
          "name": "stderr",
          "text": [
            "WARNING:matplotlib.font_manager:findfont: Font family ['Arial'] not found. Falling back to DejaVu Sans.\n",
            "WARNING:matplotlib.font_manager:findfont: Font family ['Arial'] not found. Falling back to DejaVu Sans.\n",
            "WARNING:matplotlib.font_manager:findfont: Font family ['Arial'] not found. Falling back to DejaVu Sans.\n",
            "WARNING:matplotlib.font_manager:findfont: Font family ['Arial'] not found. Falling back to DejaVu Sans.\n"
          ]
        },
        {
          "output_type": "display_data",
          "data": {
            "text/plain": [
              "<Figure size 1080x684 with 3 Axes>"
            ],
            "image/png": "[encoded data removed]"
          },
          "metadata": {
            "needs_background": "light"
          }
        }
      ]
    },
    {
      "cell_type": "code",
      "source": [
        "target_feature = \"평일운영시작_hour\"\n",
        "\n",
        "isolated = pdp_isolate(\n",
        "    model=pipe,\n",
        "    dataset=X_test_encoded,\n",
        "    model_features=X_test_encoded.columns,\n",
        "    feature=target_feature,\n",
        "    grid_type=\"percentile\",  # default = 'percentile', or 'equal'\n",
        "    num_grid_points=10,  # default = 10\n",
        ")"
      ],
      "metadata": {
        "id": "3cVDx6VpPI-L"
      },
      "execution_count": null,
      "outputs": []
    },
    {
      "cell_type": "code",
      "source": [
        "pdp_plot(\n",
        "    isolated,\n",
        "    feature_name=target_feature,\n",
        "    plot_lines=True,  # ICE plots\n",
        "    frac_to_plot=50,  # float type을 입력하면 전체 데이터 갯수 중 plotting할 데이터 수의 비율이 됩니다. int type을 입력하면 데이터의 수가 됩니다.\n",
        "    plot_pts_dist=True,\n",
        ")"
      ],
      "metadata": {
        "colab": {
          "base_uri": "https://localhost:8080/",
          "height": 636
        },
        "id": "fH7u6_4JPJLi",
        "outputId": "e4c4fde9-526a-4b83-8aa7-76e60e304592"
      },
      "execution_count": null,
      "outputs": [
        {
          "output_type": "execute_result",
          "data": {
            "text/plain": [
              "(<Figure size 1080x684 with 3 Axes>,\n",
              " {'title_ax': <matplotlib.axes._subplots.AxesSubplot at 0x7f58bfdc5dd0>,\n",
              "  'pdp_ax': {'_pdp_ax': <matplotlib.axes._subplots.AxesSubplot at 0x7f58bfd834d0>,\n",
              "   '_count_ax': <matplotlib.axes._subplots.AxesSubplot at 0x7f58bfd349d0>}})"
            ]
          },
          "metadata": {},
          "execution_count": 92
        },
        {
          "output_type": "display_data",
          "data": {
            "text/plain": [
              "<Figure size 1080x684 with 3 Axes>"
            ],
            "image/png": "[encoded data removed]"
          },
          "metadata": {
            "needs_background": "light"
          }
        }
      ]
    },
    {
      "cell_type": "code",
      "source": [
        "target_features = [\"갱신 연도\", \"갱신 월\"]\n",
        "\n",
        "interaction = pdp_interact(\n",
        "    model=pipe,\n",
        "    dataset=X_test_encoded,\n",
        "    model_features=X_test_encoded.columns,\n",
        "    features=target_features,\n",
        ")"
      ],
      "metadata": {
        "id": "J3aC-jRtRCB5"
      },
      "execution_count": null,
      "outputs": []
    },
    {
      "cell_type": "code",
      "source": [
        "pdp_interact_plot(interaction, plot_type=\"grid\", feature_names=target_features)"
      ],
      "metadata": {
        "colab": {
          "base_uri": "https://localhost:8080/",
          "height": 636
        },
        "id": "BgwFOME4RYH1",
        "outputId": "bcd127f6-1baa-4250-814e-9c709b3e2df2"
      },
      "execution_count": null,
      "outputs": [
        {
          "output_type": "execute_result",
          "data": {
            "text/plain": [
              "(<Figure size 540x684 with 3 Axes>,\n",
              " {'title_ax': <matplotlib.axes._subplots.AxesSubplot at 0x7f58bfc87f50>,\n",
              "  'pdp_inter_ax': <matplotlib.axes._subplots.AxesSubplot at 0x7f58bfbc8510>})"
            ]
          },
          "metadata": {},
          "execution_count": 94
        },
        {
          "output_type": "stream",
          "name": "stderr",
          "text": [
            "WARNING:matplotlib.font_manager:findfont: Font family ['Arial'] not found. Falling back to DejaVu Sans.\n"
          ]
        },
        {
          "output_type": "display_data",
          "data": {
            "text/plain": [
              "<Figure size 540x684 with 3 Axes>"
            ],
            "image/png": "[encoded data removed]"
          },
          "metadata": {
            "needs_background": "light"
          }
        }
      ]
    }
  ]
}